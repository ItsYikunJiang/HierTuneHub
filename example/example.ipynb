{
 "cells": [
  {
   "cell_type": "markdown",
   "source": [
    "This is an example notebook on how to use `SearchSpace`"
   ],
   "metadata": {
    "collapsed": false
   },
   "id": "bd470ddc19833da6"
  },
  {
   "cell_type": "code",
   "execution_count": null,
   "id": "initial_id",
   "metadata": {
    "collapsed": true
   },
   "outputs": [],
   "source": [
    "# import necessary libraries\n",
    "from HPSearchSpace import SearchSpace, create_tuner\n",
    "\n",
    "import time\n",
    "\n",
    "from sklearn.datasets import load_iris\n",
    "from sklearn.model_selection import cross_val_score\n",
    "from sklearn.svm import SVC\n",
    "from sklearn.ensemble import RandomForestClassifier, GradientBoostingClassifier\n",
    "from sklearn.neighbors import KNeighborsClassifier\n",
    "\n",
    "iris = load_iris()\n",
    "x, y = iris.data, iris.target\n",
    "\n",
    "def objective(config):\n",
    "    config = config['estimators']\n",
    "    name = config.pop(\"name\")\n",
    "    if name == \"sklearn.svm.SVC\":\n",
    "        c = config.pop(\"C\")\n",
    "        kernel = config['kernel'].pop(\"name\")\n",
    "        kernel_params = config['kernel']\n",
    "        model = SVC(C=c, kernel=kernel, **kernel_params)\n",
    "    elif name == \"sklearn.ensemble.RandomForestClassifier\":\n",
    "        model = RandomForestClassifier(**config)\n",
    "    elif name == \"sklearn.ensemble.GradientBoostingClassifier\":\n",
    "        model = GradientBoostingClassifier(**config)\n",
    "    elif name == \"sklearn.neighbors.KNeighborsClassifier\":\n",
    "        model = KNeighborsClassifier(**config)\n",
    "    else:\n",
    "        raise ValueError(f\"Unknown estimator: {config['estimator']}\")\n",
    "    \n",
    "    t_start = time.time()\n",
    "    acc = cross_val_score(model, x, y, cv=5).mean()\n",
    "    t_end = time.time()\n",
    "    return {\n",
    "        'acc': acc, \n",
    "        'time': t_end - t_start\n",
    "    }"
   ]
  },
  {
   "cell_type": "code",
   "execution_count": 2,
   "outputs": [
    {
     "name": "stderr",
     "output_type": "stream",
     "text": [
      "TPE is being used as the default algorithm.\n"
     ]
    },
    {
     "name": "stdout",
     "output_type": "stream",
     "text": [
      "100%|██████████| 10/10 [00:53<00:00,  5.38s/trial, best loss: -0.9800000000000001]\n"
     ]
    }
   ],
   "source": [
    "search_space = SearchSpace(\"example.yaml\")\n",
    "hyperopt_tuner = create_tuner(objective,\n",
    "                              search_space,\n",
    "                              mode=\"max\",\n",
    "                              metric=\"acc\",\n",
    "                              framework=\"hyperopt\",\n",
    "                              max_evals=10  # number of evaluation times\n",
    "                              )\n",
    "hyperopt_tuner.run()"
   ],
   "metadata": {
    "collapsed": false,
    "ExecuteTime": {
     "end_time": "2025-02-25T22:17:14.251442800Z",
     "start_time": "2025-02-25T22:16:20.425359Z"
    }
   },
   "id": "88e981023f8def1b"
  },
  {
   "cell_type": "code",
   "execution_count": 3,
   "outputs": [
    {
     "name": "stdout",
     "output_type": "stream",
     "text": [
      "{'estimators': {'C': 1.9537341171427107, 'kernel': {'gamma': 'auto', 'name': 'rbf'}, 'name': 'sklearn.svm.SVC'}}\n",
      "{'acc': np.float64(0.9800000000000001), 'time': 0.012115001678466797}\n"
     ]
    }
   ],
   "source": [
    "best_params = hyperopt_tuner.best_params\n",
    "best_result = hyperopt_tuner.best_result\n",
    "\n",
    "print(best_params)\n",
    "print(best_result)"
   ],
   "metadata": {
    "collapsed": false,
    "ExecuteTime": {
     "end_time": "2025-02-25T22:17:14.257003600Z",
     "start_time": "2025-02-25T22:17:14.251442800Z"
    }
   },
   "id": "e1696f3a01083b88"
  }
 ],
 "metadata": {
  "kernelspec": {
   "display_name": "Python 3",
   "language": "python",
   "name": "python3"
  },
  "language_info": {
   "codemirror_mode": {
    "name": "ipython",
    "version": 2
   },
   "file_extension": ".py",
   "mimetype": "text/x-python",
   "name": "python",
   "nbconvert_exporter": "python",
   "pygments_lexer": "ipython2",
   "version": "2.7.6"
  }
 },
 "nbformat": 4,
 "nbformat_minor": 5
}
