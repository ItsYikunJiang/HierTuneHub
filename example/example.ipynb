{
 "cells": [
  {
   "cell_type": "markdown",
   "source": [
    "This is an example notebook on how to use `SearchSpace`"
   ],
   "metadata": {
    "collapsed": false
   },
   "id": "bd470ddc19833da6"
  },
  {
   "cell_type": "code",
   "execution_count": null,
   "id": "initial_id",
   "metadata": {
    "collapsed": true
   },
   "outputs": [],
   "source": [
    "# import necessary libraries\n",
    "from HPSearchSpace import SearchSpace\n",
    "\n",
    "import hyperopt\n",
    "import optuna\n",
    "from flaml.tune import tune\n",
    "\n",
    "from sklearn.datasets import load_iris\n",
    "from sklearn.model_selection import cross_val_score"
   ]
  },
  {
   "cell_type": "markdown",
   "source": [
    "To demonstrate how to use `SearchSpace` for different hyperparameter optimization libraries, we use the `iris` dataset to perform a simple classification task."
   ],
   "metadata": {
    "collapsed": false
   },
   "id": "6ade9c2fd2c721b1"
  },
  {
   "cell_type": "code",
   "execution_count": 2,
   "outputs": [],
   "source": [
    "iris = load_iris()\n",
    "x, y = iris.data, iris.target"
   ],
   "metadata": {
    "collapsed": false,
    "ExecuteTime": {
     "end_time": "2025-02-05T19:41:46.457103300Z",
     "start_time": "2025-02-05T19:41:46.447624800Z"
    }
   },
   "id": "dbaae1ae5e760f8c"
  },
  {
   "cell_type": "markdown",
   "source": [
    "The first step is to define what machine learning methods and what hyperparameter to optimize. The configuration is already stored in `example.yaml` file. We can simply load it."
   ],
   "metadata": {
    "collapsed": false
   },
   "id": "ecf88e037b1e3e2e"
  },
  {
   "cell_type": "code",
   "execution_count": 3,
   "outputs": [],
   "source": [
    "search_space = SearchSpace(config_file='example.yaml')"
   ],
   "metadata": {
    "collapsed": false,
    "ExecuteTime": {
     "end_time": "2025-02-05T19:41:46.463286300Z",
     "start_time": "2025-02-05T19:41:46.456011800Z"
    }
   },
   "id": "54863fcee503f47f"
  },
  {
   "cell_type": "markdown",
   "source": [
    "The next step is to define an objective function that takes in the config and returns a score to minimize. We simply use the cross-validation score as the objective function."
   ],
   "metadata": {
    "collapsed": false
   },
   "id": "9e7cc548f63a2c40"
  },
  {
   "cell_type": "code",
   "execution_count": 4,
   "outputs": [],
   "source": [
    "def objective(config):\n",
    "    estimator = config['estimators']['estimator_class']\n",
    "    params = config['estimators']['params']\n",
    "    model = estimator(**params)\n",
    "    score = cross_val_score(model, x, y, cv=5).mean()\n",
    "    return -score"
   ],
   "metadata": {
    "collapsed": false,
    "ExecuteTime": {
     "end_time": "2025-02-05T19:41:46.468336700Z",
     "start_time": "2025-02-05T19:41:46.463286300Z"
    }
   },
   "id": "626643bea4cea830"
  },
  {
   "cell_type": "markdown",
   "source": [
    "Then, we can use different packages to optimize the hyperparameters. Note that for each run, the results may vary."
   ],
   "metadata": {
    "collapsed": false
   },
   "id": "61c447e60799ef3b"
  },
  {
   "cell_type": "markdown",
   "source": [
    "- Hyperopt"
   ],
   "metadata": {
    "collapsed": false
   },
   "id": "5b6ae20a0f6ea7f0"
  },
  {
   "cell_type": "code",
   "execution_count": 5,
   "outputs": [
    {
     "name": "stdout",
     "output_type": "stream",
     "text": [
      "100%|██████████| 100/100 [01:43<00:00,  1.03s/trial, best loss: -0.9866666666666667]\n"
     ]
    }
   ],
   "source": [
    "hyperopt_space = search_space.get_hyperopt_space()\n",
    "hp_trials = hyperopt.Trials()\n",
    "hp_best = hyperopt.fmin(objective, hyperopt_space, trials=hp_trials, algo=hyperopt.tpe.suggest, max_evals=100)"
   ],
   "metadata": {
    "collapsed": false,
    "ExecuteTime": {
     "end_time": "2025-02-05T19:43:29.821967Z",
     "start_time": "2025-02-05T19:41:46.469407100Z"
    }
   },
   "id": "9451eaef3ad9ed33"
  },
  {
   "cell_type": "code",
   "execution_count": 6,
   "outputs": [
    {
     "name": "stdout",
     "output_type": "stream",
     "text": [
      "{'loss': -0.9866666666666667, 'status': 'ok'} {'estimators': [np.int64(0)], 'estimators_sklearn.ensemble.GradientBoostingClassifier_max_depth': [], 'estimators_sklearn.ensemble.GradientBoostingClassifier_n_estimators': [], 'estimators_sklearn.ensemble.RandomForestClassifier_max_depth': [], 'estimators_sklearn.ensemble.RandomForestClassifier_n_estimators': [], 'estimators_sklearn.neighbors.KNeighborsClassifier_n_neighbors': [], 'estimators_sklearn.svm.SVC_C': [np.float64(1.6508939957015805)], 'estimators_sklearn.svm.SVC_kernel': [np.int64(0)]}\n"
     ]
    }
   ],
   "source": [
    "print(hp_trials.best_trial[\"result\"], hp_trials.best_trial[\"misc\"][\"vals\"])"
   ],
   "metadata": {
    "collapsed": false,
    "ExecuteTime": {
     "end_time": "2025-02-05T19:43:29.826704100Z",
     "start_time": "2025-02-05T19:43:29.823033700Z"
    }
   },
   "id": "945c89a0b1643eb6"
  },
  {
   "cell_type": "markdown",
   "source": [
    "- Optuna"
   ],
   "metadata": {
    "collapsed": false
   },
   "id": "b406902b1d204b81"
  },
  {
   "cell_type": "code",
   "execution_count": 7,
   "outputs": [],
   "source": [
    "# optuna objective function\n",
    "def objective_optuna(trial):\n",
    "    # the objective function of optuna takes in a trial object, and sampling in done using the trial object.\n",
    "    # A workaround is wrap the objective function. It takes in trial object and returns the sampled hyperparameters.\n",
    "    config = search_space.get_optuna_space(trial)\n",
    "    return objective(config)"
   ],
   "metadata": {
    "collapsed": false,
    "ExecuteTime": {
     "end_time": "2025-02-05T19:43:29.830698700Z",
     "start_time": "2025-02-05T19:43:29.827762900Z"
    }
   },
   "id": "54dbd68d37b59220"
  },
  {
   "cell_type": "code",
   "execution_count": 8,
   "outputs": [
    {
     "name": "stderr",
     "output_type": "stream",
     "text": [
      "[I 2025-02-05 19:43:29,831] A new study created in memory with name: no-name-a1fc2360-483f-4c5b-bdbc-dacd2704a1ae\n",
      "[I 2025-02-05 19:43:31,823] Trial 0 finished with value: -0.96 and parameters: {'estimators': 'sklearn.ensemble.RandomForestClassifier', 'estimators_sklearn.ensemble.RandomForestClassifier_n_estimators': 464, 'estimators_sklearn.ensemble.RandomForestClassifier_max_depth': 19}. Best is trial 0 with value: -0.96.\n",
      "[I 2025-02-05 19:43:36,026] Trial 1 finished with value: -0.9666666666666668 and parameters: {'estimators': 'sklearn.ensemble.RandomForestClassifier', 'estimators_sklearn.ensemble.RandomForestClassifier_n_estimators': 983, 'estimators_sklearn.ensemble.RandomForestClassifier_max_depth': 26}. Best is trial 1 with value: -0.9666666666666668.\n",
      "[I 2025-02-05 19:43:39,142] Trial 2 finished with value: -0.9666666666666668 and parameters: {'estimators': 'sklearn.ensemble.GradientBoostingClassifier', 'estimators_sklearn.ensemble.GradientBoostingClassifier_n_estimators': 503, 'estimators_sklearn.ensemble.GradientBoostingClassifier_max_depth': 14}. Best is trial 1 with value: -0.9666666666666668.\n",
      "[I 2025-02-05 19:43:40,422] Trial 3 finished with value: -0.96 and parameters: {'estimators': 'sklearn.ensemble.RandomForestClassifier', 'estimators_sklearn.ensemble.RandomForestClassifier_n_estimators': 300, 'estimators_sklearn.ensemble.RandomForestClassifier_max_depth': 30}. Best is trial 1 with value: -0.9666666666666668.\n",
      "[I 2025-02-05 19:43:43,046] Trial 4 finished with value: -0.9666666666666668 and parameters: {'estimators': 'sklearn.ensemble.RandomForestClassifier', 'estimators_sklearn.ensemble.RandomForestClassifier_n_estimators': 606, 'estimators_sklearn.ensemble.RandomForestClassifier_max_depth': 23}. Best is trial 1 with value: -0.9666666666666668.\n",
      "[I 2025-02-05 19:43:43,056] Trial 5 finished with value: -0.9266666666666667 and parameters: {'estimators': 'sklearn.svm.SVC', 'estimators_sklearn.svm.SVC_C': 0.010323523044605848, 'estimators_sklearn.svm.SVC_kernel': 'linear'}. Best is trial 1 with value: -0.9666666666666668.\n",
      "[I 2025-02-05 19:43:45,640] Trial 6 finished with value: -0.9666666666666668 and parameters: {'estimators': 'sklearn.ensemble.GradientBoostingClassifier', 'estimators_sklearn.ensemble.GradientBoostingClassifier_n_estimators': 369, 'estimators_sklearn.ensemble.GradientBoostingClassifier_max_depth': 21}. Best is trial 1 with value: -0.9666666666666668.\n",
      "[I 2025-02-05 19:43:48,422] Trial 7 finished with value: -0.96 and parameters: {'estimators': 'sklearn.ensemble.RandomForestClassifier', 'estimators_sklearn.ensemble.RandomForestClassifier_n_estimators': 637, 'estimators_sklearn.ensemble.RandomForestClassifier_max_depth': 27}. Best is trial 1 with value: -0.9666666666666668.\n",
      "[I 2025-02-05 19:43:53,067] Trial 8 finished with value: -0.9666666666666668 and parameters: {'estimators': 'sklearn.ensemble.GradientBoostingClassifier', 'estimators_sklearn.ensemble.GradientBoostingClassifier_n_estimators': 766, 'estimators_sklearn.ensemble.GradientBoostingClassifier_max_depth': 31}. Best is trial 1 with value: -0.9666666666666668.\n",
      "[I 2025-02-05 19:43:53,085] Trial 9 finished with value: -0.9666666666666668 and parameters: {'estimators': 'sklearn.neighbors.KNeighborsClassifier', 'estimators_sklearn.neighbors.KNeighborsClassifier_n_neighbors': 8}. Best is trial 1 with value: -0.9666666666666668.\n",
      "[I 2025-02-05 19:43:53,104] Trial 10 finished with value: -0.9466666666666665 and parameters: {'estimators': 'sklearn.neighbors.KNeighborsClassifier', 'estimators_sklearn.neighbors.KNeighborsClassifier_n_neighbors': 2}. Best is trial 1 with value: -0.9666666666666668.\n",
      "[I 2025-02-05 19:43:53,979] Trial 11 finished with value: -0.9600000000000002 and parameters: {'estimators': 'sklearn.ensemble.GradientBoostingClassifier', 'estimators_sklearn.ensemble.GradientBoostingClassifier_n_estimators': 93, 'estimators_sklearn.ensemble.GradientBoostingClassifier_max_depth': 3}. Best is trial 1 with value: -0.9666666666666668.\n",
      "[I 2025-02-05 19:43:53,990] Trial 12 finished with value: -0.9133333333333334 and parameters: {'estimators': 'sklearn.svm.SVC', 'estimators_sklearn.svm.SVC_C': 2.7374756683730273e-10, 'estimators_sklearn.svm.SVC_kernel': 'linear'}. Best is trial 1 with value: -0.9666666666666668.\n",
      "[I 2025-02-05 19:43:59,741] Trial 13 finished with value: -0.9666666666666668 and parameters: {'estimators': 'sklearn.ensemble.GradientBoostingClassifier', 'estimators_sklearn.ensemble.GradientBoostingClassifier_n_estimators': 987, 'estimators_sklearn.ensemble.GradientBoostingClassifier_max_depth': 9}. Best is trial 1 with value: -0.9666666666666668.\n",
      "[I 2025-02-05 19:44:03,938] Trial 14 finished with value: -0.96 and parameters: {'estimators': 'sklearn.ensemble.RandomForestClassifier', 'estimators_sklearn.ensemble.RandomForestClassifier_n_estimators': 972, 'estimators_sklearn.ensemble.RandomForestClassifier_max_depth': 5}. Best is trial 1 with value: -0.9666666666666668.\n",
      "[I 2025-02-05 19:44:07,672] Trial 15 finished with value: -0.9666666666666668 and parameters: {'estimators': 'sklearn.ensemble.GradientBoostingClassifier', 'estimators_sklearn.ensemble.GradientBoostingClassifier_n_estimators': 505, 'estimators_sklearn.ensemble.GradientBoostingClassifier_max_depth': 17}. Best is trial 1 with value: -0.9666666666666668.\n",
      "[I 2025-02-05 19:44:07,685] Trial 16 finished with value: -0.9866666666666667 and parameters: {'estimators': 'sklearn.svm.SVC', 'estimators_sklearn.svm.SVC_C': 0.9808419850049673, 'estimators_sklearn.svm.SVC_kernel': 'linear'}. Best is trial 16 with value: -0.9866666666666667.\n",
      "[I 2025-02-05 19:44:07,696] Trial 17 finished with value: -0.9866666666666667 and parameters: {'estimators': 'sklearn.svm.SVC', 'estimators_sklearn.svm.SVC_C': 0.9522120211470263, 'estimators_sklearn.svm.SVC_kernel': 'linear'}. Best is trial 16 with value: -0.9866666666666667.\n",
      "[I 2025-02-05 19:44:07,709] Trial 18 finished with value: -0.9800000000000001 and parameters: {'estimators': 'sklearn.svm.SVC', 'estimators_sklearn.svm.SVC_C': 0.8163398830382903, 'estimators_sklearn.svm.SVC_kernel': 'linear'}. Best is trial 16 with value: -0.9866666666666667.\n",
      "[I 2025-02-05 19:44:07,722] Trial 19 finished with value: -0.9800000000000001 and parameters: {'estimators': 'sklearn.svm.SVC', 'estimators_sklearn.svm.SVC_C': 0.49502127819170505, 'estimators_sklearn.svm.SVC_kernel': 'linear'}. Best is trial 16 with value: -0.9866666666666667.\n",
      "[I 2025-02-05 19:44:07,736] Trial 20 finished with value: -0.9133333333333334 and parameters: {'estimators': 'sklearn.svm.SVC', 'estimators_sklearn.svm.SVC_C': 0.00011608909304732293, 'estimators_sklearn.svm.SVC_kernel': 'linear'}. Best is trial 16 with value: -0.9866666666666667.\n",
      "[I 2025-02-05 19:44:07,748] Trial 21 finished with value: -0.9866666666666667 and parameters: {'estimators': 'sklearn.svm.SVC', 'estimators_sklearn.svm.SVC_C': 0.7269576069226649, 'estimators_sklearn.svm.SVC_kernel': 'linear'}. Best is trial 16 with value: -0.9866666666666667.\n",
      "[I 2025-02-05 19:44:07,761] Trial 22 finished with value: -0.9866666666666667 and parameters: {'estimators': 'sklearn.svm.SVC', 'estimators_sklearn.svm.SVC_C': 0.6052883745888031, 'estimators_sklearn.svm.SVC_kernel': 'linear'}. Best is trial 16 with value: -0.9866666666666667.\n",
      "[I 2025-02-05 19:44:07,775] Trial 23 finished with value: -0.9133333333333334 and parameters: {'estimators': 'sklearn.svm.SVC', 'estimators_sklearn.svm.SVC_C': 0.0015518603592106195, 'estimators_sklearn.svm.SVC_kernel': 'linear'}. Best is trial 16 with value: -0.9866666666666667.\n",
      "[I 2025-02-05 19:44:07,789] Trial 24 finished with value: -0.9133333333333334 and parameters: {'estimators': 'sklearn.svm.SVC', 'estimators_sklearn.svm.SVC_C': 3.917247538911714e-07, 'estimators_sklearn.svm.SVC_kernel': 'linear'}. Best is trial 16 with value: -0.9866666666666667.\n",
      "[I 2025-02-05 19:44:07,801] Trial 25 finished with value: -0.9533333333333334 and parameters: {'estimators': 'sklearn.svm.SVC', 'estimators_sklearn.svm.SVC_C': 0.034489606873959563, 'estimators_sklearn.svm.SVC_kernel': 'linear'}. Best is trial 16 with value: -0.9866666666666667.\n",
      "[I 2025-02-05 19:44:07,813] Trial 26 finished with value: -0.96 and parameters: {'estimators': 'sklearn.svm.SVC', 'estimators_sklearn.svm.SVC_C': 0.038634418525930594, 'estimators_sklearn.svm.SVC_kernel': 'linear'}. Best is trial 16 with value: -0.9866666666666667.\n",
      "[I 2025-02-05 19:44:07,833] Trial 27 finished with value: -0.9666666666666668 and parameters: {'estimators': 'sklearn.neighbors.KNeighborsClassifier', 'estimators_sklearn.neighbors.KNeighborsClassifier_n_neighbors': 3}. Best is trial 16 with value: -0.9866666666666667.\n",
      "[I 2025-02-05 19:44:07,847] Trial 28 finished with value: -0.9133333333333334 and parameters: {'estimators': 'sklearn.svm.SVC', 'estimators_sklearn.svm.SVC_C': 3.536762274117827e-07, 'estimators_sklearn.svm.SVC_kernel': 'linear'}. Best is trial 16 with value: -0.9866666666666667.\n",
      "[I 2025-02-05 19:44:07,862] Trial 29 finished with value: -0.9133333333333334 and parameters: {'estimators': 'sklearn.svm.SVC', 'estimators_sklearn.svm.SVC_C': 0.0015217541636625902, 'estimators_sklearn.svm.SVC_kernel': 'linear'}. Best is trial 16 with value: -0.9866666666666667.\n",
      "[I 2025-02-05 19:44:07,875] Trial 30 finished with value: -0.9866666666666667 and parameters: {'estimators': 'sklearn.svm.SVC', 'estimators_sklearn.svm.SVC_C': 0.8379447744406856, 'estimators_sklearn.svm.SVC_kernel': 'linear'}. Best is trial 16 with value: -0.9866666666666667.\n",
      "[I 2025-02-05 19:44:07,888] Trial 31 finished with value: -0.9800000000000001 and parameters: {'estimators': 'sklearn.svm.SVC', 'estimators_sklearn.svm.SVC_C': 0.13377420111422836, 'estimators_sklearn.svm.SVC_kernel': 'linear'}. Best is trial 16 with value: -0.9866666666666667.\n",
      "[I 2025-02-05 19:44:07,902] Trial 32 finished with value: -0.9866666666666667 and parameters: {'estimators': 'sklearn.svm.SVC', 'estimators_sklearn.svm.SVC_C': 0.522585008500178, 'estimators_sklearn.svm.SVC_kernel': 'linear'}. Best is trial 16 with value: -0.9866666666666667.\n",
      "[I 2025-02-05 19:44:07,916] Trial 33 finished with value: -0.9133333333333334 and parameters: {'estimators': 'sklearn.svm.SVC', 'estimators_sklearn.svm.SVC_C': 0.017453980229988307, 'estimators_sklearn.svm.SVC_kernel': 'linear'}. Best is trial 16 with value: -0.9866666666666667.\n",
      "[I 2025-02-05 19:44:07,929] Trial 34 finished with value: -0.9866666666666667 and parameters: {'estimators': 'sklearn.svm.SVC', 'estimators_sklearn.svm.SVC_C': 0.826943014024671, 'estimators_sklearn.svm.SVC_kernel': 'linear'}. Best is trial 16 with value: -0.9866666666666667.\n",
      "[I 2025-02-05 19:44:07,942] Trial 35 finished with value: -0.9133333333333334 and parameters: {'estimators': 'sklearn.svm.SVC', 'estimators_sklearn.svm.SVC_C': 0.0020214300349521617, 'estimators_sklearn.svm.SVC_kernel': 'linear'}. Best is trial 16 with value: -0.9866666666666667.\n",
      "[I 2025-02-05 19:44:07,956] Trial 36 finished with value: -0.9533333333333334 and parameters: {'estimators': 'sklearn.svm.SVC', 'estimators_sklearn.svm.SVC_C': 0.06944629994168454, 'estimators_sklearn.svm.SVC_kernel': 'linear'}. Best is trial 16 with value: -0.9866666666666667.\n",
      "[I 2025-02-05 19:44:07,977] Trial 37 finished with value: -0.9800000000000001 and parameters: {'estimators': 'sklearn.neighbors.KNeighborsClassifier', 'estimators_sklearn.neighbors.KNeighborsClassifier_n_neighbors': 10}. Best is trial 16 with value: -0.9866666666666667.\n",
      "[I 2025-02-05 19:44:08,837] Trial 38 finished with value: -0.9666666666666668 and parameters: {'estimators': 'sklearn.ensemble.RandomForestClassifier', 'estimators_sklearn.ensemble.RandomForestClassifier_n_estimators': 190, 'estimators_sklearn.ensemble.RandomForestClassifier_max_depth': 9}. Best is trial 16 with value: -0.9866666666666667.\n",
      "[I 2025-02-05 19:44:08,850] Trial 39 finished with value: -0.9133333333333334 and parameters: {'estimators': 'sklearn.svm.SVC', 'estimators_sklearn.svm.SVC_C': 7.84842281250572e-05, 'estimators_sklearn.svm.SVC_kernel': 'linear'}. Best is trial 16 with value: -0.9866666666666667.\n",
      "[I 2025-02-05 19:44:08,861] Trial 40 finished with value: -0.9666666666666668 and parameters: {'estimators': 'sklearn.svm.SVC', 'estimators_sklearn.svm.SVC_C': 0.0973740234333049, 'estimators_sklearn.svm.SVC_kernel': 'linear'}. Best is trial 16 with value: -0.9866666666666667.\n",
      "[I 2025-02-05 19:44:08,873] Trial 41 finished with value: -0.9866666666666667 and parameters: {'estimators': 'sklearn.svm.SVC', 'estimators_sklearn.svm.SVC_C': 0.633157351583534, 'estimators_sklearn.svm.SVC_kernel': 'linear'}. Best is trial 16 with value: -0.9866666666666667.\n",
      "[I 2025-02-05 19:44:08,886] Trial 42 finished with value: -0.9800000000000001 and parameters: {'estimators': 'sklearn.svm.SVC', 'estimators_sklearn.svm.SVC_C': 0.16498574319570872, 'estimators_sklearn.svm.SVC_kernel': 'linear'}. Best is trial 16 with value: -0.9866666666666667.\n",
      "[I 2025-02-05 19:44:08,897] Trial 43 finished with value: -0.9866666666666667 and parameters: {'estimators': 'sklearn.svm.SVC', 'estimators_sklearn.svm.SVC_C': 0.6942115832099266, 'estimators_sklearn.svm.SVC_kernel': 'linear'}. Best is trial 16 with value: -0.9866666666666667.\n",
      "[I 2025-02-05 19:44:09,219] Trial 44 finished with value: -0.96 and parameters: {'estimators': 'sklearn.ensemble.RandomForestClassifier', 'estimators_sklearn.ensemble.RandomForestClassifier_n_estimators': 70, 'estimators_sklearn.ensemble.RandomForestClassifier_max_depth': 12}. Best is trial 16 with value: -0.9866666666666667.\n",
      "[I 2025-02-05 19:44:09,238] Trial 45 finished with value: -0.9733333333333334 and parameters: {'estimators': 'sklearn.neighbors.KNeighborsClassifier', 'estimators_sklearn.neighbors.KNeighborsClassifier_n_neighbors': 5}. Best is trial 16 with value: -0.9866666666666667.\n",
      "[I 2025-02-05 19:44:09,250] Trial 46 finished with value: -0.9133333333333334 and parameters: {'estimators': 'sklearn.svm.SVC', 'estimators_sklearn.svm.SVC_C': 0.006312032010176011, 'estimators_sklearn.svm.SVC_kernel': 'linear'}. Best is trial 16 with value: -0.9866666666666667.\n",
      "[I 2025-02-05 19:44:09,569] Trial 47 finished with value: -0.96 and parameters: {'estimators': 'sklearn.ensemble.GradientBoostingClassifier', 'estimators_sklearn.ensemble.GradientBoostingClassifier_n_estimators': 34, 'estimators_sklearn.ensemble.GradientBoostingClassifier_max_depth': 31}. Best is trial 16 with value: -0.9866666666666667.\n",
      "[I 2025-02-05 19:44:09,580] Trial 48 finished with value: -0.9733333333333334 and parameters: {'estimators': 'sklearn.svm.SVC', 'estimators_sklearn.svm.SVC_C': 0.12940070577938279, 'estimators_sklearn.svm.SVC_kernel': 'linear'}. Best is trial 16 with value: -0.9866666666666667.\n",
      "[I 2025-02-05 19:44:13,049] Trial 49 finished with value: -0.9533333333333334 and parameters: {'estimators': 'sklearn.ensemble.RandomForestClassifier', 'estimators_sklearn.ensemble.RandomForestClassifier_n_estimators': 776, 'estimators_sklearn.ensemble.RandomForestClassifier_max_depth': 3}. Best is trial 16 with value: -0.9866666666666667.\n",
      "[I 2025-02-05 19:44:13,062] Trial 50 finished with value: -0.9133333333333334 and parameters: {'estimators': 'sklearn.svm.SVC', 'estimators_sklearn.svm.SVC_C': 1.577395119162104e-10, 'estimators_sklearn.svm.SVC_kernel': 'linear'}. Best is trial 16 with value: -0.9866666666666667.\n",
      "[I 2025-02-05 19:44:13,074] Trial 51 finished with value: -0.9866666666666667 and parameters: {'estimators': 'sklearn.svm.SVC', 'estimators_sklearn.svm.SVC_C': 0.7001966650554603, 'estimators_sklearn.svm.SVC_kernel': 'linear'}. Best is trial 16 with value: -0.9866666666666667.\n",
      "[I 2025-02-05 19:44:13,085] Trial 52 finished with value: -0.9800000000000001 and parameters: {'estimators': 'sklearn.svm.SVC', 'estimators_sklearn.svm.SVC_C': 0.1789751966424224, 'estimators_sklearn.svm.SVC_kernel': 'linear'}. Best is trial 16 with value: -0.9866666666666667.\n",
      "[I 2025-02-05 19:44:13,098] Trial 53 finished with value: -0.9200000000000002 and parameters: {'estimators': 'sklearn.svm.SVC', 'estimators_sklearn.svm.SVC_C': 0.008755459340352132, 'estimators_sklearn.svm.SVC_kernel': 'linear'}. Best is trial 16 with value: -0.9866666666666667.\n",
      "[I 2025-02-05 19:44:13,111] Trial 54 finished with value: -0.9866666666666667 and parameters: {'estimators': 'sklearn.svm.SVC', 'estimators_sklearn.svm.SVC_C': 0.9826443579191985, 'estimators_sklearn.svm.SVC_kernel': 'linear'}. Best is trial 16 with value: -0.9866666666666667.\n",
      "[I 2025-02-05 19:44:18,963] Trial 55 finished with value: -0.9600000000000002 and parameters: {'estimators': 'sklearn.ensemble.GradientBoostingClassifier', 'estimators_sklearn.ensemble.GradientBoostingClassifier_n_estimators': 951, 'estimators_sklearn.ensemble.GradientBoostingClassifier_max_depth': 24}. Best is trial 16 with value: -0.9866666666666667.\n",
      "[I 2025-02-05 19:44:18,975] Trial 56 finished with value: -0.9800000000000001 and parameters: {'estimators': 'sklearn.svm.SVC', 'estimators_sklearn.svm.SVC_C': 0.1887487232125275, 'estimators_sklearn.svm.SVC_kernel': 'linear'}. Best is trial 16 with value: -0.9866666666666667.\n",
      "[I 2025-02-05 19:44:18,986] Trial 57 finished with value: -0.9466666666666667 and parameters: {'estimators': 'sklearn.svm.SVC', 'estimators_sklearn.svm.SVC_C': 0.02624027506065765, 'estimators_sklearn.svm.SVC_kernel': 'linear'}. Best is trial 16 with value: -0.9866666666666667.\n",
      "[I 2025-02-05 19:44:19,005] Trial 58 finished with value: -0.9800000000000001 and parameters: {'estimators': 'sklearn.neighbors.KNeighborsClassifier', 'estimators_sklearn.neighbors.KNeighborsClassifier_n_neighbors': 6}. Best is trial 16 with value: -0.9866666666666667.\n",
      "[I 2025-02-05 19:44:19,018] Trial 59 finished with value: -0.9133333333333334 and parameters: {'estimators': 'sklearn.svm.SVC', 'estimators_sklearn.svm.SVC_C': 1.3998844589718297e-09, 'estimators_sklearn.svm.SVC_kernel': 'linear'}. Best is trial 16 with value: -0.9866666666666667.\n",
      "[I 2025-02-05 19:44:19,029] Trial 60 finished with value: -0.9800000000000001 and parameters: {'estimators': 'sklearn.svm.SVC', 'estimators_sklearn.svm.SVC_C': 0.23462921721627292, 'estimators_sklearn.svm.SVC_kernel': 'linear'}. Best is trial 16 with value: -0.9866666666666667.\n",
      "[I 2025-02-05 19:44:19,041] Trial 61 finished with value: -0.9866666666666667 and parameters: {'estimators': 'sklearn.svm.SVC', 'estimators_sklearn.svm.SVC_C': 0.9543555097572519, 'estimators_sklearn.svm.SVC_kernel': 'linear'}. Best is trial 16 with value: -0.9866666666666667.\n",
      "[I 2025-02-05 19:44:19,053] Trial 62 finished with value: -0.9800000000000001 and parameters: {'estimators': 'sklearn.svm.SVC', 'estimators_sklearn.svm.SVC_C': 0.31244927172814724, 'estimators_sklearn.svm.SVC_kernel': 'linear'}. Best is trial 16 with value: -0.9866666666666667.\n",
      "[I 2025-02-05 19:44:19,064] Trial 63 finished with value: -0.9866666666666667 and parameters: {'estimators': 'sklearn.svm.SVC', 'estimators_sklearn.svm.SVC_C': 0.9578436072272946, 'estimators_sklearn.svm.SVC_kernel': 'linear'}. Best is trial 16 with value: -0.9866666666666667.\n",
      "[I 2025-02-05 19:44:19,076] Trial 64 finished with value: -0.96 and parameters: {'estimators': 'sklearn.svm.SVC', 'estimators_sklearn.svm.SVC_C': 0.054454922015216976, 'estimators_sklearn.svm.SVC_kernel': 'linear'}. Best is trial 16 with value: -0.9866666666666667.\n",
      "[I 2025-02-05 19:44:19,088] Trial 65 finished with value: -0.9800000000000001 and parameters: {'estimators': 'sklearn.svm.SVC', 'estimators_sklearn.svm.SVC_C': 0.2980936003053254, 'estimators_sklearn.svm.SVC_kernel': 'linear'}. Best is trial 16 with value: -0.9866666666666667.\n",
      "[I 2025-02-05 19:44:21,190] Trial 66 finished with value: -0.9666666666666668 and parameters: {'estimators': 'sklearn.ensemble.GradientBoostingClassifier', 'estimators_sklearn.ensemble.GradientBoostingClassifier_n_estimators': 255, 'estimators_sklearn.ensemble.GradientBoostingClassifier_max_depth': 4}. Best is trial 16 with value: -0.9866666666666667.\n",
      "[I 2025-02-05 19:44:21,202] Trial 67 finished with value: -0.9800000000000001 and parameters: {'estimators': 'sklearn.svm.SVC', 'estimators_sklearn.svm.SVC_C': 0.31194322848144973, 'estimators_sklearn.svm.SVC_kernel': 'linear'}. Best is trial 16 with value: -0.9866666666666667.\n",
      "[I 2025-02-05 19:44:22,839] Trial 68 finished with value: -0.9666666666666668 and parameters: {'estimators': 'sklearn.ensemble.RandomForestClassifier', 'estimators_sklearn.ensemble.RandomForestClassifier_n_estimators': 363, 'estimators_sklearn.ensemble.RandomForestClassifier_max_depth': 16}. Best is trial 16 with value: -0.9866666666666667.\n",
      "[I 2025-02-05 19:44:22,851] Trial 69 finished with value: -0.96 and parameters: {'estimators': 'sklearn.svm.SVC', 'estimators_sklearn.svm.SVC_C': 0.07911582788096894, 'estimators_sklearn.svm.SVC_kernel': 'linear'}. Best is trial 16 with value: -0.9866666666666667.\n",
      "[I 2025-02-05 19:44:22,864] Trial 70 finished with value: -0.9133333333333334 and parameters: {'estimators': 'sklearn.svm.SVC', 'estimators_sklearn.svm.SVC_C': 4.982099171296586e-07, 'estimators_sklearn.svm.SVC_kernel': 'linear'}. Best is trial 16 with value: -0.9866666666666667.\n",
      "[I 2025-02-05 19:44:22,876] Trial 71 finished with value: -0.9800000000000001 and parameters: {'estimators': 'sklearn.svm.SVC', 'estimators_sklearn.svm.SVC_C': 0.40514692944545455, 'estimators_sklearn.svm.SVC_kernel': 'linear'}. Best is trial 16 with value: -0.9866666666666667.\n",
      "[I 2025-02-05 19:44:22,889] Trial 72 finished with value: -0.9866666666666667 and parameters: {'estimators': 'sklearn.svm.SVC', 'estimators_sklearn.svm.SVC_C': 0.9133318414538791, 'estimators_sklearn.svm.SVC_kernel': 'linear'}. Best is trial 16 with value: -0.9866666666666667.\n",
      "[I 2025-02-05 19:44:22,900] Trial 73 finished with value: -0.9733333333333334 and parameters: {'estimators': 'sklearn.svm.SVC', 'estimators_sklearn.svm.SVC_C': 0.3869594979531749, 'estimators_sklearn.svm.SVC_kernel': 'linear'}. Best is trial 16 with value: -0.9866666666666667.\n",
      "[I 2025-02-05 19:44:22,913] Trial 74 finished with value: -0.9466666666666667 and parameters: {'estimators': 'sklearn.svm.SVC', 'estimators_sklearn.svm.SVC_C': 0.025618777520217618, 'estimators_sklearn.svm.SVC_kernel': 'linear'}. Best is trial 16 with value: -0.9866666666666667.\n",
      "[I 2025-02-05 19:44:22,924] Trial 75 finished with value: -0.9533333333333334 and parameters: {'estimators': 'sklearn.svm.SVC', 'estimators_sklearn.svm.SVC_C': 0.0683975265398045, 'estimators_sklearn.svm.SVC_kernel': 'linear'}. Best is trial 16 with value: -0.9866666666666667.\n",
      "[I 2025-02-05 19:44:22,945] Trial 76 finished with value: -0.9800000000000001 and parameters: {'estimators': 'sklearn.neighbors.KNeighborsClassifier', 'estimators_sklearn.neighbors.KNeighborsClassifier_n_neighbors': 10}. Best is trial 16 with value: -0.9866666666666667.\n",
      "[I 2025-02-05 19:44:22,957] Trial 77 finished with value: -0.9800000000000001 and parameters: {'estimators': 'sklearn.svm.SVC', 'estimators_sklearn.svm.SVC_C': 0.3948242894734981, 'estimators_sklearn.svm.SVC_kernel': 'linear'}. Best is trial 16 with value: -0.9866666666666667.\n",
      "[I 2025-02-05 19:44:22,970] Trial 78 finished with value: -0.9733333333333334 and parameters: {'estimators': 'sklearn.svm.SVC', 'estimators_sklearn.svm.SVC_C': 0.0986780612430903, 'estimators_sklearn.svm.SVC_kernel': 'linear'}. Best is trial 16 with value: -0.9866666666666667.\n",
      "[I 2025-02-05 19:44:22,983] Trial 79 finished with value: -0.9133333333333334 and parameters: {'estimators': 'sklearn.svm.SVC', 'estimators_sklearn.svm.SVC_C': 0.00020548755405805372, 'estimators_sklearn.svm.SVC_kernel': 'linear'}. Best is trial 16 with value: -0.9866666666666667.\n",
      "[I 2025-02-05 19:44:23,188] Trial 80 finished with value: -0.9533333333333334 and parameters: {'estimators': 'sklearn.ensemble.RandomForestClassifier', 'estimators_sklearn.ensemble.RandomForestClassifier_n_estimators': 41, 'estimators_sklearn.ensemble.RandomForestClassifier_max_depth': 32}. Best is trial 16 with value: -0.9866666666666667.\n",
      "[I 2025-02-05 19:44:23,201] Trial 81 finished with value: -0.9866666666666667 and parameters: {'estimators': 'sklearn.svm.SVC', 'estimators_sklearn.svm.SVC_C': 0.8928564482111371, 'estimators_sklearn.svm.SVC_kernel': 'linear'}. Best is trial 16 with value: -0.9866666666666667.\n",
      "[I 2025-02-05 19:44:23,212] Trial 82 finished with value: -0.9800000000000001 and parameters: {'estimators': 'sklearn.svm.SVC', 'estimators_sklearn.svm.SVC_C': 0.37877033201965743, 'estimators_sklearn.svm.SVC_kernel': 'linear'}. Best is trial 16 with value: -0.9866666666666667.\n",
      "[I 2025-02-05 19:44:23,225] Trial 83 finished with value: -0.9800000000000001 and parameters: {'estimators': 'sklearn.svm.SVC', 'estimators_sklearn.svm.SVC_C': 0.431766029109934, 'estimators_sklearn.svm.SVC_kernel': 'linear'}. Best is trial 16 with value: -0.9866666666666667.\n",
      "[I 2025-02-05 19:44:23,238] Trial 84 finished with value: -0.9800000000000001 and parameters: {'estimators': 'sklearn.svm.SVC', 'estimators_sklearn.svm.SVC_C': 0.14655002491357105, 'estimators_sklearn.svm.SVC_kernel': 'linear'}. Best is trial 16 with value: -0.9866666666666667.\n",
      "[I 2025-02-05 19:44:23,250] Trial 85 finished with value: -0.9133333333333334 and parameters: {'estimators': 'sklearn.svm.SVC', 'estimators_sklearn.svm.SVC_C': 3.0680080223719845e-06, 'estimators_sklearn.svm.SVC_kernel': 'linear'}. Best is trial 16 with value: -0.9866666666666667.\n",
      "[I 2025-02-05 19:44:27,999] Trial 86 finished with value: -0.9666666666666668 and parameters: {'estimators': 'sklearn.ensemble.GradientBoostingClassifier', 'estimators_sklearn.ensemble.GradientBoostingClassifier_n_estimators': 724, 'estimators_sklearn.ensemble.GradientBoostingClassifier_max_depth': 25}. Best is trial 16 with value: -0.9866666666666667.\n",
      "[I 2025-02-05 19:44:28,011] Trial 87 finished with value: -0.96 and parameters: {'estimators': 'sklearn.svm.SVC', 'estimators_sklearn.svm.SVC_C': 0.04245569134450627, 'estimators_sklearn.svm.SVC_kernel': 'linear'}. Best is trial 16 with value: -0.9866666666666667.\n",
      "[I 2025-02-05 19:44:28,022] Trial 88 finished with value: -0.9800000000000001 and parameters: {'estimators': 'sklearn.svm.SVC', 'estimators_sklearn.svm.SVC_C': 0.16489425937930685, 'estimators_sklearn.svm.SVC_kernel': 'linear'}. Best is trial 16 with value: -0.9866666666666667.\n",
      "[I 2025-02-05 19:44:28,041] Trial 89 finished with value: -0.9733333333333334 and parameters: {'estimators': 'sklearn.neighbors.KNeighborsClassifier', 'estimators_sklearn.neighbors.KNeighborsClassifier_n_neighbors': 4}. Best is trial 16 with value: -0.9866666666666667.\n",
      "[I 2025-02-05 19:44:28,054] Trial 90 finished with value: -0.9133333333333334 and parameters: {'estimators': 'sklearn.svm.SVC', 'estimators_sklearn.svm.SVC_C': 0.0035280821010920905, 'estimators_sklearn.svm.SVC_kernel': 'linear'}. Best is trial 16 with value: -0.9866666666666667.\n",
      "[I 2025-02-05 19:44:28,066] Trial 91 finished with value: -0.9866666666666667 and parameters: {'estimators': 'sklearn.svm.SVC', 'estimators_sklearn.svm.SVC_C': 0.5523155562245832, 'estimators_sklearn.svm.SVC_kernel': 'linear'}. Best is trial 16 with value: -0.9866666666666667.\n",
      "[I 2025-02-05 19:44:28,077] Trial 92 finished with value: -0.9866666666666667 and parameters: {'estimators': 'sklearn.svm.SVC', 'estimators_sklearn.svm.SVC_C': 0.9687868674164638, 'estimators_sklearn.svm.SVC_kernel': 'linear'}. Best is trial 16 with value: -0.9866666666666667.\n",
      "[I 2025-02-05 19:44:28,090] Trial 93 finished with value: -0.9133333333333334 and parameters: {'estimators': 'sklearn.svm.SVC', 'estimators_sklearn.svm.SVC_C': 1.4751273475342454e-08, 'estimators_sklearn.svm.SVC_kernel': 'linear'}. Best is trial 16 with value: -0.9866666666666667.\n",
      "[I 2025-02-05 19:44:28,101] Trial 94 finished with value: -0.9866666666666667 and parameters: {'estimators': 'sklearn.svm.SVC', 'estimators_sklearn.svm.SVC_C': 0.5111539213495153, 'estimators_sklearn.svm.SVC_kernel': 'linear'}. Best is trial 16 with value: -0.9866666666666667.\n",
      "[I 2025-02-05 19:44:28,114] Trial 95 finished with value: -0.9800000000000001 and parameters: {'estimators': 'sklearn.svm.SVC', 'estimators_sklearn.svm.SVC_C': 0.1986066750048953, 'estimators_sklearn.svm.SVC_kernel': 'linear'}. Best is trial 16 with value: -0.9866666666666667.\n",
      "[I 2025-02-05 19:44:28,125] Trial 96 finished with value: -0.96 and parameters: {'estimators': 'sklearn.svm.SVC', 'estimators_sklearn.svm.SVC_C': 0.10359678522185532, 'estimators_sklearn.svm.SVC_kernel': 'linear'}. Best is trial 16 with value: -0.9866666666666667.\n",
      "[I 2025-02-05 19:44:28,138] Trial 97 finished with value: -0.9066666666666668 and parameters: {'estimators': 'sklearn.svm.SVC', 'estimators_sklearn.svm.SVC_C': 0.014708135875275918, 'estimators_sklearn.svm.SVC_kernel': 'linear'}. Best is trial 16 with value: -0.9866666666666667.\n",
      "[I 2025-02-05 19:44:28,150] Trial 98 finished with value: -0.9866666666666667 and parameters: {'estimators': 'sklearn.svm.SVC', 'estimators_sklearn.svm.SVC_C': 0.5814442725470371, 'estimators_sklearn.svm.SVC_kernel': 'linear'}. Best is trial 16 with value: -0.9866666666666667.\n",
      "[I 2025-02-05 19:44:31,853] Trial 99 finished with value: -0.96 and parameters: {'estimators': 'sklearn.ensemble.RandomForestClassifier', 'estimators_sklearn.ensemble.RandomForestClassifier_n_estimators': 783, 'estimators_sklearn.ensemble.RandomForestClassifier_max_depth': 18}. Best is trial 16 with value: -0.9866666666666667.\n"
     ]
    }
   ],
   "source": [
    "# optuna optimization\n",
    "study = optuna.create_study(direction=\"minimize\")\n",
    "study.optimize(objective_optuna, n_trials=100)"
   ],
   "metadata": {
    "collapsed": false,
    "ExecuteTime": {
     "end_time": "2025-02-05T19:44:31.857319500Z",
     "start_time": "2025-02-05T19:43:29.831759600Z"
    }
   },
   "id": "eb0a767356023b0c"
  },
  {
   "cell_type": "code",
   "execution_count": 9,
   "outputs": [
    {
     "name": "stdout",
     "output_type": "stream",
     "text": [
      "-0.9866666666666667 {'estimators': 'sklearn.svm.SVC', 'estimators_sklearn.svm.SVC_C': 0.9808419850049673, 'estimators_sklearn.svm.SVC_kernel': 'linear'}\n"
     ]
    }
   ],
   "source": [
    "print(study.best_trial.value, study.best_trial.params)"
   ],
   "metadata": {
    "collapsed": false,
    "ExecuteTime": {
     "end_time": "2025-02-05T19:44:31.862034800Z",
     "start_time": "2025-02-05T19:44:31.858871300Z"
    }
   },
   "id": "70dfcea76fc1b0dd"
  },
  {
   "cell_type": "markdown",
   "source": [
    "- FLAML"
   ],
   "metadata": {
    "collapsed": false
   },
   "id": "625c4912df44dde5"
  },
  {
   "cell_type": "code",
   "execution_count": 10,
   "outputs": [
    {
     "name": "stdout",
     "output_type": "stream",
     "text": [
      "[flaml.tune.tune: 02-05 19:44:31] {582} INFO - Using search algorithm BlendSearch.\n"
     ]
    },
    {
     "name": "stderr",
     "output_type": "stream",
     "text": [
      "[I 2025-02-05 19:44:31,865] A new study created in memory with name: optuna\n"
     ]
    },
    {
     "name": "stdout",
     "output_type": "stream",
     "text": [
      "[flaml.tune.tune: 02-05 19:44:31] {884} INFO - trial 1 config: {'estimators': {'params': {'n_estimators': 106, 'max_depth': 5}, 'estimator_name': 'sklearn.ensemble.GradientBoostingClassifier', 'estimator_class': <class 'sklearn.ensemble._gb.GradientBoostingClassifier'>}}\n",
      "[flaml.tune.tune: 02-05 19:44:33] {884} INFO - trial 2 config: {'estimators': {'params': {'C': 9.662068742486023e-06, 'kernel': 'linear'}, 'estimator_name': 'sklearn.svm.SVC', 'estimator_class': <class 'sklearn.svm._classes.SVC'>}}\n",
      "[flaml.tune.tune: 02-05 19:44:33] {884} INFO - trial 3 config: {'estimators': {'params': {'n_estimators': 97, 'max_depth': 22}, 'estimator_name': 'sklearn.ensemble.GradientBoostingClassifier', 'estimator_class': <class 'sklearn.ensemble._gb.GradientBoostingClassifier'>}}\n",
      "[flaml.tune.tune: 02-05 19:44:33] {884} INFO - trial 4 config: {'estimators': {'params': {'C': 0.00013343220665499586, 'kernel': 'linear'}, 'estimator_name': 'sklearn.svm.SVC', 'estimator_class': <class 'sklearn.svm._classes.SVC'>}}\n",
      "[flaml.tune.tune: 02-05 19:44:33] {884} INFO - trial 5 config: {'estimators': {'estimator_name': 'sklearn.ensemble.GradientBoostingClassifier', 'estimator_class': <class 'sklearn.ensemble._gb.GradientBoostingClassifier'>, 'params': {'n_estimators': 88, 'max_depth': 18}}}\n",
      "[flaml.tune.tune: 02-05 19:44:34] {884} INFO - trial 6 config: {'estimators': {'estimator_name': 'sklearn.ensemble.GradientBoostingClassifier', 'estimator_class': <class 'sklearn.ensemble._gb.GradientBoostingClassifier'>, 'params': {'n_estimators': 225, 'max_depth': 17}}}\n",
      "[flaml.tune.tune: 02-05 19:44:36] {884} INFO - trial 7 config: {'estimators': {'estimator_name': 'sklearn.ensemble.GradientBoostingClassifier', 'estimator_class': <class 'sklearn.ensemble._gb.GradientBoostingClassifier'>, 'params': {'n_estimators': 10, 'max_depth': 19}}}\n",
      "[flaml.tune.tune: 02-05 19:44:36] {884} INFO - trial 8 config: {'estimators': {'estimator_name': 'sklearn.ensemble.GradientBoostingClassifier', 'estimator_class': <class 'sklearn.ensemble._gb.GradientBoostingClassifier'>, 'params': {'n_estimators': 26, 'max_depth': 14}}}\n",
      "[flaml.tune.tune: 02-05 19:44:36] {884} INFO - trial 9 config: {'estimators': {'estimator_name': 'sklearn.ensemble.GradientBoostingClassifier', 'estimator_class': <class 'sklearn.ensemble._gb.GradientBoostingClassifier'>, 'params': {'n_estimators': 150, 'max_depth': 22}}}\n",
      "[flaml.tune.tune: 02-05 19:44:38] {884} INFO - trial 10 config: {'estimators': {'estimator_name': 'sklearn.ensemble.GradientBoostingClassifier', 'estimator_class': <class 'sklearn.ensemble._gb.GradientBoostingClassifier'>, 'params': {'n_estimators': 122, 'max_depth': 17}}}\n",
      "[flaml.tune.tune: 02-05 19:44:39] {884} INFO - trial 11 config: {'estimators': {'params': {'n_estimators': 547, 'max_depth': 6}, 'estimator_name': 'sklearn.ensemble.GradientBoostingClassifier', 'estimator_class': <class 'sklearn.ensemble._gb.GradientBoostingClassifier'>}}\n",
      "[flaml.tune.tune: 02-05 19:44:42] {884} INFO - trial 12 config: {'estimators': {'estimator_name': 'sklearn.ensemble.GradientBoostingClassifier', 'estimator_class': <class 'sklearn.ensemble._gb.GradientBoostingClassifier'>, 'params': {'n_estimators': 687, 'max_depth': 6}}}\n",
      "[flaml.tune.tune: 02-05 19:44:47] {884} INFO - trial 13 config: {'estimators': {'estimator_name': 'sklearn.ensemble.GradientBoostingClassifier', 'estimator_class': <class 'sklearn.ensemble._gb.GradientBoostingClassifier'>, 'params': {'n_estimators': 598, 'max_depth': 9}}}\n",
      "[flaml.tune.tune: 02-05 19:44:51] {884} INFO - trial 14 config: {'estimators': {'estimator_name': 'sklearn.ensemble.GradientBoostingClassifier', 'estimator_class': <class 'sklearn.ensemble._gb.GradientBoostingClassifier'>, 'params': {'n_estimators': 776, 'max_depth': 3}}}\n",
      "[flaml.tune.tune: 02-05 19:44:56] {884} INFO - trial 15 config: {'estimators': {'estimator_name': 'sklearn.ensemble.GradientBoostingClassifier', 'estimator_class': <class 'sklearn.ensemble._gb.GradientBoostingClassifier'>, 'params': {'n_estimators': 765, 'max_depth': 3}}}\n",
      "[flaml.tune.tune: 02-05 19:45:01] {884} INFO - trial 16 config: {'estimators': {'estimator_name': 'sklearn.ensemble.GradientBoostingClassifier', 'estimator_class': <class 'sklearn.ensemble._gb.GradientBoostingClassifier'>, 'params': {'n_estimators': 609, 'max_depth': 9}}}\n",
      "[flaml.tune.tune: 02-05 19:45:05] {884} INFO - trial 17 config: {'estimators': {'estimator_name': 'sklearn.ensemble.GradientBoostingClassifier', 'estimator_class': <class 'sklearn.ensemble._gb.GradientBoostingClassifier'>, 'params': {'n_estimators': 671, 'max_depth': 5}}}\n",
      "[flaml.tune.tune: 02-05 19:45:09] {884} INFO - trial 18 config: {'estimators': {'estimator_name': 'sklearn.ensemble.GradientBoostingClassifier', 'estimator_class': <class 'sklearn.ensemble._gb.GradientBoostingClassifier'>, 'params': {'n_estimators': 47, 'max_depth': 2}}}\n",
      "[flaml.tune.tune: 02-05 19:45:09] {884} INFO - trial 19 config: {'estimators': {'estimator_name': 'sklearn.ensemble.GradientBoostingClassifier', 'estimator_class': <class 'sklearn.ensemble._gb.GradientBoostingClassifier'>, 'params': {'n_estimators': 54, 'max_depth': 19}}}\n",
      "[flaml.tune.tune: 02-05 19:45:10] {884} INFO - trial 20 config: {'estimators': {'estimator_name': 'sklearn.ensemble.GradientBoostingClassifier', 'estimator_class': <class 'sklearn.ensemble._gb.GradientBoostingClassifier'>, 'params': {'n_estimators': 703, 'max_depth': 7}}}\n",
      "[flaml.tune.tune: 02-05 19:45:14] {884} INFO - trial 21 config: {'estimators': {'estimator_name': 'sklearn.ensemble.GradientBoostingClassifier', 'estimator_class': <class 'sklearn.ensemble._gb.GradientBoostingClassifier'>, 'params': {'n_estimators': 123, 'max_depth': 17}}}\n",
      "[flaml.tune.tune: 02-05 19:45:15] {884} INFO - trial 22 config: {'estimators': {'estimator_name': 'sklearn.ensemble.GradientBoostingClassifier', 'estimator_class': <class 'sklearn.ensemble._gb.GradientBoostingClassifier'>, 'params': {'n_estimators': 659, 'max_depth': 7}}}\n",
      "[flaml.tune.tune: 02-05 19:45:20] {884} INFO - trial 23 config: {'estimators': {'estimator_name': 'sklearn.ensemble.GradientBoostingClassifier', 'estimator_class': <class 'sklearn.ensemble._gb.GradientBoostingClassifier'>, 'params': {'n_estimators': 53, 'max_depth': 19}}}\n",
      "[flaml.tune.tune: 02-05 19:45:20] {884} INFO - trial 24 config: {'estimators': {'estimator_name': 'sklearn.ensemble.GradientBoostingClassifier', 'estimator_class': <class 'sklearn.ensemble._gb.GradientBoostingClassifier'>, 'params': {'n_estimators': 715, 'max_depth': 5}}}\n",
      "[flaml.tune.tune: 02-05 19:45:25] {884} INFO - trial 25 config: {'estimators': {'estimator_name': 'sklearn.ensemble.GradientBoostingClassifier', 'estimator_class': <class 'sklearn.ensemble._gb.GradientBoostingClassifier'>, 'params': {'n_estimators': 93, 'max_depth': 17}}}\n",
      "[flaml.tune.tune: 02-05 19:45:26] {884} INFO - trial 26 config: {'estimators': {'estimator_name': 'sklearn.ensemble.GradientBoostingClassifier', 'estimator_class': <class 'sklearn.ensemble._gb.GradientBoostingClassifier'>, 'params': {'n_estimators': 668, 'max_depth': 7}}}\n",
      "[flaml.tune.tune: 02-05 19:45:30] {884} INFO - trial 27 config: {'estimators': {'estimator_name': 'sklearn.ensemble.GradientBoostingClassifier', 'estimator_class': <class 'sklearn.ensemble._gb.GradientBoostingClassifier'>, 'params': {'n_estimators': 83, 'max_depth': 19}}}\n",
      "[flaml.tune.tune: 02-05 19:45:31] {884} INFO - trial 28 config: {'estimators': {'estimator_name': 'sklearn.ensemble.GradientBoostingClassifier', 'estimator_class': <class 'sklearn.ensemble._gb.GradientBoostingClassifier'>, 'params': {'n_estimators': 706, 'max_depth': 5}}}\n",
      "[flaml.tune.tune: 02-05 19:45:35] {884} INFO - trial 29 config: {'estimators': {'estimator_name': 'sklearn.ensemble.GradientBoostingClassifier', 'estimator_class': <class 'sklearn.ensemble._gb.GradientBoostingClassifier'>, 'params': {'n_estimators': 112, 'max_depth': 19}}}\n",
      "[flaml.tune.tune: 02-05 19:45:36] {884} INFO - trial 30 config: {'estimators': {'estimator_name': 'sklearn.ensemble.GradientBoostingClassifier', 'estimator_class': <class 'sklearn.ensemble._gb.GradientBoostingClassifier'>, 'params': {'n_estimators': 725, 'max_depth': 6}}}\n",
      "[flaml.tune.tune: 02-05 19:45:41] {884} INFO - trial 31 config: {'estimators': {'estimator_name': 'sklearn.ensemble.GradientBoostingClassifier', 'estimator_class': <class 'sklearn.ensemble._gb.GradientBoostingClassifier'>, 'params': {'n_estimators': 64, 'max_depth': 17}}}\n",
      "[flaml.tune.tune: 02-05 19:45:41] {884} INFO - trial 32 config: {'estimators': {'estimator_name': 'sklearn.ensemble.GradientBoostingClassifier', 'estimator_class': <class 'sklearn.ensemble._gb.GradientBoostingClassifier'>, 'params': {'n_estimators': 649, 'max_depth': 6}}}\n",
      "[flaml.tune.tune: 02-05 19:45:46] {884} INFO - trial 33 config: {'estimators': {'estimator_name': 'sklearn.ensemble.GradientBoostingClassifier', 'estimator_class': <class 'sklearn.ensemble._gb.GradientBoostingClassifier'>, 'params': {'n_estimators': 62, 'max_depth': 19}}}\n",
      "[flaml.tune.tune: 02-05 19:45:46] {884} INFO - trial 34 config: {'estimators': {'estimator_name': 'sklearn.ensemble.GradientBoostingClassifier', 'estimator_class': <class 'sklearn.ensemble._gb.GradientBoostingClassifier'>, 'params': {'n_estimators': 661, 'max_depth': 5}}}\n",
      "[flaml.tune.tune: 02-05 19:45:50] {884} INFO - trial 35 config: {'estimators': {'estimator_name': 'sklearn.ensemble.GradientBoostingClassifier', 'estimator_class': <class 'sklearn.ensemble._gb.GradientBoostingClassifier'>, 'params': {'n_estimators': 114, 'max_depth': 17}}}\n",
      "[flaml.tune.tune: 02-05 19:45:51] {884} INFO - trial 36 config: {'estimators': {'estimator_name': 'sklearn.ensemble.GradientBoostingClassifier', 'estimator_class': <class 'sklearn.ensemble._gb.GradientBoostingClassifier'>, 'params': {'n_estimators': 713, 'max_depth': 7}}}\n",
      "[flaml.tune.tune: 02-05 19:45:56] {884} INFO - trial 37 config: {'estimators': {'estimator_name': 'sklearn.ensemble.GradientBoostingClassifier', 'estimator_class': <class 'sklearn.ensemble._gb.GradientBoostingClassifier'>, 'params': {'n_estimators': 107, 'max_depth': 19}}}\n",
      "[flaml.tune.tune: 02-05 19:45:57] {884} INFO - trial 38 config: {'estimators': {'estimator_name': 'sklearn.ensemble.GradientBoostingClassifier', 'estimator_class': <class 'sklearn.ensemble._gb.GradientBoostingClassifier'>, 'params': {'n_estimators': 699, 'max_depth': 7}}}\n",
      "[flaml.tune.tune: 02-05 19:46:01] {884} INFO - trial 39 config: {'estimators': {'estimator_name': 'sklearn.ensemble.GradientBoostingClassifier', 'estimator_class': <class 'sklearn.ensemble._gb.GradientBoostingClassifier'>, 'params': {'n_estimators': 69, 'max_depth': 17}}}\n",
      "[flaml.tune.tune: 02-05 19:46:02] {884} INFO - trial 40 config: {'estimators': {'estimator_name': 'sklearn.ensemble.GradientBoostingClassifier', 'estimator_class': <class 'sklearn.ensemble._gb.GradientBoostingClassifier'>, 'params': {'n_estimators': 675, 'max_depth': 5}}}\n",
      "[flaml.tune.tune: 02-05 19:46:06] {884} INFO - trial 41 config: {'estimators': {'estimator_name': 'sklearn.ensemble.GradientBoostingClassifier', 'estimator_class': <class 'sklearn.ensemble._gb.GradientBoostingClassifier'>, 'params': {'n_estimators': 111, 'max_depth': 17}}}\n",
      "[flaml.tune.tune: 02-05 19:46:07] {884} INFO - trial 42 config: {'estimators': {'estimator_name': 'sklearn.ensemble.GradientBoostingClassifier', 'estimator_class': <class 'sklearn.ensemble._gb.GradientBoostingClassifier'>, 'params': {'n_estimators': 658, 'max_depth': 6}}}\n",
      "[flaml.tune.tune: 02-05 19:46:11] {884} INFO - trial 43 config: {'estimators': {'estimator_name': 'sklearn.ensemble.GradientBoostingClassifier', 'estimator_class': <class 'sklearn.ensemble._gb.GradientBoostingClassifier'>, 'params': {'n_estimators': 65, 'max_depth': 19}}}\n",
      "[flaml.tune.tune: 02-05 19:46:12] {884} INFO - trial 44 config: {'estimators': {'estimator_name': 'sklearn.ensemble.GradientBoostingClassifier', 'estimator_class': <class 'sklearn.ensemble._gb.GradientBoostingClassifier'>, 'params': {'n_estimators': 716, 'max_depth': 6}}}\n",
      "[flaml.tune.tune: 02-05 19:46:16] {884} INFO - trial 45 config: {'estimators': {'estimator_name': 'sklearn.ensemble.GradientBoostingClassifier', 'estimator_class': <class 'sklearn.ensemble._gb.GradientBoostingClassifier'>, 'params': {'n_estimators': 681, 'max_depth': 7}}}\n",
      "[flaml.tune.tune: 02-05 19:46:20] {884} INFO - trial 46 config: {'estimators': {'estimator_name': 'sklearn.ensemble.GradientBoostingClassifier', 'estimator_class': <class 'sklearn.ensemble._gb.GradientBoostingClassifier'>, 'params': {'n_estimators': 693, 'max_depth': 5}}}\n",
      "[flaml.tune.tune: 02-05 19:46:24] {884} INFO - trial 47 config: {'estimators': {'estimator_name': 'sklearn.ensemble.GradientBoostingClassifier', 'estimator_class': <class 'sklearn.ensemble._gb.GradientBoostingClassifier'>, 'params': {'n_estimators': 165, 'max_depth': 9}}}\n",
      "[flaml.tune.tune: 02-05 19:46:26] {884} INFO - trial 48 config: {'estimators': {'estimator_name': 'sklearn.ensemble.GradientBoostingClassifier', 'estimator_class': <class 'sklearn.ensemble._gb.GradientBoostingClassifier'>, 'params': {'n_estimators': 254, 'max_depth': 6}}}\n",
      "[flaml.tune.tune: 02-05 19:46:28] {884} INFO - trial 49 config: {'estimators': {'estimator_name': 'sklearn.ensemble.GradientBoostingClassifier', 'estimator_class': <class 'sklearn.ensemble._gb.GradientBoostingClassifier'>, 'params': {'n_estimators': 76, 'max_depth': 12}}}\n",
      "[flaml.tune.tune: 02-05 19:46:28] {884} INFO - trial 50 config: {'estimators': {'estimator_name': 'sklearn.ensemble.GradientBoostingClassifier', 'estimator_class': <class 'sklearn.ensemble._gb.GradientBoostingClassifier'>, 'params': {'n_estimators': 221, 'max_depth': 5}}}\n",
      "[flaml.tune.tune: 02-05 19:46:30] {884} INFO - trial 51 config: {'estimators': {'estimator_name': 'sklearn.ensemble.GradientBoostingClassifier', 'estimator_class': <class 'sklearn.ensemble._gb.GradientBoostingClassifier'>, 'params': {'n_estimators': 109, 'max_depth': 13}}}\n",
      "[flaml.tune.tune: 02-05 19:46:31] {884} INFO - trial 52 config: {'estimators': {'estimator_name': 'sklearn.ensemble.GradientBoostingClassifier', 'estimator_class': <class 'sklearn.ensemble._gb.GradientBoostingClassifier'>, 'params': {'n_estimators': 119, 'max_depth': 7}}}\n",
      "[flaml.tune.tune: 02-05 19:46:32] {884} INFO - trial 53 config: {'estimators': {'estimator_name': 'sklearn.ensemble.GradientBoostingClassifier', 'estimator_class': <class 'sklearn.ensemble._gb.GradientBoostingClassifier'>, 'params': {'n_estimators': 211, 'max_depth': 11}}}\n",
      "[flaml.tune.tune: 02-05 19:46:34] {884} INFO - trial 54 config: {'estimators': {'estimator_name': 'sklearn.ensemble.GradientBoostingClassifier', 'estimator_class': <class 'sklearn.ensemble._gb.GradientBoostingClassifier'>, 'params': {'n_estimators': 228, 'max_depth': 9}}}\n",
      "[flaml.tune.tune: 02-05 19:46:35] {884} INFO - trial 55 config: {'estimators': {'estimator_name': 'sklearn.ensemble.GradientBoostingClassifier', 'estimator_class': <class 'sklearn.ensemble._gb.GradientBoostingClassifier'>, 'params': {'n_estimators': 102, 'max_depth': 9}}}\n",
      "[flaml.tune.tune: 02-05 19:46:36] {884} INFO - trial 56 config: {'estimators': {'estimator_name': 'sklearn.ensemble.GradientBoostingClassifier', 'estimator_class': <class 'sklearn.ensemble._gb.GradientBoostingClassifier'>, 'params': {'n_estimators': 142, 'max_depth': 11}}}\n",
      "[flaml.tune.tune: 02-05 19:46:37] {884} INFO - trial 57 config: {'estimators': {'estimator_name': 'sklearn.ensemble.GradientBoostingClassifier', 'estimator_class': <class 'sklearn.ensemble._gb.GradientBoostingClassifier'>, 'params': {'n_estimators': 188, 'max_depth': 7}}}\n",
      "[flaml.tune.tune: 02-05 19:46:39] {884} INFO - trial 58 config: {'estimators': {'estimator_name': 'sklearn.ensemble.GradientBoostingClassifier', 'estimator_class': <class 'sklearn.ensemble._gb.GradientBoostingClassifier'>, 'params': {'n_estimators': 214, 'max_depth': 8}}}\n",
      "[flaml.tune.tune: 02-05 19:46:40] {884} INFO - trial 59 config: {'estimators': {'estimator_name': 'sklearn.ensemble.GradientBoostingClassifier', 'estimator_class': <class 'sklearn.ensemble._gb.GradientBoostingClassifier'>, 'params': {'n_estimators': 116, 'max_depth': 10}}}\n",
      "[flaml.tune.tune: 02-05 19:46:41] {884} INFO - trial 60 config: {'estimators': {'estimator_name': 'sklearn.ensemble.GradientBoostingClassifier', 'estimator_class': <class 'sklearn.ensemble._gb.GradientBoostingClassifier'>, 'params': {'n_estimators': 207, 'max_depth': 8}}}\n",
      "[flaml.tune.tune: 02-05 19:46:43] {884} INFO - trial 61 config: {'estimators': {'estimator_name': 'sklearn.ensemble.GradientBoostingClassifier', 'estimator_class': <class 'sklearn.ensemble._gb.GradientBoostingClassifier'>, 'params': {'n_estimators': 123, 'max_depth': 10}}}\n",
      "[flaml.tune.tune: 02-05 19:46:44] {884} INFO - trial 62 config: {'estimators': {'estimator_name': 'sklearn.ensemble.GradientBoostingClassifier', 'estimator_class': <class 'sklearn.ensemble._gb.GradientBoostingClassifier'>, 'params': {'n_estimators': 190, 'max_depth': 10}}}\n",
      "[flaml.tune.tune: 02-05 19:46:45] {884} INFO - trial 63 config: {'estimators': {'estimator_name': 'sklearn.ensemble.GradientBoostingClassifier', 'estimator_class': <class 'sklearn.ensemble._gb.GradientBoostingClassifier'>, 'params': {'n_estimators': 140, 'max_depth': 8}}}\n",
      "[flaml.tune.tune: 02-05 19:46:47] {884} INFO - trial 64 config: {'estimators': {'estimator_name': 'sklearn.ensemble.GradientBoostingClassifier', 'estimator_class': <class 'sklearn.ensemble._gb.GradientBoostingClassifier'>, 'params': {'n_estimators': 121, 'max_depth': 9}}}\n",
      "[flaml.tune.tune: 02-05 19:46:48] {884} INFO - trial 65 config: {'estimators': {'estimator_name': 'sklearn.ensemble.GradientBoostingClassifier', 'estimator_class': <class 'sklearn.ensemble._gb.GradientBoostingClassifier'>, 'params': {'n_estimators': 209, 'max_depth': 9}}}\n",
      "[flaml.tune.tune: 02-05 19:46:49] {884} INFO - trial 66 config: {'estimators': {'estimator_name': 'sklearn.ensemble.GradientBoostingClassifier', 'estimator_class': <class 'sklearn.ensemble._gb.GradientBoostingClassifier'>, 'params': {'n_estimators': 134, 'max_depth': 8}}}\n",
      "[flaml.tune.tune: 02-05 19:46:51] {884} INFO - trial 67 config: {'estimators': {'estimator_name': 'sklearn.ensemble.GradientBoostingClassifier', 'estimator_class': <class 'sklearn.ensemble._gb.GradientBoostingClassifier'>, 'params': {'n_estimators': 196, 'max_depth': 10}}}\n",
      "[flaml.tune.tune: 02-05 19:46:52] {884} INFO - trial 68 config: {'estimators': {'estimator_name': 'sklearn.ensemble.GradientBoostingClassifier', 'estimator_class': <class 'sklearn.ensemble._gb.GradientBoostingClassifier'>, 'params': {'n_estimators': 156, 'max_depth': 8}}}\n",
      "[flaml.tune.tune: 02-05 19:46:53] {884} INFO - trial 69 config: {'estimators': {'estimator_name': 'sklearn.ensemble.GradientBoostingClassifier', 'estimator_class': <class 'sklearn.ensemble._gb.GradientBoostingClassifier'>, 'params': {'n_estimators': 174, 'max_depth': 10}}}\n",
      "[flaml.tune.tune: 02-05 19:46:55] {884} INFO - trial 70 config: {'estimators': {'estimator_name': 'sklearn.ensemble.GradientBoostingClassifier', 'estimator_class': <class 'sklearn.ensemble._gb.GradientBoostingClassifier'>, 'params': {'n_estimators': 127, 'max_depth': 9}}}\n",
      "[flaml.tune.tune: 02-05 19:46:56] {884} INFO - trial 71 config: {'estimators': {'estimator_name': 'sklearn.ensemble.GradientBoostingClassifier', 'estimator_class': <class 'sklearn.ensemble._gb.GradientBoostingClassifier'>, 'params': {'n_estimators': 203, 'max_depth': 9}}}\n",
      "[flaml.tune.tune: 02-05 19:46:58] {884} INFO - trial 72 config: {'estimators': {'estimator_name': 'sklearn.ensemble.GradientBoostingClassifier', 'estimator_class': <class 'sklearn.ensemble._gb.GradientBoostingClassifier'>, 'params': {'n_estimators': 188, 'max_depth': 10}}}\n",
      "[flaml.tune.tune: 02-05 19:46:59] {884} INFO - trial 73 config: {'estimators': {'estimator_name': 'sklearn.ensemble.GradientBoostingClassifier', 'estimator_class': <class 'sklearn.ensemble._gb.GradientBoostingClassifier'>, 'params': {'n_estimators': 142, 'max_depth': 8}}}\n",
      "[flaml.tune.tune: 02-05 19:47:00] {884} INFO - trial 74 config: {'estimators': {'estimator_name': 'sklearn.ensemble.GradientBoostingClassifier', 'estimator_class': <class 'sklearn.ensemble._gb.GradientBoostingClassifier'>, 'params': {'n_estimators': 145, 'max_depth': 10}}}\n",
      "[flaml.tune.tune: 02-05 19:47:01] {884} INFO - trial 75 config: {'estimators': {'estimator_name': 'sklearn.ensemble.GradientBoostingClassifier', 'estimator_class': <class 'sklearn.ensemble._gb.GradientBoostingClassifier'>, 'params': {'n_estimators': 185, 'max_depth': 8}}}\n",
      "[flaml.tune.tune: 02-05 19:47:03] {884} INFO - trial 76 config: {'estimators': {'estimator_name': 'sklearn.ensemble.GradientBoostingClassifier', 'estimator_class': <class 'sklearn.ensemble._gb.GradientBoostingClassifier'>, 'params': {'n_estimators': 193, 'max_depth': 10}}}\n",
      "[flaml.tune.tune: 02-05 19:47:04] {884} INFO - trial 77 config: {'estimators': {'estimator_name': 'sklearn.ensemble.GradientBoostingClassifier', 'estimator_class': <class 'sklearn.ensemble._gb.GradientBoostingClassifier'>, 'params': {'n_estimators': 137, 'max_depth': 8}}}\n",
      "[flaml.tune.tune: 02-05 19:47:05] {884} INFO - trial 78 config: {'estimators': {'estimator_name': 'sklearn.ensemble.GradientBoostingClassifier', 'estimator_class': <class 'sklearn.ensemble._gb.GradientBoostingClassifier'>, 'params': {'n_estimators': 144, 'max_depth': 8}}}\n",
      "[flaml.tune.tune: 02-05 19:47:07] {884} INFO - trial 79 config: {'estimators': {'estimator_name': 'sklearn.ensemble.GradientBoostingClassifier', 'estimator_class': <class 'sklearn.ensemble._gb.GradientBoostingClassifier'>, 'params': {'n_estimators': 186, 'max_depth': 10}}}\n",
      "[flaml.tune.tune: 02-05 19:47:08] {884} INFO - trial 80 config: {'estimators': {'estimator_name': 'sklearn.ensemble.GradientBoostingClassifier', 'estimator_class': <class 'sklearn.ensemble._gb.GradientBoostingClassifier'>, 'params': {'n_estimators': 175, 'max_depth': 10}}}\n",
      "[flaml.tune.tune: 02-05 19:47:09] {884} INFO - trial 81 config: {'estimators': {'estimator_name': 'sklearn.ensemble.GradientBoostingClassifier', 'estimator_class': <class 'sklearn.ensemble._gb.GradientBoostingClassifier'>, 'params': {'n_estimators': 155, 'max_depth': 8}}}\n",
      "[flaml.tune.tune: 02-05 19:47:11] {884} INFO - trial 82 config: {'estimators': {'estimator_name': 'sklearn.ensemble.GradientBoostingClassifier', 'estimator_class': <class 'sklearn.ensemble._gb.GradientBoostingClassifier'>, 'params': {'n_estimators': 164, 'max_depth': 10}}}\n",
      "[flaml.tune.tune: 02-05 19:47:12] {884} INFO - trial 83 config: {'estimators': {'estimator_name': 'sklearn.ensemble.GradientBoostingClassifier', 'estimator_class': <class 'sklearn.ensemble._gb.GradientBoostingClassifier'>, 'params': {'n_estimators': 166, 'max_depth': 8}}}\n",
      "[flaml.tune.tune: 02-05 19:47:13] {884} INFO - trial 84 config: {'estimators': {'estimator_name': 'sklearn.ensemble.GradientBoostingClassifier', 'estimator_class': <class 'sklearn.ensemble._gb.GradientBoostingClassifier'>, 'params': {'n_estimators': 189, 'max_depth': 10}}}\n",
      "[flaml.tune.tune: 02-05 19:47:15] {884} INFO - trial 85 config: {'estimators': {'estimator_name': 'sklearn.ensemble.GradientBoostingClassifier', 'estimator_class': <class 'sklearn.ensemble._gb.GradientBoostingClassifier'>, 'params': {'n_estimators': 141, 'max_depth': 8}}}\n",
      "[flaml.tune.tune: 02-05 19:47:16] {884} INFO - trial 86 config: {'estimators': {'estimator_name': 'sklearn.ensemble.GradientBoostingClassifier', 'estimator_class': <class 'sklearn.ensemble._gb.GradientBoostingClassifier'>, 'params': {'n_estimators': 158, 'max_depth': 10}}}\n",
      "[flaml.tune.tune: 02-05 19:47:17] {884} INFO - trial 87 config: {'estimators': {'estimator_name': 'sklearn.ensemble.GradientBoostingClassifier', 'estimator_class': <class 'sklearn.ensemble._gb.GradientBoostingClassifier'>, 'params': {'n_estimators': 172, 'max_depth': 8}}}\n",
      "[flaml.tune.tune: 02-05 19:47:19] {884} INFO - trial 88 config: {'estimators': {'estimator_name': 'sklearn.ensemble.GradientBoostingClassifier', 'estimator_class': <class 'sklearn.ensemble._gb.GradientBoostingClassifier'>, 'params': {'n_estimators': 190, 'max_depth': 9}}}\n",
      "[flaml.tune.tune: 02-05 19:47:20] {884} INFO - trial 89 config: {'estimators': {'estimator_name': 'sklearn.ensemble.GradientBoostingClassifier', 'estimator_class': <class 'sklearn.ensemble._gb.GradientBoostingClassifier'>, 'params': {'n_estimators': 62, 'max_depth': 18}}}\n",
      "[flaml.tune.tune: 02-05 19:47:21] {884} INFO - trial 90 config: {'estimators': {'estimator_name': 'sklearn.ensemble.GradientBoostingClassifier', 'estimator_class': <class 'sklearn.ensemble._gb.GradientBoostingClassifier'>, 'params': {'n_estimators': 140, 'max_depth': 9}}}\n",
      "[flaml.tune.tune: 02-05 19:47:22] {884} INFO - trial 91 config: {'estimators': {'estimator_name': 'sklearn.ensemble.GradientBoostingClassifier', 'estimator_class': <class 'sklearn.ensemble._gb.GradientBoostingClassifier'>, 'params': {'n_estimators': 157, 'max_depth': 8}}}\n",
      "[flaml.tune.tune: 02-05 19:47:23] {884} INFO - trial 92 config: {'estimators': {'estimator_name': 'sklearn.ensemble.GradientBoostingClassifier', 'estimator_class': <class 'sklearn.ensemble._gb.GradientBoostingClassifier'>, 'params': {'n_estimators': 173, 'max_depth': 10}}}\n",
      "[flaml.tune.tune: 02-05 19:47:24] {884} INFO - trial 93 config: {'estimators': {'estimator_name': 'sklearn.ensemble.GradientBoostingClassifier', 'estimator_class': <class 'sklearn.ensemble._gb.GradientBoostingClassifier'>, 'params': {'n_estimators': 114, 'max_depth': 18}}}\n",
      "[flaml.tune.tune: 02-05 19:47:25] {884} INFO - trial 94 config: {'estimators': {'estimator_name': 'sklearn.ensemble.GradientBoostingClassifier', 'estimator_class': <class 'sklearn.ensemble._gb.GradientBoostingClassifier'>, 'params': {'n_estimators': 174, 'max_depth': 8}}}\n",
      "[flaml.tune.tune: 02-05 19:47:27] {884} INFO - trial 95 config: {'estimators': {'estimator_name': 'sklearn.ensemble.GradientBoostingClassifier', 'estimator_class': <class 'sklearn.ensemble._gb.GradientBoostingClassifier'>, 'params': {'n_estimators': 156, 'max_depth': 10}}}\n",
      "[flaml.tune.tune: 02-05 19:47:28] {884} INFO - trial 96 config: {'estimators': {'estimator_name': 'sklearn.ensemble.GradientBoostingClassifier', 'estimator_class': <class 'sklearn.ensemble._gb.GradientBoostingClassifier'>, 'params': {'n_estimators': 112, 'max_depth': 18}}}\n",
      "[flaml.tune.tune: 02-05 19:47:29] {884} INFO - trial 97 config: {'estimators': {'estimator_name': 'sklearn.ensemble.GradientBoostingClassifier', 'estimator_class': <class 'sklearn.ensemble._gb.GradientBoostingClassifier'>, 'params': {'n_estimators': 694, 'max_depth': 5}}}\n",
      "[flaml.tune.tune: 02-05 19:47:33] {884} INFO - trial 98 config: {'estimators': {'estimator_name': 'sklearn.ensemble.GradientBoostingClassifier', 'estimator_class': <class 'sklearn.ensemble._gb.GradientBoostingClassifier'>, 'params': {'n_estimators': 154, 'max_depth': 10}}}\n",
      "[flaml.tune.tune: 02-05 19:47:35] {884} INFO - trial 99 config: {'estimators': {'estimator_name': 'sklearn.ensemble.GradientBoostingClassifier', 'estimator_class': <class 'sklearn.ensemble._gb.GradientBoostingClassifier'>, 'params': {'n_estimators': 176, 'max_depth': 8}}}\n",
      "[flaml.tune.tune: 02-05 19:47:36] {884} INFO - trial 100 config: {'estimators': {'estimator_name': 'sklearn.ensemble.GradientBoostingClassifier', 'estimator_class': <class 'sklearn.ensemble._gb.GradientBoostingClassifier'>, 'params': {'n_estimators': 64, 'max_depth': 18}}}\n"
     ]
    }
   ],
   "source": [
    "flaml_result = tune.run(objective, \n",
    "                  config=search_space.get_flaml_space(),\n",
    "                  mode=\"min\", num_samples=100, use_ray=False)"
   ],
   "metadata": {
    "collapsed": false,
    "ExecuteTime": {
     "end_time": "2025-02-05T19:47:37.096233800Z",
     "start_time": "2025-02-05T19:44:31.863099900Z"
    }
   },
   "id": "15543ab8c5890454"
  },
  {
   "cell_type": "code",
   "execution_count": 11,
   "outputs": [
    {
     "name": "stdout",
     "output_type": "stream",
     "text": [
      "{'_metric': np.float64(-0.9666666666666668), 'training_iteration': 0, 'config': {'estimators': {'estimator_name': 'sklearn.ensemble.GradientBoostingClassifier', 'estimator_class': <class 'sklearn.ensemble._gb.GradientBoostingClassifier'>, 'params': {'n_estimators': 88, 'max_depth': 18}}}, 'config/estimators': {'estimator_name': 'sklearn.ensemble.GradientBoostingClassifier', 'estimator_class': <class 'sklearn.ensemble._gb.GradientBoostingClassifier'>, 'params': {'n_estimators': 88, 'max_depth': 18}}, 'experiment_tag': 'exp', 'time_total_s': 0.7919940948486328}\n"
     ]
    }
   ],
   "source": [
    "print(flaml_result.best_result)"
   ],
   "metadata": {
    "collapsed": false,
    "ExecuteTime": {
     "end_time": "2025-02-05T19:47:37.102147600Z",
     "start_time": "2025-02-05T19:47:37.097287600Z"
    }
   },
   "id": "9085b3fde5e5b3c3"
  }
 ],
 "metadata": {
  "kernelspec": {
   "display_name": "Python 3",
   "language": "python",
   "name": "python3"
  },
  "language_info": {
   "codemirror_mode": {
    "name": "ipython",
    "version": 2
   },
   "file_extension": ".py",
   "mimetype": "text/x-python",
   "name": "python",
   "nbconvert_exporter": "python",
   "pygments_lexer": "ipython2",
   "version": "2.7.6"
  }
 },
 "nbformat": 4,
 "nbformat_minor": 5
}
