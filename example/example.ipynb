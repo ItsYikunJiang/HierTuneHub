{
 "cells": [
  {
   "cell_type": "markdown",
   "source": [
    "This is an example notebook on how to use `SearchSpace`"
   ],
   "metadata": {
    "collapsed": false
   },
   "id": "bd470ddc19833da6"
  },
  {
   "cell_type": "code",
   "execution_count": null,
   "id": "initial_id",
   "metadata": {
    "collapsed": true
   },
   "outputs": [],
   "source": [
    "# import necessary libraries\n",
    "from HPSearchSpace import SearchSpace\n",
    "import hyperopt\n",
    "import optuna\n",
    "\n",
    "from sklearn.datasets import load_iris\n",
    "from sklearn.model_selection import cross_val_score"
   ]
  },
  {
   "cell_type": "markdown",
   "source": [
    "To demonstrate how to use `SearchSpace` for different hyperparameter optimization libraries, we use the `iris` dataset to perform a simple classification task."
   ],
   "metadata": {
    "collapsed": false
   },
   "id": "6ade9c2fd2c721b1"
  },
  {
   "cell_type": "code",
   "execution_count": 1,
   "outputs": [],
   "source": [
    "iris = load_iris()\n",
    "x, y = iris.data, iris.target"
   ],
   "metadata": {
    "collapsed": false,
    "ExecuteTime": {
     "end_time": "2025-02-01T15:06:15.875693200Z",
     "start_time": "2025-02-01T15:06:15.854385Z"
    }
   },
   "id": "dbaae1ae5e760f8c"
  },
  {
   "cell_type": "markdown",
   "source": [
    "The first step is to define what machine learning methods and what hyperparameter to optimize. The configuration is already stored in `example.yaml` file. We can simply load it."
   ],
   "metadata": {
    "collapsed": false
   },
   "id": "ecf88e037b1e3e2e"
  },
  {
   "cell_type": "code",
   "execution_count": null,
   "outputs": [],
   "source": [
    "search_space = SearchSpace(config_file='example.yaml')"
   ],
   "metadata": {
    "collapsed": false
   },
   "id": "54863fcee503f47f"
  },
  {
   "cell_type": "markdown",
   "source": [
    "Then, we can use `get_hyperopt_space` and `get_optuna_space` to get the search space for `hyperopt` and `optuna` respectively."
   ],
   "metadata": {
    "collapsed": false
   },
   "id": "61c447e60799ef3b"
  },
  {
   "cell_type": "code",
   "execution_count": null,
   "outputs": [],
   "source": [
    "hyperopt_space = search_space.get_hyperopt_space()\n",
    "optuna_space = search_space.get_optuna_space()"
   ],
   "metadata": {
    "collapsed": false
   },
   "id": "9451eaef3ad9ed33"
  },
  {
   "cell_type": "markdown",
   "source": [
    "Now, we can use the search space to optimize the hyperparameters of a machine learning model."
   ],
   "metadata": {
    "collapsed": false
   },
   "id": "fc63771234a3b45b"
  },
  {
   "cell_type": "markdown",
   "source": [
    "- Hyperopt"
   ],
   "metadata": {
    "collapsed": false
   },
   "id": "d40f0e5ddab97e0c"
  },
  {
   "cell_type": "code",
   "execution_count": null,
   "outputs": [],
   "source": [
    "# hyperopt objective function\n",
    "def objective(config):  \n",
    "    # config is the sampled hyperparameters from the search space.\n",
    "    # we want to maximize the accuracy of the model, however, hyperopt minimizes the objective function, so we use negative accuracy\n",
    "    model = config[\"model\"]\n",
    "    params = config[\"params\"]\n",
    "    model = model(**params)\n",
    "    score = cross_val_score(model, x, y, cv=5)\n",
    "    return -score.mean()"
   ],
   "metadata": {
    "collapsed": false
   },
   "id": "6913db5afca62a93"
  },
  {
   "cell_type": "code",
   "execution_count": null,
   "outputs": [],
   "source": [
    "# hyperopt optimization\n",
    "trial_hp = hyperopt.Trials()\n",
    "best_hyperopt = hyperopt.fmin(objective, hyperopt_space, algo=hyperopt.tpe.suggest, max_evals=10, trials=trial_hp)"
   ],
   "metadata": {
    "collapsed": false
   },
   "id": "8e001a98dafc4538"
  },
  {
   "cell_type": "markdown",
   "source": [
    "- Optuna"
   ],
   "metadata": {
    "collapsed": false
   },
   "id": "b406902b1d204b81"
  },
  {
   "cell_type": "code",
   "execution_count": null,
   "outputs": [],
   "source": [
    "# optuna objective function\n",
    "def objective_op(trial):\n",
    "    # similar to hyperopt, but the objective function takes in a trial object, and sampling in done using the trial object.\n",
    "    # A workaround is to use the optuna_space as a function where it contains the search space, and it takes in trial object and returns the sampled hyperparameters.\n",
    "    config = optuna_space(trial)\n",
    "    return objective(config)"
   ],
   "metadata": {
    "collapsed": false
   },
   "id": "54dbd68d37b59220"
  },
  {
   "cell_type": "code",
   "execution_count": null,
   "outputs": [],
   "source": [
    "# optuna optimization\n",
    "study = optuna.create_study(direction=\"minimize\")\n",
    "study.optimize(objective_op, n_trials=10)"
   ],
   "metadata": {
    "collapsed": false
   },
   "id": "eb0a767356023b0c"
  }
 ],
 "metadata": {
  "kernelspec": {
   "display_name": "Python 3",
   "language": "python",
   "name": "python3"
  },
  "language_info": {
   "codemirror_mode": {
    "name": "ipython",
    "version": 2
   },
   "file_extension": ".py",
   "mimetype": "text/x-python",
   "name": "python",
   "nbconvert_exporter": "python",
   "pygments_lexer": "ipython2",
   "version": "2.7.6"
  }
 },
 "nbformat": 4,
 "nbformat_minor": 5
}
