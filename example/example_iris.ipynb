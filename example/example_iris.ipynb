{
 "cells": [
  {
   "cell_type": "code",
   "execution_count": 1,
   "id": "initial_id",
   "metadata": {
    "collapsed": true,
    "ExecuteTime": {
     "end_time": "2025-02-05T18:47:17.254194700Z",
     "start_time": "2025-02-05T18:47:16.233644100Z"
    }
   },
   "outputs": [],
   "source": [
    "import numpy as np\n",
    "from sklearn.datasets import load_iris\n",
    "from sklearn.model_selection import cross_val_score\n",
    "\n",
    "np.random.seed(42)"
   ]
  },
  {
   "cell_type": "code",
   "execution_count": 2,
   "outputs": [],
   "source": [
    "iris = load_iris()\n",
    "x, y = iris.data, iris.target"
   ],
   "metadata": {
    "collapsed": false,
    "ExecuteTime": {
     "end_time": "2025-02-05T18:47:17.266765200Z",
     "start_time": "2025-02-05T18:47:17.256258400Z"
    }
   },
   "id": "68587253b44fe668"
  },
  {
   "cell_type": "code",
   "execution_count": null,
   "outputs": [],
   "source": [
    "from HPSearchSpace import SearchSpace\n",
    "search_space = SearchSpace('example.yaml')"
   ],
   "metadata": {
    "collapsed": false
   },
   "id": "a9bdc5e21ee8d7c4"
  },
  {
   "cell_type": "code",
   "execution_count": 4,
   "outputs": [],
   "source": [
    "def objective(config):\n",
    "    estimator = config['estimators']['estimator_class']\n",
    "    params = config['estimators']['params']\n",
    "    model = estimator(**params)\n",
    "    score = cross_val_score(model, x, y, cv=5).mean()\n",
    "    return -score"
   ],
   "metadata": {
    "collapsed": false,
    "ExecuteTime": {
     "end_time": "2025-02-05T18:47:19.537055700Z",
     "start_time": "2025-02-05T18:47:19.528619800Z"
    }
   },
   "id": "67c2865a63168cfc"
  },
  {
   "cell_type": "markdown",
   "source": [
    "- Hyperopt"
   ],
   "metadata": {
    "collapsed": false
   },
   "id": "1659bc0df2789c2b"
  },
  {
   "cell_type": "code",
   "execution_count": 5,
   "outputs": [
    {
     "name": "stdout",
     "output_type": "stream",
     "text": [
      "100%|██████████| 100/100 [01:37<00:00,  1.02trial/s, best loss: -0.9866666666666667]\n"
     ]
    }
   ],
   "source": [
    "from hyperopt import fmin, Trials, tpe\n",
    "# space = hp.choice(\n",
    "#     \"classifier\", [\n",
    "#         {\n",
    "#             \"model\": SVC,\n",
    "#             \"params\": {\n",
    "#                 \"C\": hp.loguniform(\"svm_C\", 1e-10, 1),\n",
    "#                 \"kernel\": \"linear\"\n",
    "#             }\n",
    "#         },\n",
    "#         {\n",
    "#             \"model\": RandomForestClassifier,\n",
    "#             \"params\": {\n",
    "#                 \"n_estimators\": scope.int(hp.quniform(\"rf_n_estimators\", 10, 1000, 10)),\n",
    "#                 \"max_depth\": scope.int(hp.quniform(\"rf_max_depth\", 2, 32, 1))\n",
    "#             }\n",
    "#         },\n",
    "#         {\n",
    "#             \"model\": GradientBoostingClassifier,\n",
    "#             \"params\": {\n",
    "#                 \"n_estimators\": scope.int(hp.quniform(\"gb_n_estimators\", 10, 1000, 10)),\n",
    "#                 \"max_depth\": scope.int(hp.quniform(\"gb_max_depth\", 2, 32, 1))\n",
    "#             }\n",
    "#         },\n",
    "#         {\n",
    "#             \"model\": KNeighborsClassifier,\n",
    "#             \"params\": {\n",
    "#                 \"n_neighbors\": scope.int(hp.quniform(\"knn_n_neighbors\", 2, 10, 1))\n",
    "#             }\n",
    "#         }\n",
    "#     ]\n",
    "# )\n",
    "\n",
    "# def objective_hp(params):\n",
    "#     model = params[\"model\"]\n",
    "#     params = params[\"params\"]\n",
    "#     model = model(**params)\n",
    "#     score = cross_val_score(model, x, y, n_jobs=-1, cv=3)\n",
    "#     return -score.mean()\n",
    "\n",
    "hp_space = search_space.get_hyperopt_space()\n",
    "hp_trials = Trials()\n",
    "hp_best = fmin(objective, hp_space, trials=hp_trials, algo=tpe.suggest, max_evals=100)"
   ],
   "metadata": {
    "collapsed": false,
    "ExecuteTime": {
     "end_time": "2025-02-05T18:48:57.376497500Z",
     "start_time": "2025-02-05T18:47:19.541059Z"
    }
   },
   "id": "361b1e7362709c23"
  },
  {
   "cell_type": "code",
   "execution_count": 20,
   "outputs": [
    {
     "name": "stdout",
     "output_type": "stream",
     "text": [
      "{'loss': -0.9866666666666667, 'status': 'ok'} {'estimators': [np.int64(0)], 'estimators_sklearn.ensemble.GradientBoostingClassifier_max_depth': [], 'estimators_sklearn.ensemble.GradientBoostingClassifier_n_estimators': [], 'estimators_sklearn.ensemble.RandomForestClassifier_max_depth': [], 'estimators_sklearn.ensemble.RandomForestClassifier_n_estimators': [], 'estimators_sklearn.neighbors.KNeighborsClassifier_n_neighbors': [], 'estimators_sklearn.svm.SVC_C': [np.float64(1.3264537099115026)], 'estimators_sklearn.svm.SVC_kernel': [np.int64(0)]}\n"
     ]
    }
   ],
   "source": [
    "print(hp_trials.best_trial[\"result\"], hp_trials.best_trial[\"misc\"][\"vals\"])"
   ],
   "metadata": {
    "collapsed": false,
    "ExecuteTime": {
     "end_time": "2025-02-05T19:06:46.800845100Z",
     "start_time": "2025-02-05T19:06:46.795221400Z"
    }
   },
   "id": "c9acfd201dfd9512"
  },
  {
   "cell_type": "markdown",
   "source": [
    "- Optuna"
   ],
   "metadata": {
    "collapsed": false
   },
   "id": "b4d95993b7174455"
  },
  {
   "cell_type": "code",
   "execution_count": 6,
   "outputs": [
    {
     "name": "stderr",
     "output_type": "stream",
     "text": [
      "[I 2025-02-05 18:48:57,378] A new study created in memory with name: no-name-f4945cc9-94a9-440e-be6c-a50bcf6dcef6\n",
      "[I 2025-02-05 18:48:59,786] Trial 0 finished with value: -0.9666666666666668 and parameters: {'estimators': 'sklearn.ensemble.GradientBoostingClassifier', 'estimators_sklearn.ensemble.GradientBoostingClassifier_n_estimators': 360, 'estimators_sklearn.ensemble.GradientBoostingClassifier_max_depth': 18}. Best is trial 0 with value: -0.9666666666666668.\n",
      "[I 2025-02-05 18:48:59,803] Trial 1 finished with value: -0.9800000000000001 and parameters: {'estimators': 'sklearn.neighbors.KNeighborsClassifier', 'estimators_sklearn.neighbors.KNeighborsClassifier_n_neighbors': 7}. Best is trial 1 with value: -0.9800000000000001.\n",
      "[I 2025-02-05 18:49:00,897] Trial 2 finished with value: -0.96 and parameters: {'estimators': 'sklearn.ensemble.RandomForestClassifier', 'estimators_sklearn.ensemble.RandomForestClassifier_n_estimators': 246, 'estimators_sklearn.ensemble.RandomForestClassifier_max_depth': 19}. Best is trial 1 with value: -0.9800000000000001.\n",
      "[I 2025-02-05 18:49:05,043] Trial 3 finished with value: -0.9666666666666668 and parameters: {'estimators': 'sklearn.ensemble.RandomForestClassifier', 'estimators_sklearn.ensemble.RandomForestClassifier_n_estimators': 977, 'estimators_sklearn.ensemble.RandomForestClassifier_max_depth': 4}. Best is trial 1 with value: -0.9800000000000001.\n",
      "[I 2025-02-05 18:49:05,053] Trial 4 finished with value: -0.9133333333333334 and parameters: {'estimators': 'sklearn.svm.SVC', 'estimators_sklearn.svm.SVC_C': 4.935850714045437e-10, 'estimators_sklearn.svm.SVC_kernel': 'linear'}. Best is trial 1 with value: -0.9800000000000001.\n",
      "[I 2025-02-05 18:49:05,062] Trial 5 finished with value: -0.9133333333333334 and parameters: {'estimators': 'sklearn.svm.SVC', 'estimators_sklearn.svm.SVC_C': 1.5872635428631665e-05, 'estimators_sklearn.svm.SVC_kernel': 'linear'}. Best is trial 1 with value: -0.9800000000000001.\n",
      "[I 2025-02-05 18:49:05,070] Trial 6 finished with value: -0.9800000000000001 and parameters: {'estimators': 'sklearn.svm.SVC', 'estimators_sklearn.svm.SVC_C': 0.24092974983027915, 'estimators_sklearn.svm.SVC_kernel': 'linear'}. Best is trial 1 with value: -0.9800000000000001.\n",
      "[I 2025-02-05 18:49:08,606] Trial 7 finished with value: -0.9466666666666665 and parameters: {'estimators': 'sklearn.ensemble.RandomForestClassifier', 'estimators_sklearn.ensemble.RandomForestClassifier_n_estimators': 844, 'estimators_sklearn.ensemble.RandomForestClassifier_max_depth': 2}. Best is trial 1 with value: -0.9800000000000001.\n",
      "[I 2025-02-05 18:49:10,018] Trial 8 finished with value: -0.9666666666666668 and parameters: {'estimators': 'sklearn.ensemble.RandomForestClassifier', 'estimators_sklearn.ensemble.RandomForestClassifier_n_estimators': 330, 'estimators_sklearn.ensemble.RandomForestClassifier_max_depth': 18}. Best is trial 1 with value: -0.9800000000000001.\n",
      "[I 2025-02-05 18:49:11,708] Trial 9 finished with value: -0.9666666666666668 and parameters: {'estimators': 'sklearn.ensemble.GradientBoostingClassifier', 'estimators_sklearn.ensemble.GradientBoostingClassifier_n_estimators': 234, 'estimators_sklearn.ensemble.GradientBoostingClassifier_max_depth': 11}. Best is trial 1 with value: -0.9800000000000001.\n",
      "[I 2025-02-05 18:49:11,727] Trial 10 finished with value: -0.9800000000000001 and parameters: {'estimators': 'sklearn.neighbors.KNeighborsClassifier', 'estimators_sklearn.neighbors.KNeighborsClassifier_n_neighbors': 7}. Best is trial 1 with value: -0.9800000000000001.\n",
      "[I 2025-02-05 18:49:11,744] Trial 11 finished with value: -0.9800000000000001 and parameters: {'estimators': 'sklearn.neighbors.KNeighborsClassifier', 'estimators_sklearn.neighbors.KNeighborsClassifier_n_neighbors': 6}. Best is trial 1 with value: -0.9800000000000001.\n",
      "[I 2025-02-05 18:49:11,762] Trial 12 finished with value: -0.9800000000000001 and parameters: {'estimators': 'sklearn.neighbors.KNeighborsClassifier', 'estimators_sklearn.neighbors.KNeighborsClassifier_n_neighbors': 10}. Best is trial 1 with value: -0.9800000000000001.\n",
      "[I 2025-02-05 18:49:11,772] Trial 13 finished with value: -0.9800000000000001 and parameters: {'estimators': 'sklearn.svm.SVC', 'estimators_sklearn.svm.SVC_C': 0.23282570034072067, 'estimators_sklearn.svm.SVC_kernel': 'linear'}. Best is trial 1 with value: -0.9800000000000001.\n",
      "[I 2025-02-05 18:49:11,784] Trial 14 finished with value: -0.9800000000000001 and parameters: {'estimators': 'sklearn.svm.SVC', 'estimators_sklearn.svm.SVC_C': 0.185801458668055, 'estimators_sklearn.svm.SVC_kernel': 'linear'}. Best is trial 1 with value: -0.9800000000000001.\n",
      "[I 2025-02-05 18:49:11,803] Trial 15 finished with value: -0.9466666666666665 and parameters: {'estimators': 'sklearn.neighbors.KNeighborsClassifier', 'estimators_sklearn.neighbors.KNeighborsClassifier_n_neighbors': 2}. Best is trial 1 with value: -0.9800000000000001.\n",
      "[I 2025-02-05 18:49:11,822] Trial 16 finished with value: -0.9800000000000001 and parameters: {'estimators': 'sklearn.neighbors.KNeighborsClassifier', 'estimators_sklearn.neighbors.KNeighborsClassifier_n_neighbors': 6}. Best is trial 1 with value: -0.9800000000000001.\n",
      "[I 2025-02-05 18:49:11,834] Trial 17 finished with value: -0.9133333333333334 and parameters: {'estimators': 'sklearn.svm.SVC', 'estimators_sklearn.svm.SVC_C': 1.5818682131022664e-05, 'estimators_sklearn.svm.SVC_kernel': 'linear'}. Best is trial 1 with value: -0.9800000000000001.\n",
      "[I 2025-02-05 18:49:17,705] Trial 18 finished with value: -0.9666666666666668 and parameters: {'estimators': 'sklearn.ensemble.GradientBoostingClassifier', 'estimators_sklearn.ensemble.GradientBoostingClassifier_n_estimators': 995, 'estimators_sklearn.ensemble.GradientBoostingClassifier_max_depth': 28}. Best is trial 1 with value: -0.9800000000000001.\n",
      "[I 2025-02-05 18:49:17,725] Trial 19 finished with value: -0.9733333333333334 and parameters: {'estimators': 'sklearn.neighbors.KNeighborsClassifier', 'estimators_sklearn.neighbors.KNeighborsClassifier_n_neighbors': 9}. Best is trial 1 with value: -0.9800000000000001.\n",
      "[I 2025-02-05 18:49:17,738] Trial 20 finished with value: -0.9133333333333334 and parameters: {'estimators': 'sklearn.svm.SVC', 'estimators_sklearn.svm.SVC_C': 0.0016680971606119336, 'estimators_sklearn.svm.SVC_kernel': 'linear'}. Best is trial 1 with value: -0.9800000000000001.\n",
      "[I 2025-02-05 18:49:17,756] Trial 21 finished with value: -0.9800000000000001 and parameters: {'estimators': 'sklearn.neighbors.KNeighborsClassifier', 'estimators_sklearn.neighbors.KNeighborsClassifier_n_neighbors': 7}. Best is trial 1 with value: -0.9800000000000001.\n",
      "[I 2025-02-05 18:49:17,775] Trial 22 finished with value: -0.9800000000000001 and parameters: {'estimators': 'sklearn.neighbors.KNeighborsClassifier', 'estimators_sklearn.neighbors.KNeighborsClassifier_n_neighbors': 7}. Best is trial 1 with value: -0.9800000000000001.\n",
      "[I 2025-02-05 18:49:17,794] Trial 23 finished with value: -0.9666666666666668 and parameters: {'estimators': 'sklearn.neighbors.KNeighborsClassifier', 'estimators_sklearn.neighbors.KNeighborsClassifier_n_neighbors': 3}. Best is trial 1 with value: -0.9800000000000001.\n",
      "[I 2025-02-05 18:49:17,812] Trial 24 finished with value: -0.9666666666666668 and parameters: {'estimators': 'sklearn.neighbors.KNeighborsClassifier', 'estimators_sklearn.neighbors.KNeighborsClassifier_n_neighbors': 8}. Best is trial 1 with value: -0.9800000000000001.\n",
      "[I 2025-02-05 18:49:17,830] Trial 25 finished with value: -0.9733333333333334 and parameters: {'estimators': 'sklearn.neighbors.KNeighborsClassifier', 'estimators_sklearn.neighbors.KNeighborsClassifier_n_neighbors': 4}. Best is trial 1 with value: -0.9800000000000001.\n",
      "[I 2025-02-05 18:49:17,842] Trial 26 finished with value: -0.9133333333333334 and parameters: {'estimators': 'sklearn.svm.SVC', 'estimators_sklearn.svm.SVC_C': 9.368093830859413e-10, 'estimators_sklearn.svm.SVC_kernel': 'linear'}. Best is trial 1 with value: -0.9800000000000001.\n",
      "[I 2025-02-05 18:49:23,028] Trial 27 finished with value: -0.9600000000000002 and parameters: {'estimators': 'sklearn.ensemble.GradientBoostingClassifier', 'estimators_sklearn.ensemble.GradientBoostingClassifier_n_estimators': 799, 'estimators_sklearn.ensemble.GradientBoostingClassifier_max_depth': 3}. Best is trial 1 with value: -0.9800000000000001.\n",
      "[I 2025-02-05 18:49:23,046] Trial 28 finished with value: -0.9733333333333334 and parameters: {'estimators': 'sklearn.neighbors.KNeighborsClassifier', 'estimators_sklearn.neighbors.KNeighborsClassifier_n_neighbors': 5}. Best is trial 1 with value: -0.9800000000000001.\n",
      "[I 2025-02-05 18:49:23,262] Trial 29 finished with value: -0.96 and parameters: {'estimators': 'sklearn.ensemble.GradientBoostingClassifier', 'estimators_sklearn.ensemble.GradientBoostingClassifier_n_estimators': 22, 'estimators_sklearn.ensemble.GradientBoostingClassifier_max_depth': 32}. Best is trial 1 with value: -0.9800000000000001.\n",
      "[I 2025-02-05 18:49:23,274] Trial 30 finished with value: -0.9133333333333334 and parameters: {'estimators': 'sklearn.svm.SVC', 'estimators_sklearn.svm.SVC_C': 1.0089518772897911e-07, 'estimators_sklearn.svm.SVC_kernel': 'linear'}. Best is trial 1 with value: -0.9800000000000001.\n",
      "[I 2025-02-05 18:49:23,292] Trial 31 finished with value: -0.9800000000000001 and parameters: {'estimators': 'sklearn.neighbors.KNeighborsClassifier', 'estimators_sklearn.neighbors.KNeighborsClassifier_n_neighbors': 6}. Best is trial 1 with value: -0.9800000000000001.\n",
      "[I 2025-02-05 18:49:23,310] Trial 32 finished with value: -0.9666666666666668 and parameters: {'estimators': 'sklearn.neighbors.KNeighborsClassifier', 'estimators_sklearn.neighbors.KNeighborsClassifier_n_neighbors': 8}. Best is trial 1 with value: -0.9800000000000001.\n",
      "[I 2025-02-05 18:49:23,329] Trial 33 finished with value: -0.9733333333333334 and parameters: {'estimators': 'sklearn.neighbors.KNeighborsClassifier', 'estimators_sklearn.neighbors.KNeighborsClassifier_n_neighbors': 5}. Best is trial 1 with value: -0.9800000000000001.\n",
      "[I 2025-02-05 18:49:23,488] Trial 34 finished with value: -0.9533333333333334 and parameters: {'estimators': 'sklearn.ensemble.RandomForestClassifier', 'estimators_sklearn.ensemble.RandomForestClassifier_n_estimators': 33, 'estimators_sklearn.ensemble.RandomForestClassifier_max_depth': 32}. Best is trial 1 with value: -0.9800000000000001.\n",
      "[I 2025-02-05 18:49:23,506] Trial 35 finished with value: -0.9800000000000001 and parameters: {'estimators': 'sklearn.neighbors.KNeighborsClassifier', 'estimators_sklearn.neighbors.KNeighborsClassifier_n_neighbors': 7}. Best is trial 1 with value: -0.9800000000000001.\n",
      "[I 2025-02-05 18:49:23,525] Trial 36 finished with value: -0.9666666666666668 and parameters: {'estimators': 'sklearn.neighbors.KNeighborsClassifier', 'estimators_sklearn.neighbors.KNeighborsClassifier_n_neighbors': 8}. Best is trial 1 with value: -0.9800000000000001.\n",
      "[I 2025-02-05 18:49:26,362] Trial 37 finished with value: -0.9666666666666668 and parameters: {'estimators': 'sklearn.ensemble.RandomForestClassifier', 'estimators_sklearn.ensemble.RandomForestClassifier_n_estimators': 656, 'estimators_sklearn.ensemble.RandomForestClassifier_max_depth': 29}. Best is trial 1 with value: -0.9800000000000001.\n",
      "[I 2025-02-05 18:49:26,375] Trial 38 finished with value: -0.9133333333333334 and parameters: {'estimators': 'sklearn.svm.SVC', 'estimators_sklearn.svm.SVC_C': 0.0010395949075944556, 'estimators_sklearn.svm.SVC_kernel': 'linear'}. Best is trial 1 with value: -0.9800000000000001.\n",
      "[I 2025-02-05 18:49:26,394] Trial 39 finished with value: -0.9733333333333334 and parameters: {'estimators': 'sklearn.neighbors.KNeighborsClassifier', 'estimators_sklearn.neighbors.KNeighborsClassifier_n_neighbors': 5}. Best is trial 1 with value: -0.9800000000000001.\n",
      "[I 2025-02-05 18:49:28,716] Trial 40 finished with value: -0.9666666666666668 and parameters: {'estimators': 'sklearn.ensemble.RandomForestClassifier', 'estimators_sklearn.ensemble.RandomForestClassifier_n_estimators': 518, 'estimators_sklearn.ensemble.RandomForestClassifier_max_depth': 10}. Best is trial 1 with value: -0.9800000000000001.\n",
      "[I 2025-02-05 18:49:28,737] Trial 41 finished with value: -0.9800000000000001 and parameters: {'estimators': 'sklearn.neighbors.KNeighborsClassifier', 'estimators_sklearn.neighbors.KNeighborsClassifier_n_neighbors': 10}. Best is trial 1 with value: -0.9800000000000001.\n",
      "[I 2025-02-05 18:49:28,757] Trial 42 finished with value: -0.9800000000000001 and parameters: {'estimators': 'sklearn.neighbors.KNeighborsClassifier', 'estimators_sklearn.neighbors.KNeighborsClassifier_n_neighbors': 10}. Best is trial 1 with value: -0.9800000000000001.\n",
      "[I 2025-02-05 18:49:28,777] Trial 43 finished with value: -0.9733333333333334 and parameters: {'estimators': 'sklearn.neighbors.KNeighborsClassifier', 'estimators_sklearn.neighbors.KNeighborsClassifier_n_neighbors': 9}. Best is trial 1 with value: -0.9800000000000001.\n",
      "[I 2025-02-05 18:49:28,793] Trial 44 finished with value: -0.9133333333333334 and parameters: {'estimators': 'sklearn.svm.SVC', 'estimators_sklearn.svm.SVC_C': 0.002512475976513867, 'estimators_sklearn.svm.SVC_kernel': 'linear'}. Best is trial 1 with value: -0.9800000000000001.\n",
      "[I 2025-02-05 18:49:28,815] Trial 45 finished with value: -0.9800000000000001 and parameters: {'estimators': 'sklearn.neighbors.KNeighborsClassifier', 'estimators_sklearn.neighbors.KNeighborsClassifier_n_neighbors': 6}. Best is trial 1 with value: -0.9800000000000001.\n",
      "[I 2025-02-05 18:49:32,629] Trial 46 finished with value: -0.9666666666666668 and parameters: {'estimators': 'sklearn.ensemble.GradientBoostingClassifier', 'estimators_sklearn.ensemble.GradientBoostingClassifier_n_estimators': 614, 'estimators_sklearn.ensemble.GradientBoostingClassifier_max_depth': 21}. Best is trial 1 with value: -0.9800000000000001.\n",
      "[I 2025-02-05 18:49:32,649] Trial 47 finished with value: -0.9800000000000001 and parameters: {'estimators': 'sklearn.neighbors.KNeighborsClassifier', 'estimators_sklearn.neighbors.KNeighborsClassifier_n_neighbors': 7}. Best is trial 1 with value: -0.9800000000000001.\n",
      "[I 2025-02-05 18:49:32,662] Trial 48 finished with value: -0.9133333333333334 and parameters: {'estimators': 'sklearn.svm.SVC', 'estimators_sklearn.svm.SVC_C': 8.679638860406317e-08, 'estimators_sklearn.svm.SVC_kernel': 'linear'}. Best is trial 1 with value: -0.9800000000000001.\n",
      "[I 2025-02-05 18:49:32,682] Trial 49 finished with value: -0.9733333333333334 and parameters: {'estimators': 'sklearn.neighbors.KNeighborsClassifier', 'estimators_sklearn.neighbors.KNeighborsClassifier_n_neighbors': 9}. Best is trial 1 with value: -0.9800000000000001.\n",
      "[I 2025-02-05 18:49:32,859] Trial 50 finished with value: -0.96 and parameters: {'estimators': 'sklearn.ensemble.RandomForestClassifier', 'estimators_sklearn.ensemble.RandomForestClassifier_n_estimators': 36, 'estimators_sklearn.ensemble.RandomForestClassifier_max_depth': 23}. Best is trial 1 with value: -0.9800000000000001.\n",
      "[I 2025-02-05 18:49:32,872] Trial 51 finished with value: -0.9866666666666667 and parameters: {'estimators': 'sklearn.svm.SVC', 'estimators_sklearn.svm.SVC_C': 0.5926824836417408, 'estimators_sklearn.svm.SVC_kernel': 'linear'}. Best is trial 51 with value: -0.9866666666666667.\n",
      "[I 2025-02-05 18:49:32,885] Trial 52 finished with value: -0.9866666666666667 and parameters: {'estimators': 'sklearn.svm.SVC', 'estimators_sklearn.svm.SVC_C': 0.6806621108376074, 'estimators_sklearn.svm.SVC_kernel': 'linear'}. Best is trial 51 with value: -0.9866666666666667.\n",
      "[I 2025-02-05 18:49:32,897] Trial 53 finished with value: -0.9866666666666667 and parameters: {'estimators': 'sklearn.svm.SVC', 'estimators_sklearn.svm.SVC_C': 0.824495998633535, 'estimators_sklearn.svm.SVC_kernel': 'linear'}. Best is trial 51 with value: -0.9866666666666667.\n",
      "[I 2025-02-05 18:49:32,910] Trial 54 finished with value: -0.9866666666666667 and parameters: {'estimators': 'sklearn.svm.SVC', 'estimators_sklearn.svm.SVC_C': 0.9694923683560097, 'estimators_sklearn.svm.SVC_kernel': 'linear'}. Best is trial 51 with value: -0.9866666666666667.\n",
      "[I 2025-02-05 18:49:32,923] Trial 55 finished with value: -0.9866666666666667 and parameters: {'estimators': 'sklearn.svm.SVC', 'estimators_sklearn.svm.SVC_C': 0.9321234119312414, 'estimators_sklearn.svm.SVC_kernel': 'linear'}. Best is trial 51 with value: -0.9866666666666667.\n",
      "[I 2025-02-05 18:49:32,936] Trial 56 finished with value: -0.9866666666666667 and parameters: {'estimators': 'sklearn.svm.SVC', 'estimators_sklearn.svm.SVC_C': 0.7348020287213718, 'estimators_sklearn.svm.SVC_kernel': 'linear'}. Best is trial 51 with value: -0.9866666666666667.\n",
      "[I 2025-02-05 18:49:32,950] Trial 57 finished with value: -0.9866666666666667 and parameters: {'estimators': 'sklearn.svm.SVC', 'estimators_sklearn.svm.SVC_C': 0.7485145878535979, 'estimators_sklearn.svm.SVC_kernel': 'linear'}. Best is trial 51 with value: -0.9866666666666667.\n",
      "[I 2025-02-05 18:49:32,963] Trial 58 finished with value: -0.9866666666666667 and parameters: {'estimators': 'sklearn.svm.SVC', 'estimators_sklearn.svm.SVC_C': 0.9500247030643578, 'estimators_sklearn.svm.SVC_kernel': 'linear'}. Best is trial 51 with value: -0.9866666666666667.\n",
      "[I 2025-02-05 18:49:32,976] Trial 59 finished with value: -0.9466666666666667 and parameters: {'estimators': 'sklearn.svm.SVC', 'estimators_sklearn.svm.SVC_C': 0.02562098567392368, 'estimators_sklearn.svm.SVC_kernel': 'linear'}. Best is trial 51 with value: -0.9866666666666667.\n",
      "[I 2025-02-05 18:49:32,991] Trial 60 finished with value: -0.9400000000000001 and parameters: {'estimators': 'sklearn.svm.SVC', 'estimators_sklearn.svm.SVC_C': 0.027917052830957603, 'estimators_sklearn.svm.SVC_kernel': 'linear'}. Best is trial 51 with value: -0.9866666666666667.\n",
      "[I 2025-02-05 18:49:33,005] Trial 61 finished with value: -0.9866666666666667 and parameters: {'estimators': 'sklearn.svm.SVC', 'estimators_sklearn.svm.SVC_C': 0.9618660366354252, 'estimators_sklearn.svm.SVC_kernel': 'linear'}. Best is trial 51 with value: -0.9866666666666667.\n",
      "[I 2025-02-05 18:49:33,017] Trial 62 finished with value: -0.9866666666666667 and parameters: {'estimators': 'sklearn.svm.SVC', 'estimators_sklearn.svm.SVC_C': 0.7122621264001849, 'estimators_sklearn.svm.SVC_kernel': 'linear'}. Best is trial 51 with value: -0.9866666666666667.\n",
      "[I 2025-02-05 18:49:33,031] Trial 63 finished with value: -0.96 and parameters: {'estimators': 'sklearn.svm.SVC', 'estimators_sklearn.svm.SVC_C': 0.05191493907091395, 'estimators_sklearn.svm.SVC_kernel': 'linear'}. Best is trial 51 with value: -0.9866666666666667.\n",
      "[I 2025-02-05 18:49:33,044] Trial 64 finished with value: -0.9866666666666667 and parameters: {'estimators': 'sklearn.svm.SVC', 'estimators_sklearn.svm.SVC_C': 0.8386914012796773, 'estimators_sklearn.svm.SVC_kernel': 'linear'}. Best is trial 51 with value: -0.9866666666666667.\n",
      "[I 2025-02-05 18:49:33,057] Trial 65 finished with value: -0.96 and parameters: {'estimators': 'sklearn.svm.SVC', 'estimators_sklearn.svm.SVC_C': 0.05523834120283792, 'estimators_sklearn.svm.SVC_kernel': 'linear'}. Best is trial 51 with value: -0.9866666666666667.\n",
      "[I 2025-02-05 18:49:33,071] Trial 66 finished with value: -0.9733333333333334 and parameters: {'estimators': 'sklearn.svm.SVC', 'estimators_sklearn.svm.SVC_C': 0.13179411150823095, 'estimators_sklearn.svm.SVC_kernel': 'linear'}. Best is trial 51 with value: -0.9866666666666667.\n",
      "[I 2025-02-05 18:49:33,084] Trial 67 finished with value: -0.9866666666666667 and parameters: {'estimators': 'sklearn.svm.SVC', 'estimators_sklearn.svm.SVC_C': 0.9981035659272767, 'estimators_sklearn.svm.SVC_kernel': 'linear'}. Best is trial 51 with value: -0.9866666666666667.\n",
      "[I 2025-02-05 18:49:33,097] Trial 68 finished with value: -0.9266666666666667 and parameters: {'estimators': 'sklearn.svm.SVC', 'estimators_sklearn.svm.SVC_C': 0.015504142610514837, 'estimators_sklearn.svm.SVC_kernel': 'linear'}. Best is trial 51 with value: -0.9866666666666667.\n",
      "[I 2025-02-05 18:49:33,110] Trial 69 finished with value: -0.9800000000000001 and parameters: {'estimators': 'sklearn.svm.SVC', 'estimators_sklearn.svm.SVC_C': 0.1535755740767545, 'estimators_sklearn.svm.SVC_kernel': 'linear'}. Best is trial 51 with value: -0.9866666666666667.\n",
      "[I 2025-02-05 18:49:33,122] Trial 70 finished with value: -0.9800000000000001 and parameters: {'estimators': 'sklearn.svm.SVC', 'estimators_sklearn.svm.SVC_C': 0.17149995039578445, 'estimators_sklearn.svm.SVC_kernel': 'linear'}. Best is trial 51 with value: -0.9866666666666667.\n",
      "[I 2025-02-05 18:49:33,136] Trial 71 finished with value: -0.9866666666666667 and parameters: {'estimators': 'sklearn.svm.SVC', 'estimators_sklearn.svm.SVC_C': 0.6727319245991101, 'estimators_sklearn.svm.SVC_kernel': 'linear'}. Best is trial 51 with value: -0.9866666666666667.\n",
      "[I 2025-02-05 18:49:33,148] Trial 72 finished with value: -0.9866666666666667 and parameters: {'estimators': 'sklearn.svm.SVC', 'estimators_sklearn.svm.SVC_C': 0.8987133628299612, 'estimators_sklearn.svm.SVC_kernel': 'linear'}. Best is trial 51 with value: -0.9866666666666667.\n",
      "[I 2025-02-05 18:49:33,161] Trial 73 finished with value: -0.9800000000000001 and parameters: {'estimators': 'sklearn.svm.SVC', 'estimators_sklearn.svm.SVC_C': 0.17926807136344694, 'estimators_sklearn.svm.SVC_kernel': 'linear'}. Best is trial 51 with value: -0.9866666666666667.\n",
      "[I 2025-02-05 18:49:33,181] Trial 74 finished with value: -0.9866666666666667 and parameters: {'estimators': 'sklearn.svm.SVC', 'estimators_sklearn.svm.SVC_C': 0.8701155085191086, 'estimators_sklearn.svm.SVC_kernel': 'linear'}. Best is trial 51 with value: -0.9866666666666667.\n",
      "[I 2025-02-05 18:49:33,233] Trial 75 finished with value: -0.9133333333333334 and parameters: {'estimators': 'sklearn.svm.SVC', 'estimators_sklearn.svm.SVC_C': 0.006708942564888557, 'estimators_sklearn.svm.SVC_kernel': 'linear'}. Best is trial 51 with value: -0.9866666666666667.\n",
      "[I 2025-02-05 18:49:33,262] Trial 76 finished with value: -0.9133333333333334 and parameters: {'estimators': 'sklearn.svm.SVC', 'estimators_sklearn.svm.SVC_C': 0.00014067711584138517, 'estimators_sklearn.svm.SVC_kernel': 'linear'}. Best is trial 51 with value: -0.9866666666666667.\n",
      "[I 2025-02-05 18:49:33,295] Trial 77 finished with value: -0.9800000000000001 and parameters: {'estimators': 'sklearn.svm.SVC', 'estimators_sklearn.svm.SVC_C': 0.24124086899546843, 'estimators_sklearn.svm.SVC_kernel': 'linear'}. Best is trial 51 with value: -0.9866666666666667.\n",
      "[I 2025-02-05 18:49:33,310] Trial 78 finished with value: -0.96 and parameters: {'estimators': 'sklearn.svm.SVC', 'estimators_sklearn.svm.SVC_C': 0.07355875819143737, 'estimators_sklearn.svm.SVC_kernel': 'linear'}. Best is trial 51 with value: -0.9866666666666667.\n",
      "[I 2025-02-05 18:49:33,324] Trial 79 finished with value: -0.9800000000000001 and parameters: {'estimators': 'sklearn.svm.SVC', 'estimators_sklearn.svm.SVC_C': 0.24405505771340275, 'estimators_sklearn.svm.SVC_kernel': 'linear'}. Best is trial 51 with value: -0.9866666666666667.\n",
      "[I 2025-02-05 18:49:33,336] Trial 80 finished with value: -0.9800000000000001 and parameters: {'estimators': 'sklearn.svm.SVC', 'estimators_sklearn.svm.SVC_C': 0.296004891347836, 'estimators_sklearn.svm.SVC_kernel': 'linear'}. Best is trial 51 with value: -0.9866666666666667.\n",
      "[I 2025-02-05 18:49:33,348] Trial 81 finished with value: -0.9800000000000001 and parameters: {'estimators': 'sklearn.svm.SVC', 'estimators_sklearn.svm.SVC_C': 0.40371735309519846, 'estimators_sklearn.svm.SVC_kernel': 'linear'}. Best is trial 51 with value: -0.9866666666666667.\n",
      "[I 2025-02-05 18:49:33,360] Trial 82 finished with value: -0.9866666666666667 and parameters: {'estimators': 'sklearn.svm.SVC', 'estimators_sklearn.svm.SVC_C': 0.7858041645235023, 'estimators_sklearn.svm.SVC_kernel': 'linear'}. Best is trial 51 with value: -0.9866666666666667.\n",
      "[I 2025-02-05 18:49:33,374] Trial 83 finished with value: -0.9666666666666666 and parameters: {'estimators': 'sklearn.svm.SVC', 'estimators_sklearn.svm.SVC_C': 0.10592086827326747, 'estimators_sklearn.svm.SVC_kernel': 'linear'}. Best is trial 51 with value: -0.9866666666666667.\n",
      "[I 2025-02-05 18:49:37,074] Trial 84 finished with value: -0.9600000000000002 and parameters: {'estimators': 'sklearn.ensemble.GradientBoostingClassifier', 'estimators_sklearn.ensemble.GradientBoostingClassifier_n_estimators': 516, 'estimators_sklearn.ensemble.GradientBoostingClassifier_max_depth': 2}. Best is trial 51 with value: -0.9866666666666667.\n",
      "[I 2025-02-05 18:49:37,086] Trial 85 finished with value: -0.9800000000000001 and parameters: {'estimators': 'sklearn.svm.SVC', 'estimators_sklearn.svm.SVC_C': 0.36042486965205206, 'estimators_sklearn.svm.SVC_kernel': 'linear'}. Best is trial 51 with value: -0.9866666666666667.\n",
      "[I 2025-02-05 18:49:37,098] Trial 86 finished with value: -0.9800000000000001 and parameters: {'estimators': 'sklearn.svm.SVC', 'estimators_sklearn.svm.SVC_C': 0.30849686772015256, 'estimators_sklearn.svm.SVC_kernel': 'linear'}. Best is trial 51 with value: -0.9866666666666667.\n",
      "[I 2025-02-05 18:49:37,111] Trial 87 finished with value: -0.9866666666666667 and parameters: {'estimators': 'sklearn.svm.SVC', 'estimators_sklearn.svm.SVC_C': 0.9126101361928306, 'estimators_sklearn.svm.SVC_kernel': 'linear'}. Best is trial 51 with value: -0.9866666666666667.\n",
      "[I 2025-02-05 18:49:37,124] Trial 88 finished with value: -0.9133333333333334 and parameters: {'estimators': 'sklearn.svm.SVC', 'estimators_sklearn.svm.SVC_C': 2.9419378051897468e-06, 'estimators_sklearn.svm.SVC_kernel': 'linear'}. Best is trial 51 with value: -0.9866666666666667.\n",
      "[I 2025-02-05 18:49:37,136] Trial 89 finished with value: -0.96 and parameters: {'estimators': 'sklearn.svm.SVC', 'estimators_sklearn.svm.SVC_C': 0.07237893256850415, 'estimators_sklearn.svm.SVC_kernel': 'linear'}. Best is trial 51 with value: -0.9866666666666667.\n",
      "[I 2025-02-05 18:49:37,150] Trial 90 finished with value: -0.9800000000000001 and parameters: {'estimators': 'sklearn.svm.SVC', 'estimators_sklearn.svm.SVC_C': 0.2897106453223719, 'estimators_sklearn.svm.SVC_kernel': 'linear'}. Best is trial 51 with value: -0.9866666666666667.\n",
      "[I 2025-02-05 18:49:37,162] Trial 91 finished with value: -0.9800000000000001 and parameters: {'estimators': 'sklearn.svm.SVC', 'estimators_sklearn.svm.SVC_C': 0.39642723768126287, 'estimators_sklearn.svm.SVC_kernel': 'linear'}. Best is trial 51 with value: -0.9866666666666667.\n",
      "[I 2025-02-05 18:49:37,174] Trial 92 finished with value: -0.9866666666666667 and parameters: {'estimators': 'sklearn.svm.SVC', 'estimators_sklearn.svm.SVC_C': 0.9436637139489016, 'estimators_sklearn.svm.SVC_kernel': 'linear'}. Best is trial 51 with value: -0.9866666666666667.\n",
      "[I 2025-02-05 18:49:37,189] Trial 93 finished with value: -0.9133333333333334 and parameters: {'estimators': 'sklearn.svm.SVC', 'estimators_sklearn.svm.SVC_C': 1.6365052237946466e-10, 'estimators_sklearn.svm.SVC_kernel': 'linear'}. Best is trial 51 with value: -0.9866666666666667.\n",
      "[I 2025-02-05 18:49:40,042] Trial 94 finished with value: -0.96 and parameters: {'estimators': 'sklearn.ensemble.RandomForestClassifier', 'estimators_sklearn.ensemble.RandomForestClassifier_n_estimators': 658, 'estimators_sklearn.ensemble.RandomForestClassifier_max_depth': 10}. Best is trial 51 with value: -0.9866666666666667.\n",
      "[I 2025-02-05 18:49:40,055] Trial 95 finished with value: -0.9800000000000001 and parameters: {'estimators': 'sklearn.svm.SVC', 'estimators_sklearn.svm.SVC_C': 0.3950570820989653, 'estimators_sklearn.svm.SVC_kernel': 'linear'}. Best is trial 51 with value: -0.9866666666666667.\n",
      "[I 2025-02-05 18:49:40,587] Trial 96 finished with value: -0.9666666666666668 and parameters: {'estimators': 'sklearn.ensemble.GradientBoostingClassifier', 'estimators_sklearn.ensemble.GradientBoostingClassifier_n_estimators': 58, 'estimators_sklearn.ensemble.GradientBoostingClassifier_max_depth': 12}. Best is trial 51 with value: -0.9866666666666667.\n",
      "[I 2025-02-05 18:49:40,601] Trial 97 finished with value: -0.96 and parameters: {'estimators': 'sklearn.svm.SVC', 'estimators_sklearn.svm.SVC_C': 0.049077582978533166, 'estimators_sklearn.svm.SVC_kernel': 'linear'}. Best is trial 51 with value: -0.9866666666666667.\n",
      "[I 2025-02-05 18:49:40,613] Trial 98 finished with value: -0.9666666666666668 and parameters: {'estimators': 'sklearn.svm.SVC', 'estimators_sklearn.svm.SVC_C': 0.09481126718298778, 'estimators_sklearn.svm.SVC_kernel': 'linear'}. Best is trial 51 with value: -0.9866666666666667.\n",
      "[I 2025-02-05 18:49:40,626] Trial 99 finished with value: -0.9333333333333333 and parameters: {'estimators': 'sklearn.svm.SVC', 'estimators_sklearn.svm.SVC_C': 0.02005016807994057, 'estimators_sklearn.svm.SVC_kernel': 'linear'}. Best is trial 51 with value: -0.9866666666666667.\n"
     ]
    }
   ],
   "source": [
    "import optuna\n",
    "\n",
    "# def objective_optuna(trial_):\n",
    "#     classifier_name = trial_.suggest_categorical(\"classifier\", [\n",
    "#         \"SVC\", \"RandomForest\", \"KNeighbors\", \"GradientBoosting\"\n",
    "#     ])\n",
    "#     if classifier_name == \"SVC\":\n",
    "#         svc_c = trial_.suggest_float(\"C\", 1e-10, 1, log=True)\n",
    "#         model = SVC(C=svc_c, kernel=\"linear\")\n",
    "#     elif classifier_name == \"RandomForest\":\n",
    "#         rf_max_depth = trial_.suggest_int(\"rf_max_depth\", 2, 32)\n",
    "#         rf_n_estimators = trial_.suggest_int(\"rf_n_estimators\", 10, 1000)\n",
    "#         model = RandomForestClassifier(\n",
    "#             n_estimators=rf_n_estimators, max_depth=rf_max_depth\n",
    "#         )\n",
    "#     elif classifier_name == \"KNeighbors\":\n",
    "#         knn_n_neighbors = trial_.suggest_int(\"knn_n_neighbors\", 2, 10)\n",
    "#         model = KNeighborsClassifier(n_neighbors=knn_n_neighbors)\n",
    "#     elif classifier_name == \"GradientBoosting\":\n",
    "#         gb_max_depth = trial_.suggest_int(\"gb_max_depth\", 2, 32)\n",
    "#         gb_n_estimators = trial_.suggest_int(\"gb_n_estimators\", 10, 1000)\n",
    "#         model = GradientBoostingClassifier(\n",
    "#             n_estimators=gb_n_estimators, max_depth=gb_max_depth\n",
    "#         )\n",
    "#     else:\n",
    "#         raise ValueError(\"Invalid classifier name\")\n",
    "\n",
    "#     score = cross_val_score(model, x, y, n_jobs=-1, cv=3)\n",
    "#     return score.mean()\n",
    "\n",
    "def objective_optuna(trial_):\n",
    "    config = search_space.get_optuna_space(trial_)\n",
    "    return objective(config)\n",
    "\n",
    "study = optuna.create_study(direction=\"minimize\")\n",
    "study.optimize(objective_optuna, n_trials=100)"
   ],
   "metadata": {
    "collapsed": false,
    "ExecuteTime": {
     "end_time": "2025-02-05T18:49:40.630144500Z",
     "start_time": "2025-02-05T18:48:57.376497500Z"
    }
   },
   "id": "fc8c59246a688233"
  },
  {
   "cell_type": "code",
   "execution_count": 19,
   "outputs": [
    {
     "name": "stdout",
     "output_type": "stream",
     "text": [
      "-0.9866666666666667 {'estimators': 'sklearn.svm.SVC', 'estimators_sklearn.svm.SVC_C': 0.5926824836417408, 'estimators_sklearn.svm.SVC_kernel': 'linear'}\n"
     ]
    }
   ],
   "source": [
    "print(study.best_trial.value, study.best_trial.params)"
   ],
   "metadata": {
    "collapsed": false,
    "ExecuteTime": {
     "end_time": "2025-02-05T19:06:41.284565300Z",
     "start_time": "2025-02-05T19:06:41.278282900Z"
    }
   },
   "id": "d898611bc74fef6"
  },
  {
   "cell_type": "markdown",
   "source": [
    "- Flaml"
   ],
   "metadata": {
    "collapsed": false
   },
   "id": "678bb527211bd794"
  },
  {
   "cell_type": "code",
   "execution_count": 15,
   "outputs": [
    {
     "name": "stdout",
     "output_type": "stream",
     "text": [
      "[flaml.tune.tune: 02-05 19:01:44] {582} INFO - Using search algorithm BlendSearch.\n"
     ]
    },
    {
     "name": "stderr",
     "output_type": "stream",
     "text": [
      "[I 2025-02-05 19:01:44,943] A new study created in memory with name: optuna\n"
     ]
    },
    {
     "name": "stdout",
     "output_type": "stream",
     "text": [
      "[flaml.tune.tune: 02-05 19:01:44] {884} INFO - trial 1 config: {'estimators': {'params': {'n_estimators': 106, 'max_depth': 5}, 'estimator_name': 'sklearn.ensemble.GradientBoostingClassifier', 'estimator_class': <class 'sklearn.ensemble._gb.GradientBoostingClassifier'>}}\n",
      "[flaml.tune.tune: 02-05 19:01:45] {884} INFO - trial 2 config: {'estimators': {'params': {'C': 9.662068742486023e-06, 'kernel': 'linear'}, 'estimator_name': 'sklearn.svm.SVC', 'estimator_class': <class 'sklearn.svm._classes.SVC'>}}\n",
      "[flaml.tune.tune: 02-05 19:01:46] {884} INFO - trial 3 config: {'estimators': {'params': {'n_estimators': 97, 'max_depth': 22}, 'estimator_name': 'sklearn.ensemble.GradientBoostingClassifier', 'estimator_class': <class 'sklearn.ensemble._gb.GradientBoostingClassifier'>}}\n",
      "[flaml.tune.tune: 02-05 19:01:46] {884} INFO - trial 4 config: {'estimators': {'params': {'C': 0.00013343220665499586, 'kernel': 'linear'}, 'estimator_name': 'sklearn.svm.SVC', 'estimator_class': <class 'sklearn.svm._classes.SVC'>}}\n",
      "[flaml.tune.tune: 02-05 19:01:46] {884} INFO - trial 5 config: {'estimators': {'estimator_name': 'sklearn.ensemble.GradientBoostingClassifier', 'estimator_class': <class 'sklearn.ensemble._gb.GradientBoostingClassifier'>, 'params': {'n_estimators': 88, 'max_depth': 18}}}\n",
      "[flaml.tune.tune: 02-05 19:01:47] {884} INFO - trial 6 config: {'estimators': {'estimator_name': 'sklearn.ensemble.GradientBoostingClassifier', 'estimator_class': <class 'sklearn.ensemble._gb.GradientBoostingClassifier'>, 'params': {'n_estimators': 225, 'max_depth': 17}}}\n",
      "[flaml.tune.tune: 02-05 19:01:49] {884} INFO - trial 7 config: {'estimators': {'estimator_name': 'sklearn.ensemble.GradientBoostingClassifier', 'estimator_class': <class 'sklearn.ensemble._gb.GradientBoostingClassifier'>, 'params': {'n_estimators': 10, 'max_depth': 19}}}\n",
      "[flaml.tune.tune: 02-05 19:01:49] {884} INFO - trial 8 config: {'estimators': {'estimator_name': 'sklearn.ensemble.GradientBoostingClassifier', 'estimator_class': <class 'sklearn.ensemble._gb.GradientBoostingClassifier'>, 'params': {'n_estimators': 26, 'max_depth': 14}}}\n",
      "[flaml.tune.tune: 02-05 19:01:49] {884} INFO - trial 9 config: {'estimators': {'estimator_name': 'sklearn.ensemble.GradientBoostingClassifier', 'estimator_class': <class 'sklearn.ensemble._gb.GradientBoostingClassifier'>, 'params': {'n_estimators': 150, 'max_depth': 22}}}\n",
      "[flaml.tune.tune: 02-05 19:01:50] {884} INFO - trial 10 config: {'estimators': {'estimator_name': 'sklearn.ensemble.GradientBoostingClassifier', 'estimator_class': <class 'sklearn.ensemble._gb.GradientBoostingClassifier'>, 'params': {'n_estimators': 122, 'max_depth': 17}}}\n",
      "[flaml.tune.tune: 02-05 19:01:52] {884} INFO - trial 11 config: {'estimators': {'params': {'n_estimators': 547, 'max_depth': 6}, 'estimator_name': 'sklearn.ensemble.GradientBoostingClassifier', 'estimator_class': <class 'sklearn.ensemble._gb.GradientBoostingClassifier'>}}\n",
      "[flaml.tune.tune: 02-05 19:01:55] {884} INFO - trial 12 config: {'estimators': {'estimator_name': 'sklearn.ensemble.GradientBoostingClassifier', 'estimator_class': <class 'sklearn.ensemble._gb.GradientBoostingClassifier'>, 'params': {'n_estimators': 687, 'max_depth': 6}}}\n",
      "[flaml.tune.tune: 02-05 19:01:59] {884} INFO - trial 13 config: {'estimators': {'estimator_name': 'sklearn.ensemble.GradientBoostingClassifier', 'estimator_class': <class 'sklearn.ensemble._gb.GradientBoostingClassifier'>, 'params': {'n_estimators': 598, 'max_depth': 9}}}\n",
      "[flaml.tune.tune: 02-05 19:02:03] {884} INFO - trial 14 config: {'estimators': {'estimator_name': 'sklearn.ensemble.GradientBoostingClassifier', 'estimator_class': <class 'sklearn.ensemble._gb.GradientBoostingClassifier'>, 'params': {'n_estimators': 776, 'max_depth': 3}}}\n",
      "[flaml.tune.tune: 02-05 19:02:09] {884} INFO - trial 15 config: {'estimators': {'estimator_name': 'sklearn.ensemble.GradientBoostingClassifier', 'estimator_class': <class 'sklearn.ensemble._gb.GradientBoostingClassifier'>, 'params': {'n_estimators': 765, 'max_depth': 3}}}\n",
      "[flaml.tune.tune: 02-05 19:02:14] {884} INFO - trial 16 config: {'estimators': {'estimator_name': 'sklearn.ensemble.GradientBoostingClassifier', 'estimator_class': <class 'sklearn.ensemble._gb.GradientBoostingClassifier'>, 'params': {'n_estimators': 609, 'max_depth': 9}}}\n",
      "[flaml.tune.tune: 02-05 19:02:18] {884} INFO - trial 17 config: {'estimators': {'estimator_name': 'sklearn.ensemble.GradientBoostingClassifier', 'estimator_class': <class 'sklearn.ensemble._gb.GradientBoostingClassifier'>, 'params': {'n_estimators': 671, 'max_depth': 5}}}\n",
      "[flaml.tune.tune: 02-05 19:02:22] {884} INFO - trial 18 config: {'estimators': {'estimator_name': 'sklearn.ensemble.GradientBoostingClassifier', 'estimator_class': <class 'sklearn.ensemble._gb.GradientBoostingClassifier'>, 'params': {'n_estimators': 47, 'max_depth': 2}}}\n",
      "[flaml.tune.tune: 02-05 19:02:23] {884} INFO - trial 19 config: {'estimators': {'estimator_name': 'sklearn.ensemble.GradientBoostingClassifier', 'estimator_class': <class 'sklearn.ensemble._gb.GradientBoostingClassifier'>, 'params': {'n_estimators': 54, 'max_depth': 19}}}\n",
      "[flaml.tune.tune: 02-05 19:02:23] {884} INFO - trial 20 config: {'estimators': {'estimator_name': 'sklearn.ensemble.GradientBoostingClassifier', 'estimator_class': <class 'sklearn.ensemble._gb.GradientBoostingClassifier'>, 'params': {'n_estimators': 703, 'max_depth': 7}}}\n",
      "[flaml.tune.tune: 02-05 19:02:27] {884} INFO - trial 21 config: {'estimators': {'estimator_name': 'sklearn.ensemble.GradientBoostingClassifier', 'estimator_class': <class 'sklearn.ensemble._gb.GradientBoostingClassifier'>, 'params': {'n_estimators': 123, 'max_depth': 17}}}\n",
      "[flaml.tune.tune: 02-05 19:02:29] {884} INFO - trial 22 config: {'estimators': {'estimator_name': 'sklearn.ensemble.GradientBoostingClassifier', 'estimator_class': <class 'sklearn.ensemble._gb.GradientBoostingClassifier'>, 'params': {'n_estimators': 659, 'max_depth': 7}}}\n",
      "[flaml.tune.tune: 02-05 19:02:33] {884} INFO - trial 23 config: {'estimators': {'estimator_name': 'sklearn.ensemble.GradientBoostingClassifier', 'estimator_class': <class 'sklearn.ensemble._gb.GradientBoostingClassifier'>, 'params': {'n_estimators': 53, 'max_depth': 19}}}\n",
      "[flaml.tune.tune: 02-05 19:02:33] {884} INFO - trial 24 config: {'estimators': {'estimator_name': 'sklearn.ensemble.GradientBoostingClassifier', 'estimator_class': <class 'sklearn.ensemble._gb.GradientBoostingClassifier'>, 'params': {'n_estimators': 715, 'max_depth': 5}}}\n",
      "[flaml.tune.tune: 02-05 19:02:38] {884} INFO - trial 25 config: {'estimators': {'estimator_name': 'sklearn.ensemble.GradientBoostingClassifier', 'estimator_class': <class 'sklearn.ensemble._gb.GradientBoostingClassifier'>, 'params': {'n_estimators': 93, 'max_depth': 17}}}\n",
      "[flaml.tune.tune: 02-05 19:02:38] {884} INFO - trial 26 config: {'estimators': {'estimator_name': 'sklearn.ensemble.GradientBoostingClassifier', 'estimator_class': <class 'sklearn.ensemble._gb.GradientBoostingClassifier'>, 'params': {'n_estimators': 668, 'max_depth': 7}}}\n",
      "[flaml.tune.tune: 02-05 19:02:43] {884} INFO - trial 27 config: {'estimators': {'estimator_name': 'sklearn.ensemble.GradientBoostingClassifier', 'estimator_class': <class 'sklearn.ensemble._gb.GradientBoostingClassifier'>, 'params': {'n_estimators': 83, 'max_depth': 19}}}\n",
      "[flaml.tune.tune: 02-05 19:02:43] {884} INFO - trial 28 config: {'estimators': {'estimator_name': 'sklearn.ensemble.GradientBoostingClassifier', 'estimator_class': <class 'sklearn.ensemble._gb.GradientBoostingClassifier'>, 'params': {'n_estimators': 706, 'max_depth': 5}}}\n",
      "[flaml.tune.tune: 02-05 19:02:48] {884} INFO - trial 29 config: {'estimators': {'estimator_name': 'sklearn.ensemble.GradientBoostingClassifier', 'estimator_class': <class 'sklearn.ensemble._gb.GradientBoostingClassifier'>, 'params': {'n_estimators': 112, 'max_depth': 19}}}\n",
      "[flaml.tune.tune: 02-05 19:02:49] {884} INFO - trial 30 config: {'estimators': {'estimator_name': 'sklearn.ensemble.GradientBoostingClassifier', 'estimator_class': <class 'sklearn.ensemble._gb.GradientBoostingClassifier'>, 'params': {'n_estimators': 725, 'max_depth': 6}}}\n",
      "[flaml.tune.tune: 02-05 19:02:54] {884} INFO - trial 31 config: {'estimators': {'estimator_name': 'sklearn.ensemble.GradientBoostingClassifier', 'estimator_class': <class 'sklearn.ensemble._gb.GradientBoostingClassifier'>, 'params': {'n_estimators': 64, 'max_depth': 17}}}\n",
      "[flaml.tune.tune: 02-05 19:02:54] {884} INFO - trial 32 config: {'estimators': {'estimator_name': 'sklearn.ensemble.GradientBoostingClassifier', 'estimator_class': <class 'sklearn.ensemble._gb.GradientBoostingClassifier'>, 'params': {'n_estimators': 649, 'max_depth': 6}}}\n",
      "[flaml.tune.tune: 02-05 19:02:59] {884} INFO - trial 33 config: {'estimators': {'estimator_name': 'sklearn.ensemble.GradientBoostingClassifier', 'estimator_class': <class 'sklearn.ensemble._gb.GradientBoostingClassifier'>, 'params': {'n_estimators': 62, 'max_depth': 19}}}\n",
      "[flaml.tune.tune: 02-05 19:02:59] {884} INFO - trial 34 config: {'estimators': {'estimator_name': 'sklearn.ensemble.GradientBoostingClassifier', 'estimator_class': <class 'sklearn.ensemble._gb.GradientBoostingClassifier'>, 'params': {'n_estimators': 661, 'max_depth': 5}}}\n",
      "[flaml.tune.tune: 02-05 19:03:03] {884} INFO - trial 35 config: {'estimators': {'estimator_name': 'sklearn.ensemble.GradientBoostingClassifier', 'estimator_class': <class 'sklearn.ensemble._gb.GradientBoostingClassifier'>, 'params': {'n_estimators': 114, 'max_depth': 17}}}\n",
      "[flaml.tune.tune: 02-05 19:03:04] {884} INFO - trial 36 config: {'estimators': {'estimator_name': 'sklearn.ensemble.GradientBoostingClassifier', 'estimator_class': <class 'sklearn.ensemble._gb.GradientBoostingClassifier'>, 'params': {'n_estimators': 713, 'max_depth': 7}}}\n",
      "[flaml.tune.tune: 02-05 19:03:09] {884} INFO - trial 37 config: {'estimators': {'estimator_name': 'sklearn.ensemble.GradientBoostingClassifier', 'estimator_class': <class 'sklearn.ensemble._gb.GradientBoostingClassifier'>, 'params': {'n_estimators': 107, 'max_depth': 19}}}\n",
      "[flaml.tune.tune: 02-05 19:03:10] {884} INFO - trial 38 config: {'estimators': {'estimator_name': 'sklearn.ensemble.GradientBoostingClassifier', 'estimator_class': <class 'sklearn.ensemble._gb.GradientBoostingClassifier'>, 'params': {'n_estimators': 699, 'max_depth': 7}}}\n",
      "[flaml.tune.tune: 02-05 19:03:14] {884} INFO - trial 39 config: {'estimators': {'estimator_name': 'sklearn.ensemble.GradientBoostingClassifier', 'estimator_class': <class 'sklearn.ensemble._gb.GradientBoostingClassifier'>, 'params': {'n_estimators': 69, 'max_depth': 17}}}\n",
      "[flaml.tune.tune: 02-05 19:03:15] {884} INFO - trial 40 config: {'estimators': {'estimator_name': 'sklearn.ensemble.GradientBoostingClassifier', 'estimator_class': <class 'sklearn.ensemble._gb.GradientBoostingClassifier'>, 'params': {'n_estimators': 675, 'max_depth': 5}}}\n",
      "[flaml.tune.tune: 02-05 19:03:19] {884} INFO - trial 41 config: {'estimators': {'estimator_name': 'sklearn.ensemble.GradientBoostingClassifier', 'estimator_class': <class 'sklearn.ensemble._gb.GradientBoostingClassifier'>, 'params': {'n_estimators': 111, 'max_depth': 17}}}\n",
      "[flaml.tune.tune: 02-05 19:03:20] {884} INFO - trial 42 config: {'estimators': {'estimator_name': 'sklearn.ensemble.GradientBoostingClassifier', 'estimator_class': <class 'sklearn.ensemble._gb.GradientBoostingClassifier'>, 'params': {'n_estimators': 658, 'max_depth': 6}}}\n",
      "[flaml.tune.tune: 02-05 19:03:24] {884} INFO - trial 43 config: {'estimators': {'estimator_name': 'sklearn.ensemble.GradientBoostingClassifier', 'estimator_class': <class 'sklearn.ensemble._gb.GradientBoostingClassifier'>, 'params': {'n_estimators': 65, 'max_depth': 19}}}\n",
      "[flaml.tune.tune: 02-05 19:03:25] {884} INFO - trial 44 config: {'estimators': {'estimator_name': 'sklearn.ensemble.GradientBoostingClassifier', 'estimator_class': <class 'sklearn.ensemble._gb.GradientBoostingClassifier'>, 'params': {'n_estimators': 716, 'max_depth': 6}}}\n",
      "[flaml.tune.tune: 02-05 19:03:29] {884} INFO - trial 45 config: {'estimators': {'estimator_name': 'sklearn.ensemble.GradientBoostingClassifier', 'estimator_class': <class 'sklearn.ensemble._gb.GradientBoostingClassifier'>, 'params': {'n_estimators': 681, 'max_depth': 7}}}\n",
      "[flaml.tune.tune: 02-05 19:03:34] {884} INFO - trial 46 config: {'estimators': {'estimator_name': 'sklearn.ensemble.GradientBoostingClassifier', 'estimator_class': <class 'sklearn.ensemble._gb.GradientBoostingClassifier'>, 'params': {'n_estimators': 693, 'max_depth': 5}}}\n",
      "[flaml.tune.tune: 02-05 19:03:38] {884} INFO - trial 47 config: {'estimators': {'estimator_name': 'sklearn.ensemble.GradientBoostingClassifier', 'estimator_class': <class 'sklearn.ensemble._gb.GradientBoostingClassifier'>, 'params': {'n_estimators': 165, 'max_depth': 9}}}\n",
      "[flaml.tune.tune: 02-05 19:03:39] {884} INFO - trial 48 config: {'estimators': {'estimator_name': 'sklearn.ensemble.GradientBoostingClassifier', 'estimator_class': <class 'sklearn.ensemble._gb.GradientBoostingClassifier'>, 'params': {'n_estimators': 254, 'max_depth': 6}}}\n",
      "[flaml.tune.tune: 02-05 19:03:41] {884} INFO - trial 49 config: {'estimators': {'estimator_name': 'sklearn.ensemble.GradientBoostingClassifier', 'estimator_class': <class 'sklearn.ensemble._gb.GradientBoostingClassifier'>, 'params': {'n_estimators': 76, 'max_depth': 12}}}\n",
      "[flaml.tune.tune: 02-05 19:03:42] {884} INFO - trial 50 config: {'estimators': {'estimator_name': 'sklearn.ensemble.GradientBoostingClassifier', 'estimator_class': <class 'sklearn.ensemble._gb.GradientBoostingClassifier'>, 'params': {'n_estimators': 221, 'max_depth': 5}}}\n",
      "[flaml.tune.tune: 02-05 19:03:44] {884} INFO - trial 51 config: {'estimators': {'estimator_name': 'sklearn.ensemble.GradientBoostingClassifier', 'estimator_class': <class 'sklearn.ensemble._gb.GradientBoostingClassifier'>, 'params': {'n_estimators': 109, 'max_depth': 13}}}\n",
      "[flaml.tune.tune: 02-05 19:03:45] {884} INFO - trial 52 config: {'estimators': {'estimator_name': 'sklearn.ensemble.GradientBoostingClassifier', 'estimator_class': <class 'sklearn.ensemble._gb.GradientBoostingClassifier'>, 'params': {'n_estimators': 119, 'max_depth': 7}}}\n",
      "[flaml.tune.tune: 02-05 19:03:46] {884} INFO - trial 53 config: {'estimators': {'estimator_name': 'sklearn.ensemble.GradientBoostingClassifier', 'estimator_class': <class 'sklearn.ensemble._gb.GradientBoostingClassifier'>, 'params': {'n_estimators': 211, 'max_depth': 11}}}\n",
      "[flaml.tune.tune: 02-05 19:03:48] {884} INFO - trial 54 config: {'estimators': {'estimator_name': 'sklearn.ensemble.GradientBoostingClassifier', 'estimator_class': <class 'sklearn.ensemble._gb.GradientBoostingClassifier'>, 'params': {'n_estimators': 228, 'max_depth': 9}}}\n",
      "[flaml.tune.tune: 02-05 19:03:49] {884} INFO - trial 55 config: {'estimators': {'estimator_name': 'sklearn.ensemble.GradientBoostingClassifier', 'estimator_class': <class 'sklearn.ensemble._gb.GradientBoostingClassifier'>, 'params': {'n_estimators': 102, 'max_depth': 9}}}\n",
      "[flaml.tune.tune: 02-05 19:03:50] {884} INFO - trial 56 config: {'estimators': {'estimator_name': 'sklearn.ensemble.GradientBoostingClassifier', 'estimator_class': <class 'sklearn.ensemble._gb.GradientBoostingClassifier'>, 'params': {'n_estimators': 142, 'max_depth': 11}}}\n",
      "[flaml.tune.tune: 02-05 19:03:51] {884} INFO - trial 57 config: {'estimators': {'estimator_name': 'sklearn.ensemble.GradientBoostingClassifier', 'estimator_class': <class 'sklearn.ensemble._gb.GradientBoostingClassifier'>, 'params': {'n_estimators': 188, 'max_depth': 7}}}\n",
      "[flaml.tune.tune: 02-05 19:03:53] {884} INFO - trial 58 config: {'estimators': {'estimator_name': 'sklearn.ensemble.GradientBoostingClassifier', 'estimator_class': <class 'sklearn.ensemble._gb.GradientBoostingClassifier'>, 'params': {'n_estimators': 214, 'max_depth': 8}}}\n",
      "[flaml.tune.tune: 02-05 19:03:54] {884} INFO - trial 59 config: {'estimators': {'estimator_name': 'sklearn.ensemble.GradientBoostingClassifier', 'estimator_class': <class 'sklearn.ensemble._gb.GradientBoostingClassifier'>, 'params': {'n_estimators': 116, 'max_depth': 10}}}\n",
      "[flaml.tune.tune: 02-05 19:03:56] {884} INFO - trial 60 config: {'estimators': {'estimator_name': 'sklearn.ensemble.GradientBoostingClassifier', 'estimator_class': <class 'sklearn.ensemble._gb.GradientBoostingClassifier'>, 'params': {'n_estimators': 207, 'max_depth': 8}}}\n",
      "[flaml.tune.tune: 02-05 19:03:57] {884} INFO - trial 61 config: {'estimators': {'estimator_name': 'sklearn.ensemble.GradientBoostingClassifier', 'estimator_class': <class 'sklearn.ensemble._gb.GradientBoostingClassifier'>, 'params': {'n_estimators': 123, 'max_depth': 10}}}\n",
      "[flaml.tune.tune: 02-05 19:03:58] {884} INFO - trial 62 config: {'estimators': {'estimator_name': 'sklearn.ensemble.GradientBoostingClassifier', 'estimator_class': <class 'sklearn.ensemble._gb.GradientBoostingClassifier'>, 'params': {'n_estimators': 190, 'max_depth': 10}}}\n",
      "[flaml.tune.tune: 02-05 19:04:00] {884} INFO - trial 63 config: {'estimators': {'estimator_name': 'sklearn.ensemble.GradientBoostingClassifier', 'estimator_class': <class 'sklearn.ensemble._gb.GradientBoostingClassifier'>, 'params': {'n_estimators': 140, 'max_depth': 8}}}\n",
      "[flaml.tune.tune: 02-05 19:04:01] {884} INFO - trial 64 config: {'estimators': {'estimator_name': 'sklearn.ensemble.GradientBoostingClassifier', 'estimator_class': <class 'sklearn.ensemble._gb.GradientBoostingClassifier'>, 'params': {'n_estimators': 121, 'max_depth': 9}}}\n",
      "[flaml.tune.tune: 02-05 19:04:02] {884} INFO - trial 65 config: {'estimators': {'estimator_name': 'sklearn.ensemble.GradientBoostingClassifier', 'estimator_class': <class 'sklearn.ensemble._gb.GradientBoostingClassifier'>, 'params': {'n_estimators': 209, 'max_depth': 9}}}\n",
      "[flaml.tune.tune: 02-05 19:04:03] {884} INFO - trial 66 config: {'estimators': {'estimator_name': 'sklearn.ensemble.GradientBoostingClassifier', 'estimator_class': <class 'sklearn.ensemble._gb.GradientBoostingClassifier'>, 'params': {'n_estimators': 134, 'max_depth': 8}}}\n",
      "[flaml.tune.tune: 02-05 19:04:05] {884} INFO - trial 67 config: {'estimators': {'estimator_name': 'sklearn.ensemble.GradientBoostingClassifier', 'estimator_class': <class 'sklearn.ensemble._gb.GradientBoostingClassifier'>, 'params': {'n_estimators': 196, 'max_depth': 10}}}\n",
      "[flaml.tune.tune: 02-05 19:04:06] {884} INFO - trial 68 config: {'estimators': {'estimator_name': 'sklearn.ensemble.GradientBoostingClassifier', 'estimator_class': <class 'sklearn.ensemble._gb.GradientBoostingClassifier'>, 'params': {'n_estimators': 156, 'max_depth': 8}}}\n",
      "[flaml.tune.tune: 02-05 19:04:07] {884} INFO - trial 69 config: {'estimators': {'estimator_name': 'sklearn.ensemble.GradientBoostingClassifier', 'estimator_class': <class 'sklearn.ensemble._gb.GradientBoostingClassifier'>, 'params': {'n_estimators': 174, 'max_depth': 10}}}\n",
      "[flaml.tune.tune: 02-05 19:04:09] {884} INFO - trial 70 config: {'estimators': {'estimator_name': 'sklearn.ensemble.GradientBoostingClassifier', 'estimator_class': <class 'sklearn.ensemble._gb.GradientBoostingClassifier'>, 'params': {'n_estimators': 127, 'max_depth': 9}}}\n",
      "[flaml.tune.tune: 02-05 19:04:10] {884} INFO - trial 71 config: {'estimators': {'estimator_name': 'sklearn.ensemble.GradientBoostingClassifier', 'estimator_class': <class 'sklearn.ensemble._gb.GradientBoostingClassifier'>, 'params': {'n_estimators': 203, 'max_depth': 9}}}\n",
      "[flaml.tune.tune: 02-05 19:04:11] {884} INFO - trial 72 config: {'estimators': {'estimator_name': 'sklearn.ensemble.GradientBoostingClassifier', 'estimator_class': <class 'sklearn.ensemble._gb.GradientBoostingClassifier'>, 'params': {'n_estimators': 188, 'max_depth': 10}}}\n",
      "[flaml.tune.tune: 02-05 19:04:13] {884} INFO - trial 73 config: {'estimators': {'estimator_name': 'sklearn.ensemble.GradientBoostingClassifier', 'estimator_class': <class 'sklearn.ensemble._gb.GradientBoostingClassifier'>, 'params': {'n_estimators': 142, 'max_depth': 8}}}\n",
      "[flaml.tune.tune: 02-05 19:04:14] {884} INFO - trial 74 config: {'estimators': {'estimator_name': 'sklearn.ensemble.GradientBoostingClassifier', 'estimator_class': <class 'sklearn.ensemble._gb.GradientBoostingClassifier'>, 'params': {'n_estimators': 145, 'max_depth': 10}}}\n",
      "[flaml.tune.tune: 02-05 19:04:16] {884} INFO - trial 75 config: {'estimators': {'estimator_name': 'sklearn.ensemble.GradientBoostingClassifier', 'estimator_class': <class 'sklearn.ensemble._gb.GradientBoostingClassifier'>, 'params': {'n_estimators': 185, 'max_depth': 8}}}\n",
      "[flaml.tune.tune: 02-05 19:04:17] {884} INFO - trial 76 config: {'estimators': {'estimator_name': 'sklearn.ensemble.GradientBoostingClassifier', 'estimator_class': <class 'sklearn.ensemble._gb.GradientBoostingClassifier'>, 'params': {'n_estimators': 193, 'max_depth': 10}}}\n",
      "[flaml.tune.tune: 02-05 19:04:18] {884} INFO - trial 77 config: {'estimators': {'estimator_name': 'sklearn.ensemble.GradientBoostingClassifier', 'estimator_class': <class 'sklearn.ensemble._gb.GradientBoostingClassifier'>, 'params': {'n_estimators': 137, 'max_depth': 8}}}\n",
      "[flaml.tune.tune: 02-05 19:04:20] {884} INFO - trial 78 config: {'estimators': {'estimator_name': 'sklearn.ensemble.GradientBoostingClassifier', 'estimator_class': <class 'sklearn.ensemble._gb.GradientBoostingClassifier'>, 'params': {'n_estimators': 144, 'max_depth': 8}}}\n",
      "[flaml.tune.tune: 02-05 19:04:21] {884} INFO - trial 79 config: {'estimators': {'estimator_name': 'sklearn.ensemble.GradientBoostingClassifier', 'estimator_class': <class 'sklearn.ensemble._gb.GradientBoostingClassifier'>, 'params': {'n_estimators': 186, 'max_depth': 10}}}\n",
      "[flaml.tune.tune: 02-05 19:04:22] {884} INFO - trial 80 config: {'estimators': {'estimator_name': 'sklearn.ensemble.GradientBoostingClassifier', 'estimator_class': <class 'sklearn.ensemble._gb.GradientBoostingClassifier'>, 'params': {'n_estimators': 175, 'max_depth': 10}}}\n",
      "[flaml.tune.tune: 02-05 19:04:24] {884} INFO - trial 81 config: {'estimators': {'estimator_name': 'sklearn.ensemble.GradientBoostingClassifier', 'estimator_class': <class 'sklearn.ensemble._gb.GradientBoostingClassifier'>, 'params': {'n_estimators': 155, 'max_depth': 8}}}\n",
      "[flaml.tune.tune: 02-05 19:04:25] {884} INFO - trial 82 config: {'estimators': {'estimator_name': 'sklearn.ensemble.GradientBoostingClassifier', 'estimator_class': <class 'sklearn.ensemble._gb.GradientBoostingClassifier'>, 'params': {'n_estimators': 164, 'max_depth': 10}}}\n",
      "[flaml.tune.tune: 02-05 19:04:26] {884} INFO - trial 83 config: {'estimators': {'estimator_name': 'sklearn.ensemble.GradientBoostingClassifier', 'estimator_class': <class 'sklearn.ensemble._gb.GradientBoostingClassifier'>, 'params': {'n_estimators': 166, 'max_depth': 8}}}\n",
      "[flaml.tune.tune: 02-05 19:04:28] {884} INFO - trial 84 config: {'estimators': {'estimator_name': 'sklearn.ensemble.GradientBoostingClassifier', 'estimator_class': <class 'sklearn.ensemble._gb.GradientBoostingClassifier'>, 'params': {'n_estimators': 189, 'max_depth': 10}}}\n",
      "[flaml.tune.tune: 02-05 19:04:29] {884} INFO - trial 85 config: {'estimators': {'estimator_name': 'sklearn.ensemble.GradientBoostingClassifier', 'estimator_class': <class 'sklearn.ensemble._gb.GradientBoostingClassifier'>, 'params': {'n_estimators': 141, 'max_depth': 8}}}\n",
      "[flaml.tune.tune: 02-05 19:04:30] {884} INFO - trial 86 config: {'estimators': {'estimator_name': 'sklearn.ensemble.GradientBoostingClassifier', 'estimator_class': <class 'sklearn.ensemble._gb.GradientBoostingClassifier'>, 'params': {'n_estimators': 158, 'max_depth': 10}}}\n",
      "[flaml.tune.tune: 02-05 19:04:31] {884} INFO - trial 87 config: {'estimators': {'estimator_name': 'sklearn.ensemble.GradientBoostingClassifier', 'estimator_class': <class 'sklearn.ensemble._gb.GradientBoostingClassifier'>, 'params': {'n_estimators': 172, 'max_depth': 8}}}\n",
      "[flaml.tune.tune: 02-05 19:04:33] {884} INFO - trial 88 config: {'estimators': {'estimator_name': 'sklearn.ensemble.GradientBoostingClassifier', 'estimator_class': <class 'sklearn.ensemble._gb.GradientBoostingClassifier'>, 'params': {'n_estimators': 190, 'max_depth': 9}}}\n",
      "[flaml.tune.tune: 02-05 19:04:35] {884} INFO - trial 89 config: {'estimators': {'estimator_name': 'sklearn.ensemble.GradientBoostingClassifier', 'estimator_class': <class 'sklearn.ensemble._gb.GradientBoostingClassifier'>, 'params': {'n_estimators': 62, 'max_depth': 18}}}\n",
      "[flaml.tune.tune: 02-05 19:04:35] {884} INFO - trial 90 config: {'estimators': {'estimator_name': 'sklearn.ensemble.GradientBoostingClassifier', 'estimator_class': <class 'sklearn.ensemble._gb.GradientBoostingClassifier'>, 'params': {'n_estimators': 140, 'max_depth': 9}}}\n",
      "[flaml.tune.tune: 02-05 19:04:37] {884} INFO - trial 91 config: {'estimators': {'estimator_name': 'sklearn.ensemble.GradientBoostingClassifier', 'estimator_class': <class 'sklearn.ensemble._gb.GradientBoostingClassifier'>, 'params': {'n_estimators': 157, 'max_depth': 8}}}\n",
      "[flaml.tune.tune: 02-05 19:04:38] {884} INFO - trial 92 config: {'estimators': {'estimator_name': 'sklearn.ensemble.GradientBoostingClassifier', 'estimator_class': <class 'sklearn.ensemble._gb.GradientBoostingClassifier'>, 'params': {'n_estimators': 173, 'max_depth': 10}}}\n",
      "[flaml.tune.tune: 02-05 19:04:39] {884} INFO - trial 93 config: {'estimators': {'estimator_name': 'sklearn.ensemble.GradientBoostingClassifier', 'estimator_class': <class 'sklearn.ensemble._gb.GradientBoostingClassifier'>, 'params': {'n_estimators': 114, 'max_depth': 18}}}\n",
      "[flaml.tune.tune: 02-05 19:04:40] {884} INFO - trial 94 config: {'estimators': {'estimator_name': 'sklearn.ensemble.GradientBoostingClassifier', 'estimator_class': <class 'sklearn.ensemble._gb.GradientBoostingClassifier'>, 'params': {'n_estimators': 174, 'max_depth': 8}}}\n",
      "[flaml.tune.tune: 02-05 19:04:42] {884} INFO - trial 95 config: {'estimators': {'estimator_name': 'sklearn.ensemble.GradientBoostingClassifier', 'estimator_class': <class 'sklearn.ensemble._gb.GradientBoostingClassifier'>, 'params': {'n_estimators': 156, 'max_depth': 10}}}\n",
      "[flaml.tune.tune: 02-05 19:04:43] {884} INFO - trial 96 config: {'estimators': {'estimator_name': 'sklearn.ensemble.GradientBoostingClassifier', 'estimator_class': <class 'sklearn.ensemble._gb.GradientBoostingClassifier'>, 'params': {'n_estimators': 112, 'max_depth': 18}}}\n",
      "[flaml.tune.tune: 02-05 19:04:44] {884} INFO - trial 97 config: {'estimators': {'estimator_name': 'sklearn.ensemble.GradientBoostingClassifier', 'estimator_class': <class 'sklearn.ensemble._gb.GradientBoostingClassifier'>, 'params': {'n_estimators': 694, 'max_depth': 5}}}\n",
      "[flaml.tune.tune: 02-05 19:04:49] {884} INFO - trial 98 config: {'estimators': {'estimator_name': 'sklearn.ensemble.GradientBoostingClassifier', 'estimator_class': <class 'sklearn.ensemble._gb.GradientBoostingClassifier'>, 'params': {'n_estimators': 154, 'max_depth': 10}}}\n",
      "[flaml.tune.tune: 02-05 19:04:50] {884} INFO - trial 99 config: {'estimators': {'estimator_name': 'sklearn.ensemble.GradientBoostingClassifier', 'estimator_class': <class 'sklearn.ensemble._gb.GradientBoostingClassifier'>, 'params': {'n_estimators': 176, 'max_depth': 8}}}\n",
      "[flaml.tune.tune: 02-05 19:04:51] {884} INFO - trial 100 config: {'estimators': {'estimator_name': 'sklearn.ensemble.GradientBoostingClassifier', 'estimator_class': <class 'sklearn.ensemble._gb.GradientBoostingClassifier'>, 'params': {'n_estimators': 64, 'max_depth': 18}}}\n"
     ]
    }
   ],
   "source": [
    "from flaml.tune import tune\n",
    "\n",
    "result = tune.run(objective, \n",
    "                  config=search_space.get_flaml_space(),\n",
    "                  mode=\"min\", num_samples=100, use_ray=False)"
   ],
   "metadata": {
    "collapsed": false,
    "ExecuteTime": {
     "end_time": "2025-02-05T19:04:52.554708300Z",
     "start_time": "2025-02-05T19:01:44.941543Z"
    }
   },
   "id": "d427658ceb1d381"
  },
  {
   "cell_type": "code",
   "execution_count": 18,
   "outputs": [
    {
     "name": "stdout",
     "output_type": "stream",
     "text": [
      "{'_metric': np.float64(-0.9666666666666668), 'training_iteration': 0, 'config': {'estimators': {'estimator_name': 'sklearn.ensemble.GradientBoostingClassifier', 'estimator_class': <class 'sklearn.ensemble._gb.GradientBoostingClassifier'>, 'params': {'n_estimators': 88, 'max_depth': 18}}}, 'config/estimators': {'estimator_name': 'sklearn.ensemble.GradientBoostingClassifier', 'estimator_class': <class 'sklearn.ensemble._gb.GradientBoostingClassifier'>, 'params': {'n_estimators': 88, 'max_depth': 18}}, 'experiment_tag': 'exp', 'time_total_s': 0.7611761093139648}\n"
     ]
    }
   ],
   "source": [
    "print(result.best_result)"
   ],
   "metadata": {
    "collapsed": false,
    "ExecuteTime": {
     "end_time": "2025-02-05T19:06:33.705953900Z",
     "start_time": "2025-02-05T19:06:33.697871100Z"
    }
   },
   "id": "faf9f7fca8f16fc1"
  },
  {
   "cell_type": "code",
   "execution_count": null,
   "outputs": [],
   "source": [],
   "metadata": {
    "collapsed": false
   },
   "id": "5f77296b8ccb8f2e"
  }
 ],
 "metadata": {
  "kernelspec": {
   "display_name": "Python 3",
   "language": "python",
   "name": "python3"
  },
  "language_info": {
   "codemirror_mode": {
    "name": "ipython",
    "version": 2
   },
   "file_extension": ".py",
   "mimetype": "text/x-python",
   "name": "python",
   "nbconvert_exporter": "python",
   "pygments_lexer": "ipython2",
   "version": "2.7.6"
  }
 },
 "nbformat": 4,
 "nbformat_minor": 5
}
