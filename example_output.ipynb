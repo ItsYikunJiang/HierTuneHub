{
 "cells": [
  {
   "cell_type": "code",
   "execution_count": 1,
   "metadata": {},
   "outputs": [],
   "source": [
    "import numpy as np\n",
    "from sklearn.ensemble import RandomForestClassifier, GradientBoostingClassifier\n",
    "from sklearn.svm import SVC\n",
    "from sklearn.neighbors import KNeighborsClassifier\n",
    "from sklearn.datasets import load_iris\n",
    "from sklearn.model_selection import cross_val_score\n",
    "\n",
    "np.random.seed(42)"
   ]
  },
  {
   "cell_type": "code",
   "execution_count": 2,
   "metadata": {},
   "outputs": [],
   "source": [
    "iris = load_iris()\n",
    "x, y = iris.data, iris.target"
   ]
  },
  {
   "cell_type": "markdown",
   "metadata": {},
   "source": [
    "## Search Space"
   ]
  },
  {
   "cell_type": "code",
   "execution_count": 3,
   "metadata": {},
   "outputs": [
    {
     "name": "stdout",
     "output_type": "stream",
     "text": [
      "{'estimators': {'sklearn.svm.SVC': {'C': {'range': [1e-10, 1.0], 'sampler': 'loguniform', 'default': 1.0}, 'kernel': {'values': ['linear'], 'sampler': 'choice', 'default': 'linear'}}, 'sklearn.ensemble.RandomForestClassifier': {'n_estimators': {'range': [10, 1000], 'sampler': 'uniformint', 'default': 10}, 'max_depth': {'range': [2, 32], 'sampler': 'uniformint', 'default': 5}}, 'sklearn.ensemble.GradientBoostingClassifier': {'n_estimators': {'range': [10, 1000], 'sampler': 'uniformint', 'default': 10}, 'max_depth': {'range': [2, 32], 'sampler': 'uniformint', 'default': 5}}, 'sklearn.neighbors.KNeighborsClassifier': {'n_neighbors': {'range': [2, 10], 'sampler': 'uniformint', 'default': 5}}}}\n"
     ]
    }
   ],
   "source": [
    "import sys\n",
    "sys.path.append('/Users/heyi/Github_Document/HPSearchSpace/HPSearchSpace')\n",
    "\n",
    "from HPSearchSpace.search_space import SearchSpace\n",
    "\n",
    "ss = SearchSpace(config_file=\"example/example.yaml\")\n",
    "\n",
    "print(ss.config)\n"
   ]
  },
  {
   "cell_type": "markdown",
   "metadata": {},
   "source": [
    "## Hyperopt"
   ]
  },
  {
   "cell_type": "code",
   "execution_count": 4,
   "metadata": {},
   "outputs": [
    {
     "name": "stdout",
     "output_type": "stream",
     "text": [
      "100%|██████████| 100/100 [00:17<00:00,  5.77trial/s, best loss: -0.9933333333333333]\n"
     ]
    }
   ],
   "source": [
    "from hyperopt import hp\n",
    "from hyperopt.pyll import scope\n",
    "from hyperopt import fmin, Trials, tpe\n",
    "space=ss.get_hyperopt_space()\n",
    "# space = hp.choice(\n",
    "#     \"classifier\", [\n",
    "#         {\n",
    "#             \"model\": SVC,\n",
    "#             \"params\": {\n",
    "#                 \"C\": hp.loguniform(\"svm_C\", 1e-10, 1),\n",
    "#                 \"kernel\": \"linear\"\n",
    "#             }\n",
    "#         },\n",
    "#         {\n",
    "#             \"model\": RandomForestClassifier,\n",
    "#             \"params\": {\n",
    "#                 \"n_estimators\": scope.int(hp.quniform(\"rf_n_estimators\", 10, 1000, 10)),\n",
    "#                 \"max_depth\": scope.int(hp.quniform(\"rf_max_depth\", 2, 32, 1))\n",
    "#             }\n",
    "#         },\n",
    "#         {\n",
    "#             \"model\": GradientBoostingClassifier,\n",
    "#             \"params\": {\n",
    "#                 \"n_estimators\": scope.int(hp.quniform(\"gb_n_estimators\", 10, 1000, 10)),\n",
    "#                 \"max_depth\": scope.int(hp.quniform(\"gb_max_depth\", 2, 32, 1))\n",
    "#             }\n",
    "#         },\n",
    "#         {\n",
    "#             \"model\": KNeighborsClassifier,\n",
    "#             \"params\": {\n",
    "#                 \"n_neighbors\": scope.int(hp.quniform(\"knn_n_neighbors\", 2, 10, 1))\n",
    "#             }\n",
    "#         }\n",
    "#     ]\n",
    "# )\n",
    "\n",
    "def objective_hp(params):\n",
    "    model = params[\"model\"]\n",
    "    params = params[\"params\"]\n",
    "    model = model(**params)\n",
    "    score = cross_val_score(model, x, y, n_jobs=-1, cv=3)\n",
    "    return -score.mean()\n",
    "\n",
    "trials = Trials()\n",
    "best = fmin(objective_hp, space, algo=tpe.suggest, max_evals=100, trials=trials)"
   ]
  },
  {
   "cell_type": "code",
   "execution_count": 5,
   "metadata": {},
   "outputs": [
    {
     "name": "stdout",
     "output_type": "stream",
     "text": [
      "{'loss': -0.9933333333333333, 'status': 'ok'} {'classifier': [np.int64(0)], 'gradientboostingclassifier_max_depth': [], 'gradientboostingclassifier_n_estimators': [], 'kneighborsclassifier_n_neighbors': [], 'randomforestclassifier_max_depth': [], 'randomforestclassifier_n_estimators': [], 'svc_C': [np.float64(1.2493219663336799)]}\n",
      "{'loss': -0.96, 'status': 'ok'} {'classifier': [np.int64(1)], 'gradientboostingclassifier_max_depth': [], 'gradientboostingclassifier_n_estimators': [], 'kneighborsclassifier_n_neighbors': [], 'randomforestclassifier_max_depth': [np.float64(11.0)], 'randomforestclassifier_n_estimators': [np.float64(353.0)], 'svc_C': []}\n"
     ]
    }
   ],
   "source": [
    "print(trials.best_trial[\"result\"], trials.best_trial[\"misc\"][\"vals\"])\n",
    "print(trials.trials[10][\"result\"], trials.trials[10][\"misc\"][\"vals\"])"
   ]
  },
  {
   "cell_type": "markdown",
   "metadata": {},
   "source": [
    "## Optuna"
   ]
  },
  {
   "cell_type": "code",
   "execution_count": 6,
   "metadata": {},
   "outputs": [
    {
     "name": "stderr",
     "output_type": "stream",
     "text": [
      "/Users/heyi/AnacondaA/anaconda3/envs/causaltune-env/lib/python3.9/site-packages/tqdm/auto.py:21: TqdmWarning: IProgress not found. Please update jupyter and ipywidgets. See https://ipywidgets.readthedocs.io/en/stable/user_install.html\n",
      "  from .autonotebook import tqdm as notebook_tqdm\n",
      "[I 2025-02-05 13:15:17,454] A new study created in memory with name: no-name-eb77c67d-f92e-4f71-8161-64342340b685\n",
      "Best trial: 0. Best value: 0.96:   1%|          | 1/100 [00:00<00:15,  6.22it/s]"
     ]
    },
    {
     "name": "stdout",
     "output_type": "stream",
     "text": [
      "[I 2025-02-05 13:15:17,614] Trial 0 finished with value: 0.96 and parameters: {'classifier': 'RandomForest', 'n_estimators': 173, 'max_depth': 6}. Best is trial 0 with value: 0.96.\n"
     ]
    },
    {
     "name": "stderr",
     "output_type": "stream",
     "text": [
      "Best trial: 1. Best value: 0.973333:   3%|▎         | 3/100 [00:00<00:42,  2.27it/s]"
     ]
    },
    {
     "name": "stdout",
     "output_type": "stream",
     "text": [
      "[I 2025-02-05 13:15:18,250] Trial 1 finished with value: 0.9733333333333333 and parameters: {'classifier': 'GradientBoosting', 'n_estimators': 863, 'max_depth': 11}. Best is trial 1 with value: 0.9733333333333333.\n",
      "[I 2025-02-05 13:15:18,327] Trial 2 finished with value: 0.9666666666666667 and parameters: {'classifier': 'RandomForest', 'n_estimators': 99, 'max_depth': 21}. Best is trial 1 with value: 0.9733333333333333.\n",
      "[I 2025-02-05 13:15:18,342] Trial 3 finished with value: 0.32 and parameters: {'classifier': 'SVC', 'C': 5.7889153943719186e-08, 'kernel': 'linear'}. Best is trial 1 with value: 0.9733333333333333.\n"
     ]
    },
    {
     "name": "stderr",
     "output_type": "stream",
     "text": [
      "Best trial: 1. Best value: 0.973333:   6%|▌         | 6/100 [00:01<00:21,  4.31it/s]"
     ]
    },
    {
     "name": "stdout",
     "output_type": "stream",
     "text": [
      "[I 2025-02-05 13:15:18,697] Trial 4 finished with value: 0.9666666666666667 and parameters: {'classifier': 'RandomForest', 'n_estimators': 564, 'max_depth': 21}. Best is trial 1 with value: 0.9733333333333333.\n",
      "[I 2025-02-05 13:15:18,715] Trial 5 finished with value: 0.32 and parameters: {'classifier': 'SVC', 'C': 1.2370821571423879e-09, 'kernel': 'linear'}. Best is trial 1 with value: 0.9733333333333333.\n",
      "[I 2025-02-05 13:15:18,734] Trial 6 finished with value: 0.9666666666666667 and parameters: {'classifier': 'KNeighbors', 'n_neighbors': 10}. Best is trial 1 with value: 0.9733333333333333.\n"
     ]
    },
    {
     "name": "stderr",
     "output_type": "stream",
     "text": [
      "Best trial: 1. Best value: 0.973333:   8%|▊         | 8/100 [00:02<00:23,  3.97it/s]"
     ]
    },
    {
     "name": "stdout",
     "output_type": "stream",
     "text": [
      "[I 2025-02-05 13:15:19,513] Trial 7 finished with value: 0.9733333333333333 and parameters: {'classifier': 'GradientBoosting', 'n_estimators': 930, 'max_depth': 12}. Best is trial 1 with value: 0.9733333333333333.\n"
     ]
    },
    {
     "name": "stderr",
     "output_type": "stream",
     "text": [
      "Best trial: 1. Best value: 0.973333:  10%|█         | 10/100 [00:02<00:25,  3.52it/s]"
     ]
    },
    {
     "name": "stdout",
     "output_type": "stream",
     "text": [
      "[I 2025-02-05 13:15:20,105] Trial 8 finished with value: 0.94 and parameters: {'classifier': 'RandomForest', 'n_estimators': 972, 'max_depth': 2}. Best is trial 1 with value: 0.9733333333333333.\n",
      "[I 2025-02-05 13:15:20,266] Trial 9 finished with value: 0.9666666666666667 and parameters: {'classifier': 'RandomForest', 'n_estimators': 246, 'max_depth': 11}. Best is trial 1 with value: 0.9733333333333333.\n"
     ]
    },
    {
     "name": "stderr",
     "output_type": "stream",
     "text": [
      "Best trial: 1. Best value: 0.973333:  11%|█         | 11/100 [00:03<00:29,  3.01it/s]"
     ]
    },
    {
     "name": "stdout",
     "output_type": "stream",
     "text": [
      "[I 2025-02-05 13:15:20,755] Trial 10 finished with value: 0.9733333333333333 and parameters: {'classifier': 'GradientBoosting', 'n_estimators': 631, 'max_depth': 32}. Best is trial 1 with value: 0.9733333333333333.\n"
     ]
    },
    {
     "name": "stderr",
     "output_type": "stream",
     "text": [
      "Best trial: 1. Best value: 0.973333:  12%|█▏        | 12/100 [00:03<00:37,  2.37it/s]"
     ]
    },
    {
     "name": "stdout",
     "output_type": "stream",
     "text": [
      "[I 2025-02-05 13:15:21,442] Trial 11 finished with value: 0.9666666666666667 and parameters: {'classifier': 'GradientBoosting', 'n_estimators': 987, 'max_depth': 13}. Best is trial 1 with value: 0.9733333333333333.\n"
     ]
    },
    {
     "name": "stderr",
     "output_type": "stream",
     "text": [
      "Best trial: 1. Best value: 0.973333:  13%|█▎        | 13/100 [00:04<00:41,  2.12it/s]"
     ]
    },
    {
     "name": "stdout",
     "output_type": "stream",
     "text": [
      "[I 2025-02-05 13:15:22,052] Trial 12 finished with value: 0.9666666666666667 and parameters: {'classifier': 'GradientBoosting', 'n_estimators': 799, 'max_depth': 14}. Best is trial 1 with value: 0.9733333333333333.\n"
     ]
    },
    {
     "name": "stderr",
     "output_type": "stream",
     "text": [
      "Best trial: 1. Best value: 0.973333:  14%|█▍        | 14/100 [00:05<00:44,  1.94it/s]"
     ]
    },
    {
     "name": "stdout",
     "output_type": "stream",
     "text": [
      "[I 2025-02-05 13:15:22,678] Trial 13 finished with value: 0.9666666666666667 and parameters: {'classifier': 'GradientBoosting', 'n_estimators': 790, 'max_depth': 9}. Best is trial 1 with value: 0.9733333333333333.\n"
     ]
    },
    {
     "name": "stderr",
     "output_type": "stream",
     "text": [
      "Best trial: 1. Best value: 0.973333:  15%|█▌        | 15/100 [00:05<00:45,  1.85it/s]"
     ]
    },
    {
     "name": "stdout",
     "output_type": "stream",
     "text": [
      "[I 2025-02-05 13:15:23,287] Trial 14 finished with value: 0.9666666666666667 and parameters: {'classifier': 'GradientBoosting', 'n_estimators': 767, 'max_depth': 20}. Best is trial 1 with value: 0.9733333333333333.\n",
      "[I 2025-02-05 13:15:23,304] Trial 15 finished with value: 0.9466666666666667 and parameters: {'classifier': 'KNeighbors', 'n_neighbors': 2}. Best is trial 1 with value: 0.9733333333333333.\n"
     ]
    },
    {
     "name": "stderr",
     "output_type": "stream",
     "text": [
      "Best trial: 1. Best value: 0.973333:  17%|█▋        | 17/100 [00:06<00:31,  2.63it/s]"
     ]
    },
    {
     "name": "stdout",
     "output_type": "stream",
     "text": [
      "[I 2025-02-05 13:15:23,651] Trial 16 finished with value: 0.9733333333333333 and parameters: {'classifier': 'GradientBoosting', 'n_estimators': 383, 'max_depth': 17}. Best is trial 1 with value: 0.9733333333333333.\n"
     ]
    },
    {
     "name": "stderr",
     "output_type": "stream",
     "text": [
      "Best trial: 1. Best value: 0.973333:  18%|█▊        | 18/100 [00:06<00:36,  2.24it/s]"
     ]
    },
    {
     "name": "stdout",
     "output_type": "stream",
     "text": [
      "[I 2025-02-05 13:15:24,303] Trial 17 finished with value: 0.96 and parameters: {'classifier': 'GradientBoosting', 'n_estimators': 848, 'max_depth': 6}. Best is trial 1 with value: 0.9733333333333333.\n"
     ]
    },
    {
     "name": "stderr",
     "output_type": "stream",
     "text": [
      "Best trial: 1. Best value: 0.973333:  20%|██        | 20/100 [00:07<00:37,  2.15it/s]"
     ]
    },
    {
     "name": "stdout",
     "output_type": "stream",
     "text": [
      "[I 2025-02-05 13:15:24,826] Trial 18 finished with value: 0.9733333333333333 and parameters: {'classifier': 'GradientBoosting', 'n_estimators': 663, 'max_depth': 27}. Best is trial 1 with value: 0.9733333333333333.\n",
      "[I 2025-02-05 13:15:24,844] Trial 19 finished with value: 0.9733333333333333 and parameters: {'classifier': 'KNeighbors', 'n_neighbors': 6}. Best is trial 1 with value: 0.9733333333333333.\n",
      "[I 2025-02-05 13:15:24,861] Trial 20 finished with value: 0.9666666666666667 and parameters: {'classifier': 'SVC', 'C': 0.1385279969641081, 'kernel': 'linear'}. Best is trial 1 with value: 0.9733333333333333.\n"
     ]
    },
    {
     "name": "stderr",
     "output_type": "stream",
     "text": [
      "Best trial: 1. Best value: 0.973333:  22%|██▏       | 22/100 [00:07<00:24,  3.15it/s]"
     ]
    },
    {
     "name": "stdout",
     "output_type": "stream",
     "text": [
      "[I 2025-02-05 13:15:25,374] Trial 21 finished with value: 0.9733333333333333 and parameters: {'classifier': 'GradientBoosting', 'n_estimators': 576, 'max_depth': 31}. Best is trial 1 with value: 0.9733333333333333.\n"
     ]
    },
    {
     "name": "stderr",
     "output_type": "stream",
     "text": [
      "Best trial: 1. Best value: 0.973333:  23%|██▎       | 23/100 [00:08<00:31,  2.45it/s]"
     ]
    },
    {
     "name": "stdout",
     "output_type": "stream",
     "text": [
      "[I 2025-02-05 13:15:26,143] Trial 22 finished with value: 0.9666666666666667 and parameters: {'classifier': 'GradientBoosting', 'n_estimators': 895, 'max_depth': 26}. Best is trial 1 with value: 0.9733333333333333.\n"
     ]
    },
    {
     "name": "stderr",
     "output_type": "stream",
     "text": [
      "Best trial: 1. Best value: 0.973333:  24%|██▍       | 24/100 [00:09<00:32,  2.34it/s]"
     ]
    },
    {
     "name": "stdout",
     "output_type": "stream",
     "text": [
      "[I 2025-02-05 13:15:26,640] Trial 23 finished with value: 0.9733333333333333 and parameters: {'classifier': 'GradientBoosting', 'n_estimators': 681, 'max_depth': 15}. Best is trial 1 with value: 0.9733333333333333.\n"
     ]
    },
    {
     "name": "stderr",
     "output_type": "stream",
     "text": [
      "Best trial: 1. Best value: 0.973333:  25%|██▌       | 25/100 [00:09<00:31,  2.40it/s]"
     ]
    },
    {
     "name": "stdout",
     "output_type": "stream",
     "text": [
      "[I 2025-02-05 13:15:27,026] Trial 24 finished with value: 0.9733333333333333 and parameters: {'classifier': 'GradientBoosting', 'n_estimators': 447, 'max_depth': 10}. Best is trial 1 with value: 0.9733333333333333.\n"
     ]
    },
    {
     "name": "stderr",
     "output_type": "stream",
     "text": [
      "Best trial: 1. Best value: 0.973333:  26%|██▌       | 26/100 [00:10<00:32,  2.29it/s]"
     ]
    },
    {
     "name": "stdout",
     "output_type": "stream",
     "text": [
      "[I 2025-02-05 13:15:27,515] Trial 25 finished with value: 0.9666666666666667 and parameters: {'classifier': 'GradientBoosting', 'n_estimators': 669, 'max_depth': 32}. Best is trial 1 with value: 0.9733333333333333.\n"
     ]
    },
    {
     "name": "stderr",
     "output_type": "stream",
     "text": [
      "Best trial: 1. Best value: 0.973333:  27%|██▋       | 27/100 [00:10<00:35,  2.04it/s]"
     ]
    },
    {
     "name": "stdout",
     "output_type": "stream",
     "text": [
      "[I 2025-02-05 13:15:28,156] Trial 26 finished with value: 0.9733333333333333 and parameters: {'classifier': 'GradientBoosting', 'n_estimators': 911, 'max_depth': 18}. Best is trial 1 with value: 0.9733333333333333.\n"
     ]
    },
    {
     "name": "stderr",
     "output_type": "stream",
     "text": [
      "Best trial: 1. Best value: 0.973333:  29%|██▉       | 29/100 [00:11<00:35,  1.98it/s]"
     ]
    },
    {
     "name": "stdout",
     "output_type": "stream",
     "text": [
      "[I 2025-02-05 13:15:28,697] Trial 27 finished with value: 0.9733333333333333 and parameters: {'classifier': 'GradientBoosting', 'n_estimators': 724, 'max_depth': 27}. Best is trial 1 with value: 0.9733333333333333.\n",
      "[I 2025-02-05 13:15:28,714] Trial 28 finished with value: 0.82 and parameters: {'classifier': 'SVC', 'C': 0.005712167750329013, 'kernel': 'linear'}. Best is trial 1 with value: 0.9733333333333333.\n",
      "[I 2025-02-05 13:15:28,734] Trial 29 finished with value: 0.9466666666666667 and parameters: {'classifier': 'KNeighbors', 'n_neighbors': 2}. Best is trial 1 with value: 0.9733333333333333.\n"
     ]
    },
    {
     "name": "stderr",
     "output_type": "stream",
     "text": [
      "Best trial: 1. Best value: 0.973333:  31%|███       | 31/100 [00:11<00:20,  3.35it/s]"
     ]
    },
    {
     "name": "stdout",
     "output_type": "stream",
     "text": [
      "[I 2025-02-05 13:15:29,072] Trial 30 finished with value: 0.9733333333333333 and parameters: {'classifier': 'GradientBoosting', 'n_estimators': 340, 'max_depth': 6}. Best is trial 1 with value: 0.9733333333333333.\n"
     ]
    },
    {
     "name": "stderr",
     "output_type": "stream",
     "text": [
      "Best trial: 1. Best value: 0.973333:  32%|███▏      | 32/100 [00:11<00:21,  3.18it/s]"
     ]
    },
    {
     "name": "stdout",
     "output_type": "stream",
     "text": [
      "[I 2025-02-05 13:15:29,448] Trial 31 finished with value: 0.9666666666666667 and parameters: {'classifier': 'GradientBoosting', 'n_estimators': 428, 'max_depth': 18}. Best is trial 1 with value: 0.9733333333333333.\n"
     ]
    },
    {
     "name": "stderr",
     "output_type": "stream",
     "text": [
      "Best trial: 1. Best value: 0.973333:  33%|███▎      | 33/100 [00:12<00:20,  3.24it/s]"
     ]
    },
    {
     "name": "stdout",
     "output_type": "stream",
     "text": [
      "[I 2025-02-05 13:15:29,736] Trial 32 finished with value: 0.9733333333333333 and parameters: {'classifier': 'GradientBoosting', 'n_estimators': 339, 'max_depth': 16}. Best is trial 1 with value: 0.9733333333333333.\n"
     ]
    },
    {
     "name": "stderr",
     "output_type": "stream",
     "text": [
      "Best trial: 1. Best value: 0.973333:  34%|███▍      | 34/100 [00:12<00:22,  2.87it/s]"
     ]
    },
    {
     "name": "stdout",
     "output_type": "stream",
     "text": [
      "[I 2025-02-05 13:15:30,205] Trial 33 finished with value: 0.9733333333333333 and parameters: {'classifier': 'GradientBoosting', 'n_estimators': 568, 'max_depth': 24}. Best is trial 1 with value: 0.9733333333333333.\n"
     ]
    },
    {
     "name": "stderr",
     "output_type": "stream",
     "text": [
      "Best trial: 1. Best value: 0.973333:  35%|███▌      | 35/100 [00:13<00:26,  2.46it/s]"
     ]
    },
    {
     "name": "stdout",
     "output_type": "stream",
     "text": [
      "[I 2025-02-05 13:15:30,780] Trial 34 finished with value: 0.96 and parameters: {'classifier': 'RandomForest', 'n_estimators': 908, 'max_depth': 13}. Best is trial 1 with value: 0.9733333333333333.\n"
     ]
    },
    {
     "name": "stderr",
     "output_type": "stream",
     "text": [
      "Best trial: 1. Best value: 0.973333:  36%|███▌      | 36/100 [00:13<00:25,  2.50it/s]"
     ]
    },
    {
     "name": "stdout",
     "output_type": "stream",
     "text": [
      "[I 2025-02-05 13:15:31,161] Trial 35 finished with value: 0.9666666666666667 and parameters: {'classifier': 'GradientBoosting', 'n_estimators': 489, 'max_depth': 11}. Best is trial 1 with value: 0.9733333333333333.\n",
      "[I 2025-02-05 13:15:31,177] Trial 36 finished with value: 0.32 and parameters: {'classifier': 'SVC', 'C': 2.4207507990109982e-05, 'kernel': 'linear'}. Best is trial 1 with value: 0.9733333333333333.\n"
     ]
    },
    {
     "name": "stderr",
     "output_type": "stream",
     "text": [
      "Best trial: 1. Best value: 0.973333:  38%|███▊      | 38/100 [00:14<00:18,  3.33it/s]"
     ]
    },
    {
     "name": "stdout",
     "output_type": "stream",
     "text": [
      "[I 2025-02-05 13:15:31,502] Trial 37 finished with value: 0.9733333333333333 and parameters: {'classifier': 'GradientBoosting', 'n_estimators': 362, 'max_depth': 9}. Best is trial 1 with value: 0.9733333333333333.\n"
     ]
    },
    {
     "name": "stderr",
     "output_type": "stream",
     "text": [
      "Best trial: 1. Best value: 0.973333:  39%|███▉      | 39/100 [00:14<00:21,  2.82it/s]"
     ]
    },
    {
     "name": "stdout",
     "output_type": "stream",
     "text": [
      "[I 2025-02-05 13:15:32,031] Trial 38 finished with value: 0.9666666666666667 and parameters: {'classifier': 'RandomForest', 'n_estimators': 844, 'max_depth': 17}. Best is trial 1 with value: 0.9733333333333333.\n",
      "[I 2025-02-05 13:15:32,051] Trial 39 finished with value: 0.9666666666666667 and parameters: {'classifier': 'KNeighbors', 'n_neighbors': 10}. Best is trial 1 with value: 0.9733333333333333.\n"
     ]
    },
    {
     "name": "stderr",
     "output_type": "stream",
     "text": [
      "Best trial: 1. Best value: 0.973333:  41%|████      | 41/100 [00:14<00:15,  3.92it/s]"
     ]
    },
    {
     "name": "stdout",
     "output_type": "stream",
     "text": [
      "[I 2025-02-05 13:15:32,249] Trial 40 finished with value: 0.9733333333333333 and parameters: {'classifier': 'GradientBoosting', 'n_estimators': 170, 'max_depth': 23}. Best is trial 1 with value: 0.9733333333333333.\n"
     ]
    },
    {
     "name": "stderr",
     "output_type": "stream",
     "text": [
      "Best trial: 1. Best value: 0.973333:  42%|████▏     | 42/100 [00:15<00:17,  3.23it/s]"
     ]
    },
    {
     "name": "stdout",
     "output_type": "stream",
     "text": [
      "[I 2025-02-05 13:15:32,749] Trial 41 finished with value: 0.9666666666666667 and parameters: {'classifier': 'GradientBoosting', 'n_estimators': 628, 'max_depth': 29}. Best is trial 1 with value: 0.9733333333333333.\n"
     ]
    },
    {
     "name": "stderr",
     "output_type": "stream",
     "text": [
      "Best trial: 1. Best value: 0.973333:  43%|████▎     | 43/100 [00:15<00:20,  2.74it/s]"
     ]
    },
    {
     "name": "stdout",
     "output_type": "stream",
     "text": [
      "[I 2025-02-05 13:15:33,284] Trial 42 finished with value: 0.9733333333333333 and parameters: {'classifier': 'GradientBoosting', 'n_estimators': 742, 'max_depth': 31}. Best is trial 1 with value: 0.9733333333333333.\n"
     ]
    },
    {
     "name": "stderr",
     "output_type": "stream",
     "text": [
      "Best trial: 1. Best value: 0.973333:  44%|████▍     | 44/100 [00:16<00:22,  2.53it/s]"
     ]
    },
    {
     "name": "stdout",
     "output_type": "stream",
     "text": [
      "[I 2025-02-05 13:15:33,766] Trial 43 finished with value: 0.9666666666666667 and parameters: {'classifier': 'GradientBoosting', 'n_estimators': 647, 'max_depth': 28}. Best is trial 1 with value: 0.9733333333333333.\n"
     ]
    },
    {
     "name": "stderr",
     "output_type": "stream",
     "text": [
      "Best trial: 1. Best value: 0.973333:  45%|████▌     | 45/100 [00:16<00:21,  2.53it/s]"
     ]
    },
    {
     "name": "stdout",
     "output_type": "stream",
     "text": [
      "[I 2025-02-05 13:15:34,160] Trial 44 finished with value: 0.9733333333333333 and parameters: {'classifier': 'GradientBoosting', 'n_estimators': 509, 'max_depth': 23}. Best is trial 1 with value: 0.9733333333333333.\n"
     ]
    },
    {
     "name": "stderr",
     "output_type": "stream",
     "text": [
      "Best trial: 1. Best value: 0.973333:  46%|████▌     | 46/100 [00:17<00:22,  2.38it/s]"
     ]
    },
    {
     "name": "stdout",
     "output_type": "stream",
     "text": [
      "[I 2025-02-05 13:15:34,650] Trial 45 finished with value: 0.9666666666666667 and parameters: {'classifier': 'RandomForest', 'n_estimators': 849, 'max_depth': 25}. Best is trial 1 with value: 0.9733333333333333.\n"
     ]
    },
    {
     "name": "stderr",
     "output_type": "stream",
     "text": [
      "Best trial: 1. Best value: 0.973333:  48%|████▊     | 48/100 [00:17<00:19,  2.67it/s]"
     ]
    },
    {
     "name": "stdout",
     "output_type": "stream",
     "text": [
      "[I 2025-02-05 13:15:34,907] Trial 46 finished with value: 0.96 and parameters: {'classifier': 'GradientBoosting', 'n_estimators': 262, 'max_depth': 20}. Best is trial 1 with value: 0.9733333333333333.\n",
      "[I 2025-02-05 13:15:34,923] Trial 47 finished with value: 0.32 and parameters: {'classifier': 'SVC', 'C': 1.0522382173341698e-10, 'kernel': 'linear'}. Best is trial 1 with value: 0.9733333333333333.\n",
      "[I 2025-02-05 13:15:34,972] Trial 48 finished with value: 0.9666666666666667 and parameters: {'classifier': 'GradientBoosting', 'n_estimators': 21, 'max_depth': 29}. Best is trial 1 with value: 0.9733333333333333.\n"
     ]
    },
    {
     "name": "stderr",
     "output_type": "stream",
     "text": [
      "Best trial: 53. Best value: 0.986667:  58%|█████▊    | 58/100 [00:18<00:06,  6.69it/s]"
     ]
    },
    {
     "name": "stdout",
     "output_type": "stream",
     "text": [
      "[I 2025-02-05 13:15:35,718] Trial 49 finished with value: 0.9533333333333333 and parameters: {'classifier': 'GradientBoosting', 'n_estimators': 961, 'max_depth': 2}. Best is trial 1 with value: 0.9733333333333333.\n",
      "[I 2025-02-05 13:15:35,735] Trial 50 finished with value: 0.9733333333333333 and parameters: {'classifier': 'KNeighbors', 'n_neighbors': 6}. Best is trial 1 with value: 0.9733333333333333.\n",
      "[I 2025-02-05 13:15:35,753] Trial 51 finished with value: 0.9733333333333333 and parameters: {'classifier': 'KNeighbors', 'n_neighbors': 6}. Best is trial 1 with value: 0.9733333333333333.\n",
      "[I 2025-02-05 13:15:35,770] Trial 52 finished with value: 0.9666666666666667 and parameters: {'classifier': 'KNeighbors', 'n_neighbors': 8}. Best is trial 1 with value: 0.9733333333333333.\n",
      "[I 2025-02-05 13:15:35,787] Trial 53 finished with value: 0.9866666666666667 and parameters: {'classifier': 'KNeighbors', 'n_neighbors': 4}. Best is trial 53 with value: 0.9866666666666667.\n",
      "[I 2025-02-05 13:15:35,809] Trial 54 finished with value: 0.9866666666666667 and parameters: {'classifier': 'KNeighbors', 'n_neighbors': 4}. Best is trial 53 with value: 0.9866666666666667.\n",
      "[I 2025-02-05 13:15:35,846] Trial 55 finished with value: 0.9866666666666667 and parameters: {'classifier': 'KNeighbors', 'n_neighbors': 4}. Best is trial 53 with value: 0.9866666666666667.\n",
      "[I 2025-02-05 13:15:35,864] Trial 56 finished with value: 0.9866666666666667 and parameters: {'classifier': 'KNeighbors', 'n_neighbors': 4}. Best is trial 53 with value: 0.9866666666666667.\n",
      "[I 2025-02-05 13:15:35,883] Trial 57 finished with value: 0.9866666666666667 and parameters: {'classifier': 'KNeighbors', 'n_neighbors': 4}. Best is trial 53 with value: 0.9866666666666667.\n",
      "[I 2025-02-05 13:15:35,903] Trial 58 finished with value: 0.9866666666666667 and parameters: {'classifier': 'KNeighbors', 'n_neighbors': 4}. Best is trial 53 with value: 0.9866666666666667.\n"
     ]
    },
    {
     "name": "stderr",
     "output_type": "stream",
     "text": [
      "Best trial: 53. Best value: 0.986667:  69%|██████▉   | 69/100 [00:18<00:01, 17.30it/s]"
     ]
    },
    {
     "name": "stdout",
     "output_type": "stream",
     "text": [
      "[I 2025-02-05 13:15:35,919] Trial 59 finished with value: 0.9866666666666667 and parameters: {'classifier': 'KNeighbors', 'n_neighbors': 4}. Best is trial 53 with value: 0.9866666666666667.\n",
      "[I 2025-02-05 13:15:35,938] Trial 60 finished with value: 0.9866666666666667 and parameters: {'classifier': 'KNeighbors', 'n_neighbors': 4}. Best is trial 53 with value: 0.9866666666666667.\n",
      "[I 2025-02-05 13:15:35,956] Trial 61 finished with value: 0.9866666666666667 and parameters: {'classifier': 'KNeighbors', 'n_neighbors': 4}. Best is trial 53 with value: 0.9866666666666667.\n",
      "[I 2025-02-05 13:15:35,975] Trial 62 finished with value: 0.9866666666666667 and parameters: {'classifier': 'KNeighbors', 'n_neighbors': 4}. Best is trial 53 with value: 0.9866666666666667.\n",
      "[I 2025-02-05 13:15:35,993] Trial 63 finished with value: 0.9866666666666667 and parameters: {'classifier': 'KNeighbors', 'n_neighbors': 4}. Best is trial 53 with value: 0.9866666666666667.\n",
      "[I 2025-02-05 13:15:36,012] Trial 64 finished with value: 0.9866666666666667 and parameters: {'classifier': 'KNeighbors', 'n_neighbors': 4}. Best is trial 53 with value: 0.9866666666666667.\n",
      "[I 2025-02-05 13:15:36,031] Trial 65 finished with value: 0.9733333333333333 and parameters: {'classifier': 'KNeighbors', 'n_neighbors': 3}. Best is trial 53 with value: 0.9866666666666667.\n",
      "[I 2025-02-05 13:15:36,050] Trial 66 finished with value: 0.98 and parameters: {'classifier': 'KNeighbors', 'n_neighbors': 5}. Best is trial 53 with value: 0.9866666666666667.\n",
      "[I 2025-02-05 13:15:36,070] Trial 67 finished with value: 0.9733333333333333 and parameters: {'classifier': 'KNeighbors', 'n_neighbors': 3}. Best is trial 53 with value: 0.9866666666666667.\n",
      "[I 2025-02-05 13:15:36,089] Trial 68 finished with value: 0.98 and parameters: {'classifier': 'KNeighbors', 'n_neighbors': 5}. Best is trial 53 with value: 0.9866666666666667.\n",
      "[I 2025-02-05 13:15:36,107] Trial 69 finished with value: 0.98 and parameters: {'classifier': 'KNeighbors', 'n_neighbors': 5}. Best is trial 53 with value: 0.9866666666666667.\n"
     ]
    },
    {
     "name": "stderr",
     "output_type": "stream",
     "text": [
      "Best trial: 53. Best value: 0.986667:  78%|███████▊  | 78/100 [00:18<00:00, 27.59it/s]"
     ]
    },
    {
     "name": "stdout",
     "output_type": "stream",
     "text": [
      "[I 2025-02-05 13:15:36,125] Trial 70 finished with value: 0.9733333333333333 and parameters: {'classifier': 'KNeighbors', 'n_neighbors': 3}. Best is trial 53 with value: 0.9866666666666667.\n",
      "[I 2025-02-05 13:15:36,143] Trial 71 finished with value: 0.9866666666666667 and parameters: {'classifier': 'KNeighbors', 'n_neighbors': 4}. Best is trial 53 with value: 0.9866666666666667.\n",
      "[I 2025-02-05 13:15:36,162] Trial 72 finished with value: 0.9866666666666667 and parameters: {'classifier': 'KNeighbors', 'n_neighbors': 4}. Best is trial 53 with value: 0.9866666666666667.\n",
      "[I 2025-02-05 13:15:36,182] Trial 73 finished with value: 0.98 and parameters: {'classifier': 'KNeighbors', 'n_neighbors': 5}. Best is trial 53 with value: 0.9866666666666667.\n",
      "[I 2025-02-05 13:15:36,201] Trial 74 finished with value: 0.9733333333333333 and parameters: {'classifier': 'KNeighbors', 'n_neighbors': 3}. Best is trial 53 with value: 0.9866666666666667.\n",
      "[I 2025-02-05 13:15:36,219] Trial 75 finished with value: 0.9866666666666667 and parameters: {'classifier': 'KNeighbors', 'n_neighbors': 4}. Best is trial 53 with value: 0.9866666666666667.\n",
      "[I 2025-02-05 13:15:36,237] Trial 76 finished with value: 0.98 and parameters: {'classifier': 'KNeighbors', 'n_neighbors': 5}. Best is trial 53 with value: 0.9866666666666667.\n",
      "[I 2025-02-05 13:15:36,259] Trial 77 finished with value: 0.9866666666666667 and parameters: {'classifier': 'KNeighbors', 'n_neighbors': 4}. Best is trial 53 with value: 0.9866666666666667.\n"
     ]
    },
    {
     "name": "stderr",
     "output_type": "stream",
     "text": [
      "Best trial: 53. Best value: 0.986667:  85%|████████▌ | 85/100 [00:19<00:00, 20.31it/s]"
     ]
    },
    {
     "name": "stdout",
     "output_type": "stream",
     "text": [
      "[I 2025-02-05 13:15:36,508] Trial 78 finished with value: 0.9733333333333333 and parameters: {'classifier': 'KNeighbors', 'n_neighbors': 3}. Best is trial 53 with value: 0.9866666666666667.\n",
      "[I 2025-02-05 13:15:36,596] Trial 79 finished with value: 0.9866666666666667 and parameters: {'classifier': 'KNeighbors', 'n_neighbors': 4}. Best is trial 53 with value: 0.9866666666666667.\n",
      "[I 2025-02-05 13:15:36,617] Trial 80 finished with value: 0.98 and parameters: {'classifier': 'KNeighbors', 'n_neighbors': 5}. Best is trial 53 with value: 0.9866666666666667.\n",
      "[I 2025-02-05 13:15:36,640] Trial 81 finished with value: 0.9866666666666667 and parameters: {'classifier': 'KNeighbors', 'n_neighbors': 4}. Best is trial 53 with value: 0.9866666666666667.\n",
      "[I 2025-02-05 13:15:36,659] Trial 82 finished with value: 0.9866666666666667 and parameters: {'classifier': 'KNeighbors', 'n_neighbors': 4}. Best is trial 53 with value: 0.9866666666666667.\n",
      "[I 2025-02-05 13:15:36,678] Trial 83 finished with value: 0.9733333333333333 and parameters: {'classifier': 'KNeighbors', 'n_neighbors': 3}. Best is trial 53 with value: 0.9866666666666667.\n",
      "[I 2025-02-05 13:15:36,699] Trial 84 finished with value: 0.9866666666666667 and parameters: {'classifier': 'KNeighbors', 'n_neighbors': 4}. Best is trial 53 with value: 0.9866666666666667.\n",
      "[I 2025-02-05 13:15:36,721] Trial 85 finished with value: 0.98 and parameters: {'classifier': 'KNeighbors', 'n_neighbors': 5}. Best is trial 53 with value: 0.9866666666666667.\n"
     ]
    },
    {
     "name": "stderr",
     "output_type": "stream",
     "text": [
      "Best trial: 53. Best value: 0.986667:  93%|█████████▎| 93/100 [00:19<00:00, 25.61it/s]"
     ]
    },
    {
     "name": "stdout",
     "output_type": "stream",
     "text": [
      "[I 2025-02-05 13:15:36,762] Trial 86 finished with value: 0.9733333333333333 and parameters: {'classifier': 'KNeighbors', 'n_neighbors': 3}. Best is trial 53 with value: 0.9866666666666667.\n",
      "[I 2025-02-05 13:15:36,783] Trial 87 finished with value: 0.32 and parameters: {'classifier': 'SVC', 'C': 2.2141302325427666e-05, 'kernel': 'linear'}. Best is trial 53 with value: 0.9866666666666667.\n",
      "[I 2025-02-05 13:15:36,834] Trial 88 finished with value: 0.9666666666666667 and parameters: {'classifier': 'RandomForest', 'n_estimators': 33, 'max_depth': 4}. Best is trial 53 with value: 0.9866666666666667.\n",
      "[I 2025-02-05 13:15:36,854] Trial 89 finished with value: 0.9866666666666667 and parameters: {'classifier': 'KNeighbors', 'n_neighbors': 4}. Best is trial 53 with value: 0.9866666666666667.\n",
      "[I 2025-02-05 13:15:36,873] Trial 90 finished with value: 0.9466666666666667 and parameters: {'classifier': 'KNeighbors', 'n_neighbors': 2}. Best is trial 53 with value: 0.9866666666666667.\n",
      "[I 2025-02-05 13:15:36,893] Trial 91 finished with value: 0.9866666666666667 and parameters: {'classifier': 'KNeighbors', 'n_neighbors': 4}. Best is trial 53 with value: 0.9866666666666667.\n",
      "[I 2025-02-05 13:15:36,929] Trial 92 finished with value: 0.9866666666666667 and parameters: {'classifier': 'KNeighbors', 'n_neighbors': 4}. Best is trial 53 with value: 0.9866666666666667.\n",
      "[I 2025-02-05 13:15:36,950] Trial 93 finished with value: 0.9866666666666667 and parameters: {'classifier': 'KNeighbors', 'n_neighbors': 4}. Best is trial 53 with value: 0.9866666666666667.\n"
     ]
    },
    {
     "name": "stderr",
     "output_type": "stream",
     "text": [
      "Best trial: 53. Best value: 0.986667: 100%|██████████| 100/100 [00:19<00:00,  5.10it/s]"
     ]
    },
    {
     "name": "stdout",
     "output_type": "stream",
     "text": [
      "[I 2025-02-05 13:15:36,970] Trial 94 finished with value: 0.9666666666666667 and parameters: {'classifier': 'KNeighbors', 'n_neighbors': 8}. Best is trial 53 with value: 0.9866666666666667.\n",
      "[I 2025-02-05 13:15:36,991] Trial 95 finished with value: 0.98 and parameters: {'classifier': 'KNeighbors', 'n_neighbors': 5}. Best is trial 53 with value: 0.9866666666666667.\n",
      "[I 2025-02-05 13:15:37,011] Trial 96 finished with value: 0.9866666666666667 and parameters: {'classifier': 'KNeighbors', 'n_neighbors': 4}. Best is trial 53 with value: 0.9866666666666667.\n",
      "[I 2025-02-05 13:15:37,030] Trial 97 finished with value: 0.9733333333333333 and parameters: {'classifier': 'KNeighbors', 'n_neighbors': 3}. Best is trial 53 with value: 0.9866666666666667.\n",
      "[I 2025-02-05 13:15:37,051] Trial 98 finished with value: 0.9866666666666667 and parameters: {'classifier': 'KNeighbors', 'n_neighbors': 4}. Best is trial 53 with value: 0.9866666666666667.\n",
      "[I 2025-02-05 13:15:37,070] Trial 99 finished with value: 0.32 and parameters: {'classifier': 'SVC', 'C': 1.9874397891396459e-07, 'kernel': 'linear'}. Best is trial 53 with value: 0.9866666666666667.\n"
     ]
    },
    {
     "name": "stderr",
     "output_type": "stream",
     "text": [
      "\n"
     ]
    }
   ],
   "source": [
    "import optuna\n",
    "# def objective_optuna(trial_):\n",
    "#     classifier_name = trial_.suggest_categorical(\"classifier\", [\n",
    "#         \"SVC\", \"RandomForest\", \"KNeighbors\", \"GradientBoosting\"\n",
    "#     ])\n",
    "#     if classifier_name == \"SVC\":\n",
    "#         svc_c = trial_.suggest_float(\"C\", 1e-10, 1, log=True)\n",
    "#         model = SVC(C=svc_c, kernel=\"linear\")\n",
    "#     elif classifier_name == \"RandomForest\":\n",
    "#         rf_max_depth = trial_.suggest_int(\"rf_max_depth\", 2, 32)\n",
    "#         rf_n_estimators = trial_.suggest_int(\"rf_n_estimators\", 10, 1000)\n",
    "#         model = RandomForestClassifier(\n",
    "#             n_estimators=rf_n_estimators, max_depth=rf_max_depth\n",
    "#         )\n",
    "#     elif classifier_name == \"KNeighbors\":\n",
    "#         knn_n_neighbors = trial_.suggest_int(\"knn_n_neighbors\", 2, 10)\n",
    "#         model = KNeighborsClassifier(n_neighbors=knn_n_neighbors)\n",
    "#     elif classifier_name == \"GradientBoosting\":\n",
    "#         gb_max_depth = trial_.suggest_int(\"gb_max_depth\", 2, 32)\n",
    "#         gb_n_estimators = trial_.suggest_int(\"gb_n_estimators\", 10, 1000)\n",
    "#         model = GradientBoostingClassifier(\n",
    "#             n_estimators=gb_n_estimators, max_depth=gb_max_depth\n",
    "#         )\n",
    "#     else:\n",
    "#         raise ValueError(\"Invalid classifier name\")\n",
    "\n",
    "#     score = cross_val_score(model, x, y, n_jobs=-1, cv=3)\n",
    "#     return score.mean()\n",
    "\n",
    "def objective_optuna(trial_):\n",
    "    model = ss.get_optuna_space(trial_)\n",
    "    score = cross_val_score(model, x, y, n_jobs=-1, cv=3)\n",
    "    return score.mean()\n",
    "\n",
    "study = optuna.create_study(direction=\"maximize\")\n",
    "study.optimize(objective_optuna, n_trials=100, show_progress_bar=True)"
   ]
  },
  {
   "cell_type": "code",
   "execution_count": 7,
   "metadata": {},
   "outputs": [
    {
     "name": "stdout",
     "output_type": "stream",
     "text": [
      "0.9866666666666667 {'classifier': 'KNeighbors', 'n_neighbors': 4}\n",
      "0.9733333333333333 {'classifier': 'GradientBoosting', 'n_estimators': 631, 'max_depth': 32}\n"
     ]
    }
   ],
   "source": [
    "print(study.best_trial.value, study.best_trial.params)\n",
    "print(study.trials[10].value, study.trials[10].params)"
   ]
  }
 ],
 "metadata": {
  "kernelspec": {
   "display_name": "causaltune-env",
   "language": "python",
   "name": "python3"
  },
  "language_info": {
   "codemirror_mode": {
    "name": "ipython",
    "version": 3
   },
   "file_extension": ".py",
   "mimetype": "text/x-python",
   "name": "python",
   "nbconvert_exporter": "python",
   "pygments_lexer": "ipython3",
   "version": "3.9.21"
  }
 },
 "nbformat": 4,
 "nbformat_minor": 2
}
